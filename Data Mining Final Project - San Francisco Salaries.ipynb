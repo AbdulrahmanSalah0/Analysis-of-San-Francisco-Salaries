{
 "cells": [
  {
   "cell_type": "code",
   "execution_count": 1,
   "id": "fefe8656",
   "metadata": {},
   "outputs": [
    {
     "data": {
      "text/html": [
       "        <script type=\"text/javascript\">\n",
       "        window.PlotlyConfig = {MathJaxConfig: 'local'};\n",
       "        if (window.MathJax && window.MathJax.Hub && window.MathJax.Hub.Config) {window.MathJax.Hub.Config({SVG: {font: \"STIX-Web\"}});}\n",
       "        if (typeof require !== 'undefined') {\n",
       "        require.undef(\"plotly\");\n",
       "        requirejs.config({\n",
       "            paths: {\n",
       "                'plotly': ['https://cdn.plot.ly/plotly-2.12.1.min']\n",
       "            }\n",
       "        });\n",
       "        require(['plotly'], function(Plotly) {\n",
       "            window._Plotly = Plotly;\n",
       "        });\n",
       "        }\n",
       "        </script>\n",
       "        "
      ]
     },
     "metadata": {},
     "output_type": "display_data"
    },
    {
     "data": {
      "text/html": [
       "        <script type=\"text/javascript\">\n",
       "        window.PlotlyConfig = {MathJaxConfig: 'local'};\n",
       "        if (window.MathJax && window.MathJax.Hub && window.MathJax.Hub.Config) {window.MathJax.Hub.Config({SVG: {font: \"STIX-Web\"}});}\n",
       "        if (typeof require !== 'undefined') {\n",
       "        require.undef(\"plotly\");\n",
       "        requirejs.config({\n",
       "            paths: {\n",
       "                'plotly': ['https://cdn.plot.ly/plotly-2.12.1.min']\n",
       "            }\n",
       "        });\n",
       "        require(['plotly'], function(Plotly) {\n",
       "            window._Plotly = Plotly;\n",
       "        });\n",
       "        }\n",
       "        </script>\n",
       "        "
      ]
     },
     "metadata": {},
     "output_type": "display_data"
    }
   ],
   "source": [
    "# First Import our  Libraries \n",
    "import numpy as np \n",
    "import seaborn as sns\n",
    "import plotly.express as px\n",
    "import matplotlib.pyplot as plt\n",
    "import pandas as pd\n",
    "\n",
    "# !pip install cufflinks\n",
    "# This line installs the Cufflinks library, \n",
    "# which is a library that integrates Plotly with Pandas. \n",
    "# Cufflinks provides a convenient way \n",
    "# to create interactive plots directly from Pandas data structures.\n",
    "\n",
    "%matplotlib inline\n",
    "plt.rcParams['patch.force_edgecolor']=True\n",
    "\n",
    "from plotly.offline import download_plotlyjs, init_notebook_mode, plot, iplot\n",
    "import cufflinks as cf\n",
    "init_notebook_mode(connected=True)\n",
    "cf.go_offline()\n",
    "import plotly.graph_objs as go"
   ]
  },
  {
   "cell_type": "code",
   "execution_count": 2,
   "id": "06ee1444",
   "metadata": {},
   "outputs": [
    {
     "name": "stderr",
     "output_type": "stream",
     "text": [
      "C:\\Users\\dell\\AppData\\Local\\Temp\\ipykernel_25880\\619465936.py:2: DtypeWarning:\n",
      "\n",
      "Columns (2,3,4,5) have mixed types. Specify dtype option on import or set low_memory=False.\n",
      "\n"
     ]
    }
   ],
   "source": [
    "# import our data \n",
    "df = pd.read_csv(\"Salaries for San Francisco Employee.csv\")"
   ]
  },
  {
   "cell_type": "code",
   "execution_count": 3,
   "id": "ec6d3b8c",
   "metadata": {},
   "outputs": [
    {
     "name": "stdout",
     "output_type": "stream",
     "text": [
      "<class 'pandas.core.frame.DataFrame'>\n",
      "RangeIndex: 312882 entries, 0 to 312881\n",
      "Data columns (total 9 columns):\n",
      " #   Column            Non-Null Count   Dtype  \n",
      "---  ------            --------------   -----  \n",
      " 0   EmployeeName      312882 non-null  object \n",
      " 1   JobTitle          312882 non-null  object \n",
      " 2   BasePay           312882 non-null  object \n",
      " 3   OvertimePay       312882 non-null  object \n",
      " 4   OtherPay          312882 non-null  object \n",
      " 5   Benefits          312882 non-null  object \n",
      " 6   TotalPay          312882 non-null  float64\n",
      " 7   TotalPayBenefits  312882 non-null  float64\n",
      " 8   Year              312882 non-null  int64  \n",
      "dtypes: float64(2), int64(1), object(6)\n",
      "memory usage: 21.5+ MB\n"
     ]
    },
    {
     "data": {
      "text/html": [
       "<div>\n",
       "<style scoped>\n",
       "    .dataframe tbody tr th:only-of-type {\n",
       "        vertical-align: middle;\n",
       "    }\n",
       "\n",
       "    .dataframe tbody tr th {\n",
       "        vertical-align: top;\n",
       "    }\n",
       "\n",
       "    .dataframe thead th {\n",
       "        text-align: right;\n",
       "    }\n",
       "</style>\n",
       "<table border=\"1\" class=\"dataframe\">\n",
       "  <thead>\n",
       "    <tr style=\"text-align: right;\">\n",
       "      <th></th>\n",
       "      <th>EmployeeName</th>\n",
       "      <th>JobTitle</th>\n",
       "      <th>BasePay</th>\n",
       "      <th>OvertimePay</th>\n",
       "      <th>OtherPay</th>\n",
       "      <th>Benefits</th>\n",
       "      <th>TotalPay</th>\n",
       "      <th>TotalPayBenefits</th>\n",
       "      <th>Year</th>\n",
       "    </tr>\n",
       "  </thead>\n",
       "  <tbody>\n",
       "    <tr>\n",
       "      <th>0</th>\n",
       "      <td>NATHANIEL FORD</td>\n",
       "      <td>GENERAL MANAGER-METROPOLITAN TRANSIT AUTHORITY</td>\n",
       "      <td>167411.18</td>\n",
       "      <td>0.0</td>\n",
       "      <td>400184.25</td>\n",
       "      <td>Not Provided</td>\n",
       "      <td>567595.43</td>\n",
       "      <td>567595.43</td>\n",
       "      <td>2011</td>\n",
       "    </tr>\n",
       "    <tr>\n",
       "      <th>1</th>\n",
       "      <td>GARY JIMENEZ</td>\n",
       "      <td>CAPTAIN III (POLICE DEPARTMENT)</td>\n",
       "      <td>155966.02</td>\n",
       "      <td>245131.88</td>\n",
       "      <td>137811.38</td>\n",
       "      <td>Not Provided</td>\n",
       "      <td>538909.28</td>\n",
       "      <td>538909.28</td>\n",
       "      <td>2011</td>\n",
       "    </tr>\n",
       "    <tr>\n",
       "      <th>2</th>\n",
       "      <td>ALBERT PARDINI</td>\n",
       "      <td>CAPTAIN III (POLICE DEPARTMENT)</td>\n",
       "      <td>212739.13</td>\n",
       "      <td>106088.18</td>\n",
       "      <td>16452.6</td>\n",
       "      <td>Not Provided</td>\n",
       "      <td>335279.91</td>\n",
       "      <td>335279.91</td>\n",
       "      <td>2011</td>\n",
       "    </tr>\n",
       "    <tr>\n",
       "      <th>3</th>\n",
       "      <td>CHRISTOPHER CHONG</td>\n",
       "      <td>WIRE ROPE CABLE MAINTENANCE MECHANIC</td>\n",
       "      <td>77916.0</td>\n",
       "      <td>56120.71</td>\n",
       "      <td>198306.9</td>\n",
       "      <td>Not Provided</td>\n",
       "      <td>332343.61</td>\n",
       "      <td>332343.61</td>\n",
       "      <td>2011</td>\n",
       "    </tr>\n",
       "    <tr>\n",
       "      <th>4</th>\n",
       "      <td>PATRICK GARDNER</td>\n",
       "      <td>DEPUTY CHIEF OF DEPARTMENT,(FIRE DEPARTMENT)</td>\n",
       "      <td>134401.6</td>\n",
       "      <td>9737.0</td>\n",
       "      <td>182234.59</td>\n",
       "      <td>Not Provided</td>\n",
       "      <td>326373.19</td>\n",
       "      <td>326373.19</td>\n",
       "      <td>2011</td>\n",
       "    </tr>\n",
       "  </tbody>\n",
       "</table>\n",
       "</div>"
      ],
      "text/plain": [
       "        EmployeeName                                        JobTitle  \\\n",
       "0     NATHANIEL FORD  GENERAL MANAGER-METROPOLITAN TRANSIT AUTHORITY   \n",
       "1       GARY JIMENEZ                 CAPTAIN III (POLICE DEPARTMENT)   \n",
       "2     ALBERT PARDINI                 CAPTAIN III (POLICE DEPARTMENT)   \n",
       "3  CHRISTOPHER CHONG            WIRE ROPE CABLE MAINTENANCE MECHANIC   \n",
       "4    PATRICK GARDNER    DEPUTY CHIEF OF DEPARTMENT,(FIRE DEPARTMENT)   \n",
       "\n",
       "     BasePay OvertimePay   OtherPay      Benefits   TotalPay  \\\n",
       "0  167411.18         0.0  400184.25  Not Provided  567595.43   \n",
       "1  155966.02   245131.88  137811.38  Not Provided  538909.28   \n",
       "2  212739.13   106088.18    16452.6  Not Provided  335279.91   \n",
       "3    77916.0    56120.71   198306.9  Not Provided  332343.61   \n",
       "4   134401.6      9737.0  182234.59  Not Provided  326373.19   \n",
       "\n",
       "   TotalPayBenefits  Year  \n",
       "0         567595.43  2011  \n",
       "1         538909.28  2011  \n",
       "2         335279.91  2011  \n",
       "3         332343.61  2011  \n",
       "4         326373.19  2011  "
      ]
     },
     "execution_count": 3,
     "metadata": {},
     "output_type": "execute_result"
    }
   ],
   "source": [
    "## display and  Overview of our data \n",
    "df.info()\n",
    "df.head()"
   ]
  },
  {
   "cell_type": "code",
   "execution_count": 4,
   "id": "31b158f1",
   "metadata": {},
   "outputs": [],
   "source": [
    "#Some consideration of the data.\n",
    "#We have some data stored in object format and we need to convert it to a float format to deal with it.\n",
    "series_list = ['BasePay', 'OvertimePay', 'OtherPay', 'Benefits']\n",
    "for series in series_list:\n",
    "    df[series] = pd.to_numeric(df[series], errors='coerce')\n",
    "\n"
   ]
  },
  {
   "cell_type": "code",
   "execution_count": 5,
   "id": "cf0585cf",
   "metadata": {
    "scrolled": false
   },
   "outputs": [
    {
     "name": "stdout",
     "output_type": "stream",
     "text": [
      "<class 'pandas.core.frame.DataFrame'>\n",
      "RangeIndex: 312882 entries, 0 to 312881\n",
      "Data columns (total 9 columns):\n",
      " #   Column            Non-Null Count   Dtype  \n",
      "---  ------            --------------   -----  \n",
      " 0   EmployeeName      312882 non-null  object \n",
      " 1   JobTitle          312882 non-null  object \n",
      " 2   BasePay           312276 non-null  float64\n",
      " 3   OvertimePay       312881 non-null  float64\n",
      " 4   OtherPay          312881 non-null  float64\n",
      " 5   Benefits          276722 non-null  float64\n",
      " 6   TotalPay          312882 non-null  float64\n",
      " 7   TotalPayBenefits  312882 non-null  float64\n",
      " 8   Year              312882 non-null  int64  \n",
      "dtypes: float64(6), int64(1), object(2)\n",
      "memory usage: 21.5+ MB\n"
     ]
    },
    {
     "data": {
      "text/html": [
       "<div>\n",
       "<style scoped>\n",
       "    .dataframe tbody tr th:only-of-type {\n",
       "        vertical-align: middle;\n",
       "    }\n",
       "\n",
       "    .dataframe tbody tr th {\n",
       "        vertical-align: top;\n",
       "    }\n",
       "\n",
       "    .dataframe thead th {\n",
       "        text-align: right;\n",
       "    }\n",
       "</style>\n",
       "<table border=\"1\" class=\"dataframe\">\n",
       "  <thead>\n",
       "    <tr style=\"text-align: right;\">\n",
       "      <th></th>\n",
       "      <th>EmployeeName</th>\n",
       "      <th>JobTitle</th>\n",
       "      <th>BasePay</th>\n",
       "      <th>OvertimePay</th>\n",
       "      <th>OtherPay</th>\n",
       "      <th>Benefits</th>\n",
       "      <th>TotalPay</th>\n",
       "      <th>TotalPayBenefits</th>\n",
       "      <th>Year</th>\n",
       "    </tr>\n",
       "  </thead>\n",
       "  <tbody>\n",
       "    <tr>\n",
       "      <th>0</th>\n",
       "      <td>NATHANIEL FORD</td>\n",
       "      <td>GENERAL MANAGER-METROPOLITAN TRANSIT AUTHORITY</td>\n",
       "      <td>167411.18</td>\n",
       "      <td>0.00</td>\n",
       "      <td>400184.25</td>\n",
       "      <td>NaN</td>\n",
       "      <td>567595.43</td>\n",
       "      <td>567595.43</td>\n",
       "      <td>2011</td>\n",
       "    </tr>\n",
       "    <tr>\n",
       "      <th>1</th>\n",
       "      <td>GARY JIMENEZ</td>\n",
       "      <td>CAPTAIN III (POLICE DEPARTMENT)</td>\n",
       "      <td>155966.02</td>\n",
       "      <td>245131.88</td>\n",
       "      <td>137811.38</td>\n",
       "      <td>NaN</td>\n",
       "      <td>538909.28</td>\n",
       "      <td>538909.28</td>\n",
       "      <td>2011</td>\n",
       "    </tr>\n",
       "    <tr>\n",
       "      <th>2</th>\n",
       "      <td>ALBERT PARDINI</td>\n",
       "      <td>CAPTAIN III (POLICE DEPARTMENT)</td>\n",
       "      <td>212739.13</td>\n",
       "      <td>106088.18</td>\n",
       "      <td>16452.60</td>\n",
       "      <td>NaN</td>\n",
       "      <td>335279.91</td>\n",
       "      <td>335279.91</td>\n",
       "      <td>2011</td>\n",
       "    </tr>\n",
       "    <tr>\n",
       "      <th>3</th>\n",
       "      <td>CHRISTOPHER CHONG</td>\n",
       "      <td>WIRE ROPE CABLE MAINTENANCE MECHANIC</td>\n",
       "      <td>77916.00</td>\n",
       "      <td>56120.71</td>\n",
       "      <td>198306.90</td>\n",
       "      <td>NaN</td>\n",
       "      <td>332343.61</td>\n",
       "      <td>332343.61</td>\n",
       "      <td>2011</td>\n",
       "    </tr>\n",
       "    <tr>\n",
       "      <th>4</th>\n",
       "      <td>PATRICK GARDNER</td>\n",
       "      <td>DEPUTY CHIEF OF DEPARTMENT,(FIRE DEPARTMENT)</td>\n",
       "      <td>134401.60</td>\n",
       "      <td>9737.00</td>\n",
       "      <td>182234.59</td>\n",
       "      <td>NaN</td>\n",
       "      <td>326373.19</td>\n",
       "      <td>326373.19</td>\n",
       "      <td>2011</td>\n",
       "    </tr>\n",
       "  </tbody>\n",
       "</table>\n",
       "</div>"
      ],
      "text/plain": [
       "        EmployeeName                                        JobTitle  \\\n",
       "0     NATHANIEL FORD  GENERAL MANAGER-METROPOLITAN TRANSIT AUTHORITY   \n",
       "1       GARY JIMENEZ                 CAPTAIN III (POLICE DEPARTMENT)   \n",
       "2     ALBERT PARDINI                 CAPTAIN III (POLICE DEPARTMENT)   \n",
       "3  CHRISTOPHER CHONG            WIRE ROPE CABLE MAINTENANCE MECHANIC   \n",
       "4    PATRICK GARDNER    DEPUTY CHIEF OF DEPARTMENT,(FIRE DEPARTMENT)   \n",
       "\n",
       "     BasePay  OvertimePay   OtherPay  Benefits   TotalPay  TotalPayBenefits  \\\n",
       "0  167411.18         0.00  400184.25       NaN  567595.43         567595.43   \n",
       "1  155966.02    245131.88  137811.38       NaN  538909.28         538909.28   \n",
       "2  212739.13    106088.18   16452.60       NaN  335279.91         335279.91   \n",
       "3   77916.00     56120.71  198306.90       NaN  332343.61         332343.61   \n",
       "4  134401.60      9737.00  182234.59       NaN  326373.19         326373.19   \n",
       "\n",
       "   Year  \n",
       "0  2011  \n",
       "1  2011  \n",
       "2  2011  \n",
       "3  2011  \n",
       "4  2011  "
      ]
     },
     "execution_count": 5,
     "metadata": {},
     "output_type": "execute_result"
    }
   ],
   "source": [
    "## display and  Overview of our data \n",
    "df.info()\n",
    "df.describe()\n",
    "df.head()"
   ]
  },
  {
   "cell_type": "code",
   "execution_count": 6,
   "id": "a89592da",
   "metadata": {},
   "outputs": [
    {
     "data": {
      "image/png": "[encoded data removed]",
      "text/plain": [
       "<Figure size 640x480 with 1 Axes>"
      ]
     },
     "metadata": {},
     "output_type": "display_data"
    }
   ],
   "source": [
    "sns.heatmap(df.isnull(), yticklabels=False, cbar=False);\n"
   ]
  },
  {
   "cell_type": "code",
   "execution_count": 7,
   "id": "28683c15",
   "metadata": {},
   "outputs": [
    {
     "name": "stderr",
     "output_type": "stream",
     "text": [
      "C:\\Users\\dell\\anaconda3\\lib\\site-packages\\seaborn\\distributions.py:2619: FutureWarning:\n",
      "\n",
      "`distplot` is a deprecated function and will be removed in a future version. Please adapt your code to use either `displot` (a figure-level function with similar flexibility) or `histplot` (an axes-level function for histograms).\n",
      "\n"
     ]
    },
    {
     "data": {
      "image/png": "[encoded data removed]",
      "text/plain": [
       "<Figure size 640x480 with 1 Axes>"
      ]
     },
     "metadata": {},
     "output_type": "display_data"
    }
   ],
   "source": [
    "#plt.hist(df[\"BasePay\"])\n",
    "sns.distplot(df['BasePay']);"
   ]
  },
  {
   "cell_type": "code",
   "execution_count": 8,
   "id": "b11d9c69",
   "metadata": {},
   "outputs": [],
   "source": [
    "df = df[np.isfinite(df['BasePay'])]"
   ]
  },
  {
   "cell_type": "code",
   "execution_count": 9,
   "id": "befbfda4",
   "metadata": {},
   "outputs": [
    {
     "data": {
      "image/png": "[encoded data removed]",
      "text/plain": [
       "<Figure size 640x480 with 1 Axes>"
      ]
     },
     "metadata": {},
     "output_type": "display_data"
    }
   ],
   "source": [
    "sns.heatmap(df.isnull(), yticklabels=False, cbar=False);\n"
   ]
  },
  {
   "cell_type": "code",
   "execution_count": 10,
   "id": "bc356dfa",
   "metadata": {},
   "outputs": [
    {
     "name": "stderr",
     "output_type": "stream",
     "text": [
      "C:\\Users\\dell\\anaconda3\\lib\\site-packages\\seaborn\\distributions.py:2619: FutureWarning:\n",
      "\n",
      "`distplot` is a deprecated function and will be removed in a future version. Please adapt your code to use either `displot` (a figure-level function with similar flexibility) or `histplot` (an axes-level function for histograms).\n",
      "\n"
     ]
    },
    {
     "data": {
      "image/png": "[encoded data removed]",
      "text/plain": [
       "<Figure size 640x480 with 1 Axes>"
      ]
     },
     "metadata": {},
     "output_type": "display_data"
    }
   ],
   "source": [
    "sns.distplot(df['Benefits'].dropna());\n",
    "    "
   ]
  },
  {
   "cell_type": "code",
   "execution_count": 11,
   "id": "85887c8c",
   "metadata": {},
   "outputs": [],
   "source": [
    "#We decide, that with a distribution like this, it is a good idea to fill the Nan benefits values with the mean values.\n",
    "df['Benefits']=df['Benefits'].fillna(value=df['Benefits'].mean())\n"
   ]
  },
  {
   "cell_type": "code",
   "execution_count": 12,
   "id": "73329c61",
   "metadata": {},
   "outputs": [
    {
     "data": {
      "image/png": "[encoded data removed]",
      "text/plain": [
       "<Figure size 640x480 with 1 Axes>"
      ]
     },
     "metadata": {},
     "output_type": "display_data"
    }
   ],
   "source": [
    "sns.heatmap(df.isnull(), yticklabels=False, cbar=False);\n"
   ]
  },
  {
   "cell_type": "code",
   "execution_count": 13,
   "id": "4bb56596",
   "metadata": {},
   "outputs": [
    {
     "data": {
      "text/html": [
       "<div>\n",
       "<style scoped>\n",
       "    .dataframe tbody tr th:only-of-type {\n",
       "        vertical-align: middle;\n",
       "    }\n",
       "\n",
       "    .dataframe tbody tr th {\n",
       "        vertical-align: top;\n",
       "    }\n",
       "\n",
       "    .dataframe thead th {\n",
       "        text-align: right;\n",
       "    }\n",
       "</style>\n",
       "<table border=\"1\" class=\"dataframe\">\n",
       "  <thead>\n",
       "    <tr style=\"text-align: right;\">\n",
       "      <th></th>\n",
       "      <th>EmployeeName</th>\n",
       "      <th>JobTitle</th>\n",
       "      <th>BasePay</th>\n",
       "      <th>OvertimePay</th>\n",
       "      <th>OtherPay</th>\n",
       "      <th>Benefits</th>\n",
       "      <th>TotalPay</th>\n",
       "      <th>TotalPayBenefits</th>\n",
       "      <th>Year</th>\n",
       "    </tr>\n",
       "  </thead>\n",
       "  <tbody>\n",
       "    <tr>\n",
       "      <th>0</th>\n",
       "      <td>NATHANIEL FORD</td>\n",
       "      <td>GENERAL MANAGER-METROPOLITAN TRANSIT AUTHORITY</td>\n",
       "      <td>167411.18</td>\n",
       "      <td>0.00</td>\n",
       "      <td>400184.25</td>\n",
       "      <td>25060.072463</td>\n",
       "      <td>567595.43</td>\n",
       "      <td>567595.43</td>\n",
       "      <td>2011</td>\n",
       "    </tr>\n",
       "    <tr>\n",
       "      <th>1</th>\n",
       "      <td>GARY JIMENEZ</td>\n",
       "      <td>CAPTAIN III (POLICE DEPARTMENT)</td>\n",
       "      <td>155966.02</td>\n",
       "      <td>245131.88</td>\n",
       "      <td>137811.38</td>\n",
       "      <td>25060.072463</td>\n",
       "      <td>538909.28</td>\n",
       "      <td>538909.28</td>\n",
       "      <td>2011</td>\n",
       "    </tr>\n",
       "    <tr>\n",
       "      <th>2</th>\n",
       "      <td>ALBERT PARDINI</td>\n",
       "      <td>CAPTAIN III (POLICE DEPARTMENT)</td>\n",
       "      <td>212739.13</td>\n",
       "      <td>106088.18</td>\n",
       "      <td>16452.60</td>\n",
       "      <td>25060.072463</td>\n",
       "      <td>335279.91</td>\n",
       "      <td>335279.91</td>\n",
       "      <td>2011</td>\n",
       "    </tr>\n",
       "    <tr>\n",
       "      <th>3</th>\n",
       "      <td>CHRISTOPHER CHONG</td>\n",
       "      <td>WIRE ROPE CABLE MAINTENANCE MECHANIC</td>\n",
       "      <td>77916.00</td>\n",
       "      <td>56120.71</td>\n",
       "      <td>198306.90</td>\n",
       "      <td>25060.072463</td>\n",
       "      <td>332343.61</td>\n",
       "      <td>332343.61</td>\n",
       "      <td>2011</td>\n",
       "    </tr>\n",
       "    <tr>\n",
       "      <th>4</th>\n",
       "      <td>PATRICK GARDNER</td>\n",
       "      <td>DEPUTY CHIEF OF DEPARTMENT,(FIRE DEPARTMENT)</td>\n",
       "      <td>134401.60</td>\n",
       "      <td>9737.00</td>\n",
       "      <td>182234.59</td>\n",
       "      <td>25060.072463</td>\n",
       "      <td>326373.19</td>\n",
       "      <td>326373.19</td>\n",
       "      <td>2011</td>\n",
       "    </tr>\n",
       "  </tbody>\n",
       "</table>\n",
       "</div>"
      ],
      "text/plain": [
       "        EmployeeName                                        JobTitle  \\\n",
       "0     NATHANIEL FORD  GENERAL MANAGER-METROPOLITAN TRANSIT AUTHORITY   \n",
       "1       GARY JIMENEZ                 CAPTAIN III (POLICE DEPARTMENT)   \n",
       "2     ALBERT PARDINI                 CAPTAIN III (POLICE DEPARTMENT)   \n",
       "3  CHRISTOPHER CHONG            WIRE ROPE CABLE MAINTENANCE MECHANIC   \n",
       "4    PATRICK GARDNER    DEPUTY CHIEF OF DEPARTMENT,(FIRE DEPARTMENT)   \n",
       "\n",
       "     BasePay  OvertimePay   OtherPay      Benefits   TotalPay  \\\n",
       "0  167411.18         0.00  400184.25  25060.072463  567595.43   \n",
       "1  155966.02    245131.88  137811.38  25060.072463  538909.28   \n",
       "2  212739.13    106088.18   16452.60  25060.072463  335279.91   \n",
       "3   77916.00     56120.71  198306.90  25060.072463  332343.61   \n",
       "4  134401.60      9737.00  182234.59  25060.072463  326373.19   \n",
       "\n",
       "   TotalPayBenefits  Year  \n",
       "0         567595.43  2011  \n",
       "1         538909.28  2011  \n",
       "2         335279.91  2011  \n",
       "3         332343.61  2011  \n",
       "4         326373.19  2011  "
      ]
     },
     "execution_count": 13,
     "metadata": {},
     "output_type": "execute_result"
    }
   ],
   "source": [
    "#Looking at our clean data\n",
    "df.head()\n"
   ]
  },
  {
   "cell_type": "code",
   "execution_count": 14,
   "id": "b8ee41e3",
   "metadata": {},
   "outputs": [
    {
     "name": "stdout",
     "output_type": "stream",
     "text": [
      "<class 'pandas.core.frame.DataFrame'>\n",
      "Int64Index: 312276 entries, 0 to 312881\n",
      "Data columns (total 9 columns):\n",
      " #   Column            Non-Null Count   Dtype  \n",
      "---  ------            --------------   -----  \n",
      " 0   EmployeeName      312276 non-null  object \n",
      " 1   JobTitle          312276 non-null  object \n",
      " 2   BasePay           312276 non-null  float64\n",
      " 3   OvertimePay       312276 non-null  float64\n",
      " 4   OtherPay          312276 non-null  float64\n",
      " 5   Benefits          312276 non-null  float64\n",
      " 6   TotalPay          312276 non-null  float64\n",
      " 7   TotalPayBenefits  312276 non-null  float64\n",
      " 8   Year              312276 non-null  int64  \n",
      "dtypes: float64(6), int64(1), object(2)\n",
      "memory usage: 23.8+ MB\n"
     ]
    }
   ],
   "source": [
    "df.info()\n"
   ]
  },
  {
   "cell_type": "code",
   "execution_count": 15,
   "id": "d51395e2",
   "metadata": {},
   "outputs": [
    {
     "data": {
      "text/html": [
       "<div>\n",
       "<style scoped>\n",
       "    .dataframe tbody tr th:only-of-type {\n",
       "        vertical-align: middle;\n",
       "    }\n",
       "\n",
       "    .dataframe tbody tr th {\n",
       "        vertical-align: top;\n",
       "    }\n",
       "\n",
       "    .dataframe thead th {\n",
       "        text-align: right;\n",
       "    }\n",
       "</style>\n",
       "<table border=\"1\" class=\"dataframe\">\n",
       "  <thead>\n",
       "    <tr style=\"text-align: right;\">\n",
       "      <th></th>\n",
       "      <th>BasePay</th>\n",
       "      <th>OvertimePay</th>\n",
       "      <th>OtherPay</th>\n",
       "      <th>Benefits</th>\n",
       "      <th>TotalPay</th>\n",
       "      <th>TotalPayBenefits</th>\n",
       "      <th>Year</th>\n",
       "    </tr>\n",
       "  </thead>\n",
       "  <tbody>\n",
       "    <tr>\n",
       "      <th>count</th>\n",
       "      <td>312276.000000</td>\n",
       "      <td>312276.000000</td>\n",
       "      <td>312276.000000</td>\n",
       "      <td>312276.000000</td>\n",
       "      <td>312276.000000</td>\n",
       "      <td>312276.000000</td>\n",
       "      <td>312276.000000</td>\n",
       "    </tr>\n",
       "    <tr>\n",
       "      <th>mean</th>\n",
       "      <td>69808.257496</td>\n",
       "      <td>5679.901872</td>\n",
       "      <td>3458.858153</td>\n",
       "      <td>25060.072463</td>\n",
       "      <td>78947.017521</td>\n",
       "      <td>101105.339096</td>\n",
       "      <td>2014.628447</td>\n",
       "    </tr>\n",
       "    <tr>\n",
       "      <th>std</th>\n",
       "      <td>45376.929428</td>\n",
       "      <td>12755.555087</td>\n",
       "      <td>7366.697345</td>\n",
       "      <td>14176.580329</td>\n",
       "      <td>53177.471120</td>\n",
       "      <td>66424.929512</td>\n",
       "      <td>2.292001</td>\n",
       "    </tr>\n",
       "    <tr>\n",
       "      <th>min</th>\n",
       "      <td>-474.400000</td>\n",
       "      <td>-292.800000</td>\n",
       "      <td>-7058.590000</td>\n",
       "      <td>-13939.420000</td>\n",
       "      <td>-618.130000</td>\n",
       "      <td>-3628.780000</td>\n",
       "      <td>2011.000000</td>\n",
       "    </tr>\n",
       "    <tr>\n",
       "      <th>25%</th>\n",
       "      <td>35722.365000</td>\n",
       "      <td>0.000000</td>\n",
       "      <td>0.000000</td>\n",
       "      <td>17004.347500</td>\n",
       "      <td>39212.180000</td>\n",
       "      <td>49466.777500</td>\n",
       "      <td>2013.000000</td>\n",
       "    </tr>\n",
       "    <tr>\n",
       "      <th>50%</th>\n",
       "      <td>67710.450000</td>\n",
       "      <td>0.000000</td>\n",
       "      <td>729.845000</td>\n",
       "      <td>26797.080000</td>\n",
       "      <td>75010.325000</td>\n",
       "      <td>100147.285000</td>\n",
       "      <td>2015.000000</td>\n",
       "    </tr>\n",
       "    <tr>\n",
       "      <th>75%</th>\n",
       "      <td>99312.302500</td>\n",
       "      <td>5245.360000</td>\n",
       "      <td>3958.680000</td>\n",
       "      <td>34306.710000</td>\n",
       "      <td>111500.592500</td>\n",
       "      <td>142481.830000</td>\n",
       "      <td>2017.000000</td>\n",
       "    </tr>\n",
       "    <tr>\n",
       "      <th>max</th>\n",
       "      <td>592394.340000</td>\n",
       "      <td>309481.030000</td>\n",
       "      <td>400184.250000</td>\n",
       "      <td>125891.730000</td>\n",
       "      <td>592394.340000</td>\n",
       "      <td>712802.360000</td>\n",
       "      <td>2018.000000</td>\n",
       "    </tr>\n",
       "  </tbody>\n",
       "</table>\n",
       "</div>"
      ],
      "text/plain": [
       "             BasePay    OvertimePay       OtherPay       Benefits  \\\n",
       "count  312276.000000  312276.000000  312276.000000  312276.000000   \n",
       "mean    69808.257496    5679.901872    3458.858153   25060.072463   \n",
       "std     45376.929428   12755.555087    7366.697345   14176.580329   \n",
       "min      -474.400000    -292.800000   -7058.590000  -13939.420000   \n",
       "25%     35722.365000       0.000000       0.000000   17004.347500   \n",
       "50%     67710.450000       0.000000     729.845000   26797.080000   \n",
       "75%     99312.302500    5245.360000    3958.680000   34306.710000   \n",
       "max    592394.340000  309481.030000  400184.250000  125891.730000   \n",
       "\n",
       "            TotalPay  TotalPayBenefits           Year  \n",
       "count  312276.000000     312276.000000  312276.000000  \n",
       "mean    78947.017521     101105.339096    2014.628447  \n",
       "std     53177.471120      66424.929512       2.292001  \n",
       "min      -618.130000      -3628.780000    2011.000000  \n",
       "25%     39212.180000      49466.777500    2013.000000  \n",
       "50%     75010.325000     100147.285000    2015.000000  \n",
       "75%    111500.592500     142481.830000    2017.000000  \n",
       "max    592394.340000     712802.360000    2018.000000  "
      ]
     },
     "execution_count": 15,
     "metadata": {},
     "output_type": "execute_result"
    }
   ],
   "source": [
    "df.describe()"
   ]
  },
  {
   "cell_type": "code",
   "execution_count": 16,
   "id": "63d9c523",
   "metadata": {},
   "outputs": [],
   "source": [
    "#I use the very convenient job title bin function from https://www.kaggle.com/mevanoff24/data-exploration-predicting-salaries\n",
    "\n",
    "# By executing this code, the 'JobTitle' column in df is mapped to \n",
    "# a broader job category based on the defined keywords in the findJobTitle() function.\n",
    "\n",
    "# This process allows you to group similar job titles into more general categories, \n",
    "# which can be useful for aggregating and analyzing data at a higher level of granularity.\n",
    "\n",
    "def findJobTitle(row):\n",
    "    \n",
    "    police_title = ['police', 'sherif', 'probation', 'sergeant', 'officer', 'lieutenant']\n",
    "    fire_title = ['fire']\n",
    "    transit_title = ['mta', 'transit']\n",
    "    medical_title = ['anesth', 'medical', 'nurs', 'health', 'physician', 'orthopedic', 'pharm', 'care']\n",
    "    court_title = ['court', 'legal']\n",
    "    automotive_title = ['automotive', 'mechanic', 'truck']\n",
    "    engineer_title = ['engineer', 'engr', 'eng', 'program']\n",
    "    general_laborer_title = ['general laborer', 'painter', 'inspector', 'carpenter', \n",
    "                             'electrician', 'plumber', 'maintenance']\n",
    "    aide_title = ['aide', 'assistant', 'secretary', 'attendant']\n",
    "    \n",
    "    for police in police_title:\n",
    "        if police in row.lower():\n",
    "            return 'police'    \n",
    "    for fire in fire_title:\n",
    "        if fire in row.lower():\n",
    "            return 'fire'\n",
    "    for aide in aide_title:\n",
    "        if aide in row.lower():\n",
    "            return 'assistant'\n",
    "    for transit in transit_title:\n",
    "        if transit in row.lower():\n",
    "            return 'transit'\n",
    "    for medical in medical_title:\n",
    "        if medical in row.lower():\n",
    "            return 'medical'\n",
    "    if 'airport' in row.lower():\n",
    "        return 'airport'\n",
    "    if 'worker' in row.lower():\n",
    "        return 'social worker'\n",
    "    if 'architect' in row.lower():\n",
    "        return 'architect'\n",
    "    for court in court_title:\n",
    "        if court in row.lower():\n",
    "            return 'court'\n",
    "    if 'major' in row.lower():\n",
    "        return 'mayor'\n",
    "    if 'librar' in row.lower():\n",
    "        return 'library'\n",
    "    if 'guard' in row.lower():\n",
    "        return 'guard'\n",
    "    if 'public' in row.lower():\n",
    "        return 'public works'\n",
    "    if 'attorney' in row.lower():\n",
    "        return 'attorney'\n",
    "    if 'custodian' in row.lower():\n",
    "        return 'custodian'\n",
    "    if 'account' in row.lower():\n",
    "        return 'account'\n",
    "    if 'garden' in row.lower():\n",
    "        return 'gardener'\n",
    "    if 'recreation' in row.lower():\n",
    "        return 'recreation leader'\n",
    "    for automotive in automotive_title:\n",
    "        if automotive in row.lower():\n",
    "            return 'automotive'\n",
    "    for engineer in engineer_title:\n",
    "        if engineer in row.lower():\n",
    "            return 'engineer'\n",
    "    for general_laborer in general_laborer_title:\n",
    "        if general_laborer in row.lower():\n",
    "            return 'general laborer'\n",
    "    if 'food serv' in row.lower():\n",
    "        return 'food service'\n",
    "    if 'clerk' in row.lower():\n",
    "        return 'clerk'\n",
    "    if 'porter' in row.lower():\n",
    "        return 'porter' \n",
    "    if 'analy' in row.lower():\n",
    "        return 'analyst'\n",
    "    if 'manager' in row.lower():\n",
    "        return 'manager'\n",
    "    else:\n",
    "        return 'other'\n",
    "    \n",
    "df['GeneralJobTitle'] = df['JobTitle'].map(findJobTitle)"
   ]
  },
  {
   "cell_type": "code",
   "execution_count": 17,
   "id": "b71738f2",
   "metadata": {},
   "outputs": [
    {
     "data": {
      "text/html": [
       "<div>\n",
       "<style scoped>\n",
       "    .dataframe tbody tr th:only-of-type {\n",
       "        vertical-align: middle;\n",
       "    }\n",
       "\n",
       "    .dataframe tbody tr th {\n",
       "        vertical-align: top;\n",
       "    }\n",
       "\n",
       "    .dataframe thead th {\n",
       "        text-align: right;\n",
       "    }\n",
       "</style>\n",
       "<table border=\"1\" class=\"dataframe\">\n",
       "  <thead>\n",
       "    <tr style=\"text-align: right;\">\n",
       "      <th></th>\n",
       "      <th>TotalPay</th>\n",
       "    </tr>\n",
       "    <tr>\n",
       "      <th>Year</th>\n",
       "      <th></th>\n",
       "    </tr>\n",
       "  </thead>\n",
       "  <tbody>\n",
       "    <tr>\n",
       "      <th>2011</th>\n",
       "      <td>71744.103871</td>\n",
       "    </tr>\n",
       "    <tr>\n",
       "      <th>2012</th>\n",
       "      <td>74113.262265</td>\n",
       "    </tr>\n",
       "    <tr>\n",
       "      <th>2013</th>\n",
       "      <td>78808.285041</td>\n",
       "    </tr>\n",
       "    <tr>\n",
       "      <th>2014</th>\n",
       "      <td>75471.836912</td>\n",
       "    </tr>\n",
       "    <tr>\n",
       "      <th>2015</th>\n",
       "      <td>77508.269562</td>\n",
       "    </tr>\n",
       "    <tr>\n",
       "      <th>2016</th>\n",
       "      <td>80515.131578</td>\n",
       "    </tr>\n",
       "    <tr>\n",
       "      <th>2017</th>\n",
       "      <td>84234.645789</td>\n",
       "    </tr>\n",
       "    <tr>\n",
       "      <th>2018</th>\n",
       "      <td>87181.908324</td>\n",
       "    </tr>\n",
       "  </tbody>\n",
       "</table>\n",
       "</div>"
      ],
      "text/plain": [
       "          TotalPay\n",
       "Year              \n",
       "2011  71744.103871\n",
       "2012  74113.262265\n",
       "2013  78808.285041\n",
       "2014  75471.836912\n",
       "2015  77508.269562\n",
       "2016  80515.131578\n",
       "2017  84234.645789\n",
       "2018  87181.908324"
      ]
     },
     "execution_count": 17,
     "metadata": {},
     "output_type": "execute_result"
    }
   ],
   "source": [
    "# Grouping the `df` by column 'Year' and takes the mean of the 'TotalPay' column for each group.\n",
    "pay_by_year=df[['Year', 'TotalPay']].groupby('Year').mean()\n",
    "pay_by_year"
   ]
  },
  {
   "cell_type": "code",
   "execution_count": 18,
   "id": "500479d9",
   "metadata": {},
   "outputs": [
    {
     "data": {
      "image/png": "[encoded data removed]",
      "text/plain": [
       "<Figure size 640x480 with 1 Axes>"
      ]
     },
     "metadata": {},
     "output_type": "display_data"
    }
   ],
   "source": [
    "sns.boxplot(x='Year', y='TotalPay', data=df, showfliers=False);\n"
   ]
  },
  {
   "cell_type": "code",
   "execution_count": 19,
   "id": "c43e056e",
   "metadata": {},
   "outputs": [
    {
     "data": {
      "text/html": [
       "<div>\n",
       "<style scoped>\n",
       "    .dataframe tbody tr th:only-of-type {\n",
       "        vertical-align: middle;\n",
       "    }\n",
       "\n",
       "    .dataframe tbody tr th {\n",
       "        vertical-align: top;\n",
       "    }\n",
       "\n",
       "    .dataframe thead th {\n",
       "        text-align: right;\n",
       "    }\n",
       "</style>\n",
       "<table border=\"1\" class=\"dataframe\">\n",
       "  <thead>\n",
       "    <tr style=\"text-align: right;\">\n",
       "      <th></th>\n",
       "      <th></th>\n",
       "      <th>TotalPay</th>\n",
       "    </tr>\n",
       "    <tr>\n",
       "      <th>GeneralJobTitle</th>\n",
       "      <th>Year</th>\n",
       "      <th></th>\n",
       "    </tr>\n",
       "  </thead>\n",
       "  <tbody>\n",
       "    <tr>\n",
       "      <th rowspan=\"5\" valign=\"top\">account</th>\n",
       "      <th>2011</th>\n",
       "      <td>56177.342558</td>\n",
       "    </tr>\n",
       "    <tr>\n",
       "      <th>2012</th>\n",
       "      <td>63186.929962</td>\n",
       "    </tr>\n",
       "    <tr>\n",
       "      <th>2013</th>\n",
       "      <td>66857.307417</td>\n",
       "    </tr>\n",
       "    <tr>\n",
       "      <th>2014</th>\n",
       "      <td>63641.837870</td>\n",
       "    </tr>\n",
       "    <tr>\n",
       "      <th>2015</th>\n",
       "      <td>67163.885017</td>\n",
       "    </tr>\n",
       "    <tr>\n",
       "      <th>...</th>\n",
       "      <th>...</th>\n",
       "      <td>...</td>\n",
       "    </tr>\n",
       "    <tr>\n",
       "      <th rowspan=\"5\" valign=\"top\">transit</th>\n",
       "      <th>2014</th>\n",
       "      <td>71134.737660</td>\n",
       "    </tr>\n",
       "    <tr>\n",
       "      <th>2015</th>\n",
       "      <td>70041.692743</td>\n",
       "    </tr>\n",
       "    <tr>\n",
       "      <th>2016</th>\n",
       "      <td>74779.333938</td>\n",
       "    </tr>\n",
       "    <tr>\n",
       "      <th>2017</th>\n",
       "      <td>81275.503400</td>\n",
       "    </tr>\n",
       "    <tr>\n",
       "      <th>2018</th>\n",
       "      <td>84087.656687</td>\n",
       "    </tr>\n",
       "  </tbody>\n",
       "</table>\n",
       "<p>208 rows × 1 columns</p>\n",
       "</div>"
      ],
      "text/plain": [
       "                          TotalPay\n",
       "GeneralJobTitle Year              \n",
       "account         2011  56177.342558\n",
       "                2012  63186.929962\n",
       "                2013  66857.307417\n",
       "                2014  63641.837870\n",
       "                2015  67163.885017\n",
       "...                            ...\n",
       "transit         2014  71134.737660\n",
       "                2015  70041.692743\n",
       "                2016  74779.333938\n",
       "                2017  81275.503400\n",
       "                2018  84087.656687\n",
       "\n",
       "[208 rows x 1 columns]"
      ]
     },
     "execution_count": 19,
     "metadata": {},
     "output_type": "execute_result"
    }
   ],
   "source": [
    "# The average 'TotalPay' for each combination of 'GeneralJobTitle' and 'Year' in the DataFrame df.\n",
    "salaries_jobs_years=df[['GeneralJobTitle', 'TotalPay', 'Year']].groupby(['GeneralJobTitle', 'Year']).mean()\n",
    "salaries_jobs_years"
   ]
  },
  {
   "cell_type": "code",
   "execution_count": 20,
   "id": "7d467913",
   "metadata": {},
   "outputs": [
    {
     "data": {
      "image/png": "[encoded data removed]",
      "text/plain": [
       "<Figure size 640x480 with 1 Axes>"
      ]
     },
     "metadata": {},
     "output_type": "display_data"
    }
   ],
   "source": [
    "# The code we provided creates kernel density estimation (KDE) plots using the Seaborn library\n",
    "# to visualize the distribution of 'TotalPay' and 'BasePay' columns in the DataFrame df\n",
    "\n",
    "sns.kdeplot(df['TotalPay'])\n",
    "sns.kdeplot(df['BasePay']);"
   ]
  },
  {
   "cell_type": "code",
   "execution_count": 21,
   "id": "47e961c4",
   "metadata": {},
   "outputs": [
    {
     "data": {
      "application/vnd.plotly.v1+json": {
       "config": {
        "linkText": "Export to plot.ly",
        "plotlyServerURL": "https://plot.ly",
        "showLink": true
       },
       "data": [
        {
         "name": "2011",
         "type": "bar",
         "x": [
          "account",
          "airport",
          "analyst",
          "architect",
          "assistant",
          "attorney",
          "automotive",
          "clerk",
          "court",
          "custodian",
          "engineer",
          "fire",
          "food service",
          "gardener",
          "general laborer",
          "guard",
          "library",
          "manager",
          "medical",
          "other",
          "police",
          "porter",
          "public works",
          "recreation leader",
          "social worker",
          "transit"
         ],
         "y": [
          56177.342558139535,
          92273.24267326732,
          79492.32993576016,
          96071.39097222223,
          43198.07942143326,
          126626.434486166,
          78395.46050724637,
          40999.05171446004,
          68546.73194782608,
          40521.55277638191,
          81251.48604340568,
          142172.54780640124,
          42686.87732394366,
          53697.759342105266,
          79013.07959064328,
          19500.854463937623,
          34683.72531802121,
          115523.68841196779,
          69088.48936655888,
          66222.01506878558,
          109707.70226150767,
          40985.904960629916,
          36133.66630560929,
          10438.966532663317,
          60714.044060670574,
          70427.43625082291
         ]
        },
        {
         "name": "2012",
         "type": "bar",
         "x": [
          "account",
          "airport",
          "analyst",
          "architect",
          "assistant",
          "attorney",
          "automotive",
          "clerk",
          "court",
          "custodian",
          "engineer",
          "fire",
          "food service",
          "gardener",
          "general laborer",
          "guard",
          "library",
          "manager",
          "medical",
          "other",
          "police",
          "porter",
          "public works",
          "recreation leader",
          "social worker",
          "transit"
         ],
         "y": [
          63186.92996240602,
          94104.59323529412,
          81830.45387337057,
          113270.14896907215,
          40129.11292541436,
          133973.17086021506,
          81830.39247334754,
          42632.03991691395,
          64781.44596685082,
          43639.09918787878,
          84647.20845991562,
          148795.1194992051,
          45434.13726027397,
          51507.85037617555,
          86891.14136308806,
          19211.73784735812,
          39617.340386740325,
          120077.08837209303,
          74049.68197033898,
          75053.52392894682,
          110355.91659884393,
          42379.4960880829,
          37266.93919866444,
          11370.921781767956,
          61365.9849197861,
          74160.8807976269
         ]
        },
        {
         "name": "2013",
         "type": "bar",
         "x": [
          "account",
          "airport",
          "analyst",
          "architect",
          "assistant",
          "attorney",
          "automotive",
          "clerk",
          "court",
          "custodian",
          "engineer",
          "fire",
          "food service",
          "gardener",
          "general laborer",
          "guard",
          "library",
          "manager",
          "medical",
          "other",
          "police",
          "porter",
          "public works",
          "recreation leader",
          "social worker",
          "transit"
         ],
         "y": [
          66857.30741697416,
          98160.94466019419,
          87654.16663392857,
          125333.45714285715,
          40410.16738194084,
          144234.83324396782,
          84965.65830227743,
          48565.4221025641,
          71246.31403571428,
          49467.614807692305,
          90204.47242597402,
          158751.638832,
          49410.074794520544,
          56403.076068111455,
          92613.47836024844,
          19129.360375,
          43176.11009469697,
          127630.41192307691,
          79212.93476139753,
          80126.0127938707,
          119961.31769927958,
          46010.05558583106,
          35909.20340694006,
          12207.07592692828,
          63954.01062951496,
          77607.46463486842
         ]
        },
        {
         "name": "2014",
         "type": "bar",
         "x": [
          "account",
          "airport",
          "analyst",
          "architect",
          "assistant",
          "attorney",
          "automotive",
          "clerk",
          "court",
          "custodian",
          "engineer",
          "fire",
          "food service",
          "gardener",
          "general laborer",
          "guard",
          "library",
          "manager",
          "medical",
          "other",
          "police",
          "porter",
          "public works",
          "recreation leader",
          "social worker",
          "transit"
         ],
         "y": [
          63641.83786971831,
          94067.51307692307,
          83168.41282264779,
          124302.62941747573,
          39600.35595712484,
          138208.046966581,
          83083.26123260437,
          45449.74066744731,
          62198.70878378379,
          48750.94450248757,
          87231.11888122228,
          144454.13814253223,
          47433.87616438356,
          54012.492067901236,
          88374.48909538462,
          18247.304958263772,
          46201.317382413086,
          123976.42938106797,
          77210.46309862098,
          78234.94703993578,
          113887.30808534658,
          45553.47617250674,
          34340.96323903819,
          12449.075208070619,
          62010.38417070805,
          71134.73766048068
         ]
        },
        {
         "name": "2015",
         "type": "bar",
         "x": [
          "account",
          "airport",
          "analyst",
          "architect",
          "assistant",
          "attorney",
          "automotive",
          "clerk",
          "court",
          "custodian",
          "engineer",
          "fire",
          "food service",
          "gardener",
          "general laborer",
          "guard",
          "library",
          "manager",
          "medical",
          "other",
          "police",
          "porter",
          "public works",
          "recreation leader",
          "social worker",
          "transit"
         ],
         "y": [
          67163.88501677853,
          95021.84045045044,
          83881.54045488441,
          127387.08944444444,
          45861.3837598322,
          145904.59458115185,
          83295.28472897196,
          48039.75912204234,
          61946.84487179488,
          51312.00209937888,
          87190.03953140578,
          144085.24744460857,
          46619.9327027027,
          55699.22515060241,
          91158.09866465256,
          18657.805267423013,
          44322.0740037594,
          127158.3610909091,
          81304.44378907797,
          79933.969125309,
          115234.77151409221,
          46516.89287564767,
          27854.90987267385,
          13333.816687344914,
          64277.68071743929,
          70041.69274273176
         ]
        },
        {
         "name": "2016",
         "type": "bar",
         "x": [
          "account",
          "airport",
          "analyst",
          "architect",
          "assistant",
          "attorney",
          "automotive",
          "clerk",
          "court",
          "custodian",
          "engineer",
          "fire",
          "food service",
          "gardener",
          "general laborer",
          "guard",
          "library",
          "manager",
          "medical",
          "other",
          "police",
          "porter",
          "public works",
          "recreation leader",
          "social worker",
          "transit"
         ],
         "y": [
          70641.2245812808,
          96702.11162790698,
          87540.86101265822,
          129884.38651785713,
          50005.37735833999,
          150451.40276923077,
          89199.62094339624,
          46389.487863105176,
          63099.56623376623,
          52833.79114320096,
          92472.52422926828,
          141271.44076248314,
          50576.84442857143,
          57089.50296969697,
          93835.5876735905,
          19733.55585616438,
          47850.16102661597,
          131950.51887147335,
          83754.69289724874,
          81819.20208035714,
          116797.12310593568,
          50564.428258706466,
          27138.106127886324,
          13812.873303225808,
          67676.13738056013,
          74779.33393830899
         ]
        },
        {
         "name": "2017",
         "type": "bar",
         "x": [
          "account",
          "airport",
          "analyst",
          "architect",
          "assistant",
          "attorney",
          "automotive",
          "clerk",
          "court",
          "custodian",
          "engineer",
          "fire",
          "food service",
          "gardener",
          "general laborer",
          "guard",
          "library",
          "manager",
          "medical",
          "other",
          "police",
          "porter",
          "public works",
          "recreation leader",
          "social worker",
          "transit"
         ],
         "y": [
          73988.53361842105,
          99041.70751824818,
          90394.66774468085,
          126242.78313432836,
          52558.88778220452,
          152875.9908780488,
          95044.10065543071,
          57015.07267277856,
          64104.22900000001,
          53812.20278495887,
          94688.37769301895,
          140081.74486256545,
          53858.773289473684,
          59579.861097922854,
          97027.96027827116,
          19123.26739273927,
          48112.61717902351,
          136043.11817452355,
          88362.82252545454,
          86076.31610867659,
          119104.81199515835,
          53943.016616161614,
          27591.888924050632,
          14564.26258974359,
          68713.4426548196,
          81275.50340044743
         ]
        },
        {
         "name": "2018",
         "type": "bar",
         "x": [
          "account",
          "airport",
          "analyst",
          "architect",
          "assistant",
          "attorney",
          "automotive",
          "clerk",
          "court",
          "custodian",
          "engineer",
          "fire",
          "food service",
          "gardener",
          "general laborer",
          "guard",
          "library",
          "manager",
          "medical",
          "other",
          "police",
          "porter",
          "public works",
          "recreation leader",
          "social worker",
          "transit"
         ],
         "y": [
          76953.98397394136,
          92745.42653846153,
          94857.78432735427,
          118419.98097402598,
          55448.6002459893,
          159139.00980582525,
          99521.76013108614,
          47885.294528301885,
          67909.25746835442,
          56636.186,
          99788.03625405655,
          138034.01584269662,
          55615.497948717944,
          64588.83445121951,
          100865.32229777257,
          20826.75506993007,
          49715.37987654321,
          142486.37609874152,
          92611.32720201656,
          90146.66980145936,
          121682.55484309414,
          59523.65544474394,
          32719.514293286218,
          14709.161540203851,
          71282.31031216362,
          84087.65668718523
         ]
        }
       ],
       "layout": {
        "barmode": "group",
        "template": {
         "data": {
          "bar": [
           {
            "error_x": {
             "color": "#2a3f5f"
            },
            "error_y": {
             "color": "#2a3f5f"
            },
            "marker": {
             "line": {
              "color": "#E5ECF6",
              "width": 0.5
             },
             "pattern": {
              "fillmode": "overlay",
              "size": 10,
              "solidity": 0.2
             }
            },
            "type": "bar"
           }
          ],
          "barpolar": [
           {
            "marker": {
             "line": {
              "color": "#E5ECF6",
              "width": 0.5
             },
             "pattern": {
              "fillmode": "overlay",
              "size": 10,
              "solidity": 0.2
             }
            },
            "type": "barpolar"
           }
          ],
          "carpet": [
           {
            "aaxis": {
             "endlinecolor": "#2a3f5f",
             "gridcolor": "white",
             "linecolor": "white",
             "minorgridcolor": "white",
             "startlinecolor": "#2a3f5f"
            },
            "baxis": {
             "endlinecolor": "#2a3f5f",
             "gridcolor": "white",
             "linecolor": "white",
             "minorgridcolor": "white",
             "startlinecolor": "#2a3f5f"
            },
            "type": "carpet"
           }
          ],
          "choropleth": [
           {
            "colorbar": {
             "outlinewidth": 0,
             "ticks": ""
            },
            "type": "choropleth"
           }
          ],
          "contour": [
           {
            "colorbar": {
             "outlinewidth": 0,
             "ticks": ""
            },
            "colorscale": [
             [
              0,
              "#0d0887"
             ],
             [
              0.1111111111111111,
              "#46039f"
             ],
             [
              0.2222222222222222,
              "#7201a8"
             ],
             [
              0.3333333333333333,
              "#9c179e"
             ],
             [
              0.4444444444444444,
              "#bd3786"
             ],
             [
              0.5555555555555556,
              "#d8576b"
             ],
             [
              0.6666666666666666,
              "#ed7953"
             ],
             [
              0.7777777777777778,
              "#fb9f3a"
             ],
             [
              0.8888888888888888,
              "#fdca26"
             ],
             [
              1,
              "#f0f921"
             ]
            ],
            "type": "contour"
           }
          ],
          "contourcarpet": [
           {
            "colorbar": {
             "outlinewidth": 0,
             "ticks": ""
            },
            "type": "contourcarpet"
           }
          ],
          "heatmap": [
           {
            "colorbar": {
             "outlinewidth": 0,
             "ticks": ""
            },
            "colorscale": [
             [
              0,
              "#0d0887"
             ],
             [
              0.1111111111111111,
              "#46039f"
             ],
             [
              0.2222222222222222,
              "#7201a8"
             ],
             [
              0.3333333333333333,
              "#9c179e"
             ],
             [
              0.4444444444444444,
              "#bd3786"
             ],
             [
              0.5555555555555556,
              "#d8576b"
             ],
             [
              0.6666666666666666,
              "#ed7953"
             ],
             [
              0.7777777777777778,
              "#fb9f3a"
             ],
             [
              0.8888888888888888,
              "#fdca26"
             ],
             [
              1,
              "#f0f921"
             ]
            ],
            "type": "heatmap"
           }
          ],
          "heatmapgl": [
           {
            "colorbar": {
             "outlinewidth": 0,
             "ticks": ""
            },
            "colorscale": [
             [
              0,
              "#0d0887"
             ],
             [
              0.1111111111111111,
              "#46039f"
             ],
             [
              0.2222222222222222,
              "#7201a8"
             ],
             [
              0.3333333333333333,
              "#9c179e"
             ],
             [
              0.4444444444444444,
              "#bd3786"
             ],
             [
              0.5555555555555556,
              "#d8576b"
             ],
             [
              0.6666666666666666,
              "#ed7953"
             ],
             [
              0.7777777777777778,
              "#fb9f3a"
             ],
             [
              0.8888888888888888,
              "#fdca26"
             ],
             [
              1,
              "#f0f921"
             ]
            ],
            "type": "heatmapgl"
           }
          ],
          "histogram": [
           {
            "marker": {
             "pattern": {
              "fillmode": "overlay",
              "size": 10,
              "solidity": 0.2
             }
            },
            "type": "histogram"
           }
          ],
          "histogram2d": [
           {
            "colorbar": {
             "outlinewidth": 0,
             "ticks": ""
            },
            "colorscale": [
             [
              0,
              "#0d0887"
             ],
             [
              0.1111111111111111,
              "#46039f"
             ],
             [
              0.2222222222222222,
              "#7201a8"
             ],
             [
              0.3333333333333333,
              "#9c179e"
             ],
             [
              0.4444444444444444,
              "#bd3786"
             ],
             [
              0.5555555555555556,
              "#d8576b"
             ],
             [
              0.6666666666666666,
              "#ed7953"
             ],
             [
              0.7777777777777778,
              "#fb9f3a"
             ],
             [
              0.8888888888888888,
              "#fdca26"
             ],
             [
              1,
              "#f0f921"
             ]
            ],
            "type": "histogram2d"
           }
          ],
          "histogram2dcontour": [
           {
            "colorbar": {
             "outlinewidth": 0,
             "ticks": ""
            },
            "colorscale": [
             [
              0,
              "#0d0887"
             ],
             [
              0.1111111111111111,
              "#46039f"
             ],
             [
              0.2222222222222222,
              "#7201a8"
             ],
             [
              0.3333333333333333,
              "#9c179e"
             ],
             [
              0.4444444444444444,
              "#bd3786"
             ],
             [
              0.5555555555555556,
              "#d8576b"
             ],
             [
              0.6666666666666666,
              "#ed7953"
             ],
             [
              0.7777777777777778,
              "#fb9f3a"
             ],
             [
              0.8888888888888888,
              "#fdca26"
             ],
             [
              1,
              "#f0f921"
             ]
            ],
            "type": "histogram2dcontour"
           }
          ],
          "mesh3d": [
           {
            "colorbar": {
             "outlinewidth": 0,
             "ticks": ""
            },
            "type": "mesh3d"
           }
          ],
          "parcoords": [
           {
            "line": {
             "colorbar": {
              "outlinewidth": 0,
              "ticks": ""
             }
            },
            "type": "parcoords"
           }
          ],
          "pie": [
           {
            "automargin": true,
            "type": "pie"
           }
          ],
          "scatter": [
           {
            "fillpattern": {
             "fillmode": "overlay",
             "size": 10,
             "solidity": 0.2
            },
            "type": "scatter"
           }
          ],
          "scatter3d": [
           {
            "line": {
             "colorbar": {
              "outlinewidth": 0,
              "ticks": ""
             }
            },
            "marker": {
             "colorbar": {
              "outlinewidth": 0,
              "ticks": ""
             }
            },
            "type": "scatter3d"
           }
          ],
          "scattercarpet": [
           {
            "marker": {
             "colorbar": {
              "outlinewidth": 0,
              "ticks": ""
             }
            },
            "type": "scattercarpet"
           }
          ],
          "scattergeo": [
           {
            "marker": {
             "colorbar": {
              "outlinewidth": 0,
              "ticks": ""
             }
            },
            "type": "scattergeo"
           }
          ],
          "scattergl": [
           {
            "marker": {
             "colorbar": {
              "outlinewidth": 0,
              "ticks": ""
             }
            },
            "type": "scattergl"
           }
          ],
          "scattermapbox": [
           {
            "marker": {
             "colorbar": {
              "outlinewidth": 0,
              "ticks": ""
             }
            },
            "type": "scattermapbox"
           }
          ],
          "scatterpolar": [
           {
            "marker": {
             "colorbar": {
              "outlinewidth": 0,
              "ticks": ""
             }
            },
            "type": "scatterpolar"
           }
          ],
          "scatterpolargl": [
           {
            "marker": {
             "colorbar": {
              "outlinewidth": 0,
              "ticks": ""
             }
            },
            "type": "scatterpolargl"
           }
          ],
          "scatterternary": [
           {
            "marker": {
             "colorbar": {
              "outlinewidth": 0,
              "ticks": ""
             }
            },
            "type": "scatterternary"
           }
          ],
          "surface": [
           {
            "colorbar": {
             "outlinewidth": 0,
             "ticks": ""
            },
            "colorscale": [
             [
              0,
              "#0d0887"
             ],
             [
              0.1111111111111111,
              "#46039f"
             ],
             [
              0.2222222222222222,
              "#7201a8"
             ],
             [
              0.3333333333333333,
              "#9c179e"
             ],
             [
              0.4444444444444444,
              "#bd3786"
             ],
             [
              0.5555555555555556,
              "#d8576b"
             ],
             [
              0.6666666666666666,
              "#ed7953"
             ],
             [
              0.7777777777777778,
              "#fb9f3a"
             ],
             [
              0.8888888888888888,
              "#fdca26"
             ],
             [
              1,
              "#f0f921"
             ]
            ],
            "type": "surface"
           }
          ],
          "table": [
           {
            "cells": {
             "fill": {
              "color": "#EBF0F8"
             },
             "line": {
              "color": "white"
             }
            },
            "header": {
             "fill": {
              "color": "#C8D4E3"
             },
             "line": {
              "color": "white"
             }
            },
            "type": "table"
           }
          ]
         },
         "layout": {
          "annotationdefaults": {
           "arrowcolor": "#2a3f5f",
           "arrowhead": 0,
           "arrowwidth": 1
          },
          "autotypenumbers": "strict",
          "coloraxis": {
           "colorbar": {
            "outlinewidth": 0,
            "ticks": ""
           }
          },
          "colorscale": {
           "diverging": [
            [
             0,
             "#8e0152"
            ],
            [
             0.1,
             "#c51b7d"
            ],
            [
             0.2,
             "#de77ae"
            ],
            [
             0.3,
             "#f1b6da"
            ],
            [
             0.4,
             "#fde0ef"
            ],
            [
             0.5,
             "#f7f7f7"
            ],
            [
             0.6,
             "#e6f5d0"
            ],
            [
             0.7,
             "#b8e186"
            ],
            [
             0.8,
             "#7fbc41"
            ],
            [
             0.9,
             "#4d9221"
            ],
            [
             1,
             "#276419"
            ]
           ],
           "sequential": [
            [
             0,
             "#0d0887"
            ],
            [
             0.1111111111111111,
             "#46039f"
            ],
            [
             0.2222222222222222,
             "#7201a8"
            ],
            [
             0.3333333333333333,
             "#9c179e"
            ],
            [
             0.4444444444444444,
             "#bd3786"
            ],
            [
             0.5555555555555556,
             "#d8576b"
            ],
            [
             0.6666666666666666,
             "#ed7953"
            ],
            [
             0.7777777777777778,
             "#fb9f3a"
            ],
            [
             0.8888888888888888,
             "#fdca26"
            ],
            [
             1,
             "#f0f921"
            ]
           ],
           "sequentialminus": [
            [
             0,
             "#0d0887"
            ],
            [
             0.1111111111111111,
             "#46039f"
            ],
            [
             0.2222222222222222,
             "#7201a8"
            ],
            [
             0.3333333333333333,
             "#9c179e"
            ],
            [
             0.4444444444444444,
             "#bd3786"
            ],
            [
             0.5555555555555556,
             "#d8576b"
            ],
            [
             0.6666666666666666,
             "#ed7953"
            ],
            [
             0.7777777777777778,
             "#fb9f3a"
            ],
            [
             0.8888888888888888,
             "#fdca26"
            ],
            [
             1,
             "#f0f921"
            ]
           ]
          },
          "colorway": [
           "#636efa",
           "#EF553B",
           "#00cc96",
           "#ab63fa",
           "#FFA15A",
           "#19d3f3",
           "#FF6692",
           "#B6E880",
           "#FF97FF",
           "#FECB52"
          ],
          "font": {
           "color": "#2a3f5f"
          },
          "geo": {
           "bgcolor": "white",
           "lakecolor": "white",
           "landcolor": "#E5ECF6",
           "showlakes": true,
           "showland": true,
           "subunitcolor": "white"
          },
          "hoverlabel": {
           "align": "left"
          },
          "hovermode": "closest",
          "mapbox": {
           "style": "light"
          },
          "paper_bgcolor": "white",
          "plot_bgcolor": "#E5ECF6",
          "polar": {
           "angularaxis": {
            "gridcolor": "white",
            "linecolor": "white",
            "ticks": ""
           },
           "bgcolor": "#E5ECF6",
           "radialaxis": {
            "gridcolor": "white",
            "linecolor": "white",
            "ticks": ""
           }
          },
          "scene": {
           "xaxis": {
            "backgroundcolor": "#E5ECF6",
            "gridcolor": "white",
            "gridwidth": 2,
            "linecolor": "white",
            "showbackground": true,
            "ticks": "",
            "zerolinecolor": "white"
           },
           "yaxis": {
            "backgroundcolor": "#E5ECF6",
            "gridcolor": "white",
            "gridwidth": 2,
            "linecolor": "white",
            "showbackground": true,
            "ticks": "",
            "zerolinecolor": "white"
           },
           "zaxis": {
            "backgroundcolor": "#E5ECF6",
            "gridcolor": "white",
            "gridwidth": 2,
            "linecolor": "white",
            "showbackground": true,
            "ticks": "",
            "zerolinecolor": "white"
           }
          },
          "shapedefaults": {
           "line": {
            "color": "#2a3f5f"
           }
          },
          "ternary": {
           "aaxis": {
            "gridcolor": "white",
            "linecolor": "white",
            "ticks": ""
           },
           "baxis": {
            "gridcolor": "white",
            "linecolor": "white",
            "ticks": ""
           },
           "bgcolor": "#E5ECF6",
           "caxis": {
            "gridcolor": "white",
            "linecolor": "white",
            "ticks": ""
           }
          },
          "title": {
           "x": 0.05
          },
          "xaxis": {
           "automargin": true,
           "gridcolor": "white",
           "linecolor": "white",
           "ticks": "",
           "title": {
            "standoff": 15
           },
           "zerolinecolor": "white",
           "zerolinewidth": 2
          },
          "yaxis": {
           "automargin": true,
           "gridcolor": "white",
           "linecolor": "white",
           "ticks": "",
           "title": {
            "standoff": 15
           },
           "zerolinecolor": "white",
           "zerolinewidth": 2
          }
         }
        }
       }
      },
      "text/html": [
       "<div>                            <div id=\"ac82a0da-9243-40cb-8178-f2c1c1597a2c\" class=\"plotly-graph-div\" style=\"height:525px; width:100%;\"></div>            <script type=\"text/javascript\">                require([\"plotly\"], function(Plotly) {                    window.PLOTLYENV=window.PLOTLYENV || {};\n",
       "                    window.PLOTLYENV.BASE_URL='https://plot.ly';                                    if (document.getElementById(\"ac82a0da-9243-40cb-8178-f2c1c1597a2c\")) {                    Plotly.newPlot(                        \"ac82a0da-9243-40cb-8178-f2c1c1597a2c\",                        [{\"name\":\"2011\",\"x\":[\"account\",\"airport\",\"analyst\",\"architect\",\"assistant\",\"attorney\",\"automotive\",\"clerk\",\"court\",\"custodian\",\"engineer\",\"fire\",\"food service\",\"gardener\",\"general laborer\",\"guard\",\"library\",\"manager\",\"medical\",\"other\",\"police\",\"porter\",\"public works\",\"recreation leader\",\"social worker\",\"transit\"],\"y\":[56177.342558139535,92273.24267326732,79492.32993576016,96071.39097222223,43198.07942143326,126626.434486166,78395.46050724637,40999.05171446004,68546.73194782608,40521.55277638191,81251.48604340568,142172.54780640124,42686.87732394366,53697.759342105266,79013.07959064328,19500.854463937623,34683.72531802121,115523.68841196779,69088.48936655888,66222.01506878558,109707.70226150767,40985.904960629916,36133.66630560929,10438.966532663317,60714.044060670574,70427.43625082291],\"type\":\"bar\"},{\"name\":\"2012\",\"x\":[\"account\",\"airport\",\"analyst\",\"architect\",\"assistant\",\"attorney\",\"automotive\",\"clerk\",\"court\",\"custodian\",\"engineer\",\"fire\",\"food service\",\"gardener\",\"general laborer\",\"guard\",\"library\",\"manager\",\"medical\",\"other\",\"police\",\"porter\",\"public works\",\"recreation leader\",\"social worker\",\"transit\"],\"y\":[63186.92996240602,94104.59323529412,81830.45387337057,113270.14896907215,40129.11292541436,133973.17086021506,81830.39247334754,42632.03991691395,64781.44596685082,43639.09918787878,84647.20845991562,148795.1194992051,45434.13726027397,51507.85037617555,86891.14136308806,19211.73784735812,39617.340386740325,120077.08837209303,74049.68197033898,75053.52392894682,110355.91659884393,42379.4960880829,37266.93919866444,11370.921781767956,61365.9849197861,74160.8807976269],\"type\":\"bar\"},{\"name\":\"2013\",\"x\":[\"account\",\"airport\",\"analyst\",\"architect\",\"assistant\",\"attorney\",\"automotive\",\"clerk\",\"court\",\"custodian\",\"engineer\",\"fire\",\"food service\",\"gardener\",\"general laborer\",\"guard\",\"library\",\"manager\",\"medical\",\"other\",\"police\",\"porter\",\"public works\",\"recreation leader\",\"social worker\",\"transit\"],\"y\":[66857.30741697416,98160.94466019419,87654.16663392857,125333.45714285715,40410.16738194084,144234.83324396782,84965.65830227743,48565.4221025641,71246.31403571428,49467.614807692305,90204.47242597402,158751.638832,49410.074794520544,56403.076068111455,92613.47836024844,19129.360375,43176.11009469697,127630.41192307691,79212.93476139753,80126.0127938707,119961.31769927958,46010.05558583106,35909.20340694006,12207.07592692828,63954.01062951496,77607.46463486842],\"type\":\"bar\"},{\"name\":\"2014\",\"x\":[\"account\",\"airport\",\"analyst\",\"architect\",\"assistant\",\"attorney\",\"automotive\",\"clerk\",\"court\",\"custodian\",\"engineer\",\"fire\",\"food service\",\"gardener\",\"general laborer\",\"guard\",\"library\",\"manager\",\"medical\",\"other\",\"police\",\"porter\",\"public works\",\"recreation leader\",\"social worker\",\"transit\"],\"y\":[63641.83786971831,94067.51307692307,83168.41282264779,124302.62941747573,39600.35595712484,138208.046966581,83083.26123260437,45449.74066744731,62198.70878378379,48750.94450248757,87231.11888122228,144454.13814253223,47433.87616438356,54012.492067901236,88374.48909538462,18247.304958263772,46201.317382413086,123976.42938106797,77210.46309862098,78234.94703993578,113887.30808534658,45553.47617250674,34340.96323903819,12449.075208070619,62010.38417070805,71134.73766048068],\"type\":\"bar\"},{\"name\":\"2015\",\"x\":[\"account\",\"airport\",\"analyst\",\"architect\",\"assistant\",\"attorney\",\"automotive\",\"clerk\",\"court\",\"custodian\",\"engineer\",\"fire\",\"food service\",\"gardener\",\"general laborer\",\"guard\",\"library\",\"manager\",\"medical\",\"other\",\"police\",\"porter\",\"public works\",\"recreation leader\",\"social worker\",\"transit\"],\"y\":[67163.88501677853,95021.84045045044,83881.54045488441,127387.08944444444,45861.3837598322,145904.59458115185,83295.28472897196,48039.75912204234,61946.84487179488,51312.00209937888,87190.03953140578,144085.24744460857,46619.9327027027,55699.22515060241,91158.09866465256,18657.805267423013,44322.0740037594,127158.3610909091,81304.44378907797,79933.969125309,115234.77151409221,46516.89287564767,27854.90987267385,13333.816687344914,64277.68071743929,70041.69274273176],\"type\":\"bar\"},{\"name\":\"2016\",\"x\":[\"account\",\"airport\",\"analyst\",\"architect\",\"assistant\",\"attorney\",\"automotive\",\"clerk\",\"court\",\"custodian\",\"engineer\",\"fire\",\"food service\",\"gardener\",\"general laborer\",\"guard\",\"library\",\"manager\",\"medical\",\"other\",\"police\",\"porter\",\"public works\",\"recreation leader\",\"social worker\",\"transit\"],\"y\":[70641.2245812808,96702.11162790698,87540.86101265822,129884.38651785713,50005.37735833999,150451.40276923077,89199.62094339624,46389.487863105176,63099.56623376623,52833.79114320096,92472.52422926828,141271.44076248314,50576.84442857143,57089.50296969697,93835.5876735905,19733.55585616438,47850.16102661597,131950.51887147335,83754.69289724874,81819.20208035714,116797.12310593568,50564.428258706466,27138.106127886324,13812.873303225808,67676.13738056013,74779.33393830899],\"type\":\"bar\"},{\"name\":\"2017\",\"x\":[\"account\",\"airport\",\"analyst\",\"architect\",\"assistant\",\"attorney\",\"automotive\",\"clerk\",\"court\",\"custodian\",\"engineer\",\"fire\",\"food service\",\"gardener\",\"general laborer\",\"guard\",\"library\",\"manager\",\"medical\",\"other\",\"police\",\"porter\",\"public works\",\"recreation leader\",\"social worker\",\"transit\"],\"y\":[73988.53361842105,99041.70751824818,90394.66774468085,126242.78313432836,52558.88778220452,152875.9908780488,95044.10065543071,57015.07267277856,64104.22900000001,53812.20278495887,94688.37769301895,140081.74486256545,53858.773289473684,59579.861097922854,97027.96027827116,19123.26739273927,48112.61717902351,136043.11817452355,88362.82252545454,86076.31610867659,119104.81199515835,53943.016616161614,27591.888924050632,14564.26258974359,68713.4426548196,81275.50340044743],\"type\":\"bar\"},{\"name\":\"2018\",\"x\":[\"account\",\"airport\",\"analyst\",\"architect\",\"assistant\",\"attorney\",\"automotive\",\"clerk\",\"court\",\"custodian\",\"engineer\",\"fire\",\"food service\",\"gardener\",\"general laborer\",\"guard\",\"library\",\"manager\",\"medical\",\"other\",\"police\",\"porter\",\"public works\",\"recreation leader\",\"social worker\",\"transit\"],\"y\":[76953.98397394136,92745.42653846153,94857.78432735427,118419.98097402598,55448.6002459893,159139.00980582525,99521.76013108614,47885.294528301885,67909.25746835442,56636.186,99788.03625405655,138034.01584269662,55615.497948717944,64588.83445121951,100865.32229777257,20826.75506993007,49715.37987654321,142486.37609874152,92611.32720201656,90146.66980145936,121682.55484309414,59523.65544474394,32719.514293286218,14709.161540203851,71282.31031216362,84087.65668718523],\"type\":\"bar\"}],                        {\"barmode\":\"group\",\"template\":{\"data\":{\"histogram2dcontour\":[{\"type\":\"histogram2dcontour\",\"colorbar\":{\"outlinewidth\":0,\"ticks\":\"\"},\"colorscale\":[[0.0,\"#0d0887\"],[0.1111111111111111,\"#46039f\"],[0.2222222222222222,\"#7201a8\"],[0.3333333333333333,\"#9c179e\"],[0.4444444444444444,\"#bd3786\"],[0.5555555555555556,\"#d8576b\"],[0.6666666666666666,\"#ed7953\"],[0.7777777777777778,\"#fb9f3a\"],[0.8888888888888888,\"#fdca26\"],[1.0,\"#f0f921\"]]}],\"choropleth\":[{\"type\":\"choropleth\",\"colorbar\":{\"outlinewidth\":0,\"ticks\":\"\"}}],\"histogram2d\":[{\"type\":\"histogram2d\",\"colorbar\":{\"outlinewidth\":0,\"ticks\":\"\"},\"colorscale\":[[0.0,\"#0d0887\"],[0.1111111111111111,\"#46039f\"],[0.2222222222222222,\"#7201a8\"],[0.3333333333333333,\"#9c179e\"],[0.4444444444444444,\"#bd3786\"],[0.5555555555555556,\"#d8576b\"],[0.6666666666666666,\"#ed7953\"],[0.7777777777777778,\"#fb9f3a\"],[0.8888888888888888,\"#fdca26\"],[1.0,\"#f0f921\"]]}],\"heatmap\":[{\"type\":\"heatmap\",\"colorbar\":{\"outlinewidth\":0,\"ticks\":\"\"},\"colorscale\":[[0.0,\"#0d0887\"],[0.1111111111111111,\"#46039f\"],[0.2222222222222222,\"#7201a8\"],[0.3333333333333333,\"#9c179e\"],[0.4444444444444444,\"#bd3786\"],[0.5555555555555556,\"#d8576b\"],[0.6666666666666666,\"#ed7953\"],[0.7777777777777778,\"#fb9f3a\"],[0.8888888888888888,\"#fdca26\"],[1.0,\"#f0f921\"]]}],\"heatmapgl\":[{\"type\":\"heatmapgl\",\"colorbar\":{\"outlinewidth\":0,\"ticks\":\"\"},\"colorscale\":[[0.0,\"#0d0887\"],[0.1111111111111111,\"#46039f\"],[0.2222222222222222,\"#7201a8\"],[0.3333333333333333,\"#9c179e\"],[0.4444444444444444,\"#bd3786\"],[0.5555555555555556,\"#d8576b\"],[0.6666666666666666,\"#ed7953\"],[0.7777777777777778,\"#fb9f3a\"],[0.8888888888888888,\"#fdca26\"],[1.0,\"#f0f921\"]]}],\"contourcarpet\":[{\"type\":\"contourcarpet\",\"colorbar\":{\"outlinewidth\":0,\"ticks\":\"\"}}],\"contour\":[{\"type\":\"contour\",\"colorbar\":{\"outlinewidth\":0,\"ticks\":\"\"},\"colorscale\":[[0.0,\"#0d0887\"],[0.1111111111111111,\"#46039f\"],[0.2222222222222222,\"#7201a8\"],[0.3333333333333333,\"#9c179e\"],[0.4444444444444444,\"#bd3786\"],[0.5555555555555556,\"#d8576b\"],[0.6666666666666666,\"#ed7953\"],[0.7777777777777778,\"#fb9f3a\"],[0.8888888888888888,\"#fdca26\"],[1.0,\"#f0f921\"]]}],\"surface\":[{\"type\":\"surface\",\"colorbar\":{\"outlinewidth\":0,\"ticks\":\"\"},\"colorscale\":[[0.0,\"#0d0887\"],[0.1111111111111111,\"#46039f\"],[0.2222222222222222,\"#7201a8\"],[0.3333333333333333,\"#9c179e\"],[0.4444444444444444,\"#bd3786\"],[0.5555555555555556,\"#d8576b\"],[0.6666666666666666,\"#ed7953\"],[0.7777777777777778,\"#fb9f3a\"],[0.8888888888888888,\"#fdca26\"],[1.0,\"#f0f921\"]]}],\"mesh3d\":[{\"type\":\"mesh3d\",\"colorbar\":{\"outlinewidth\":0,\"ticks\":\"\"}}],\"scatter\":[{\"fillpattern\":{\"fillmode\":\"overlay\",\"size\":10,\"solidity\":0.2},\"type\":\"scatter\"}],\"parcoords\":[{\"type\":\"parcoords\",\"line\":{\"colorbar\":{\"outlinewidth\":0,\"ticks\":\"\"}}}],\"scatterpolargl\":[{\"type\":\"scatterpolargl\",\"marker\":{\"colorbar\":{\"outlinewidth\":0,\"ticks\":\"\"}}}],\"bar\":[{\"error_x\":{\"color\":\"#2a3f5f\"},\"error_y\":{\"color\":\"#2a3f5f\"},\"marker\":{\"line\":{\"color\":\"#E5ECF6\",\"width\":0.5},\"pattern\":{\"fillmode\":\"overlay\",\"size\":10,\"solidity\":0.2}},\"type\":\"bar\"}],\"scattergeo\":[{\"type\":\"scattergeo\",\"marker\":{\"colorbar\":{\"outlinewidth\":0,\"ticks\":\"\"}}}],\"scatterpolar\":[{\"type\":\"scatterpolar\",\"marker\":{\"colorbar\":{\"outlinewidth\":0,\"ticks\":\"\"}}}],\"histogram\":[{\"marker\":{\"pattern\":{\"fillmode\":\"overlay\",\"size\":10,\"solidity\":0.2}},\"type\":\"histogram\"}],\"scattergl\":[{\"type\":\"scattergl\",\"marker\":{\"colorbar\":{\"outlinewidth\":0,\"ticks\":\"\"}}}],\"scatter3d\":[{\"type\":\"scatter3d\",\"line\":{\"colorbar\":{\"outlinewidth\":0,\"ticks\":\"\"}},\"marker\":{\"colorbar\":{\"outlinewidth\":0,\"ticks\":\"\"}}}],\"scattermapbox\":[{\"type\":\"scattermapbox\",\"marker\":{\"colorbar\":{\"outlinewidth\":0,\"ticks\":\"\"}}}],\"scatterternary\":[{\"type\":\"scatterternary\",\"marker\":{\"colorbar\":{\"outlinewidth\":0,\"ticks\":\"\"}}}],\"scattercarpet\":[{\"type\":\"scattercarpet\",\"marker\":{\"colorbar\":{\"outlinewidth\":0,\"ticks\":\"\"}}}],\"carpet\":[{\"aaxis\":{\"endlinecolor\":\"#2a3f5f\",\"gridcolor\":\"white\",\"linecolor\":\"white\",\"minorgridcolor\":\"white\",\"startlinecolor\":\"#2a3f5f\"},\"baxis\":{\"endlinecolor\":\"#2a3f5f\",\"gridcolor\":\"white\",\"linecolor\":\"white\",\"minorgridcolor\":\"white\",\"startlinecolor\":\"#2a3f5f\"},\"type\":\"carpet\"}],\"table\":[{\"cells\":{\"fill\":{\"color\":\"#EBF0F8\"},\"line\":{\"color\":\"white\"}},\"header\":{\"fill\":{\"color\":\"#C8D4E3\"},\"line\":{\"color\":\"white\"}},\"type\":\"table\"}],\"barpolar\":[{\"marker\":{\"line\":{\"color\":\"#E5ECF6\",\"width\":0.5},\"pattern\":{\"fillmode\":\"overlay\",\"size\":10,\"solidity\":0.2}},\"type\":\"barpolar\"}],\"pie\":[{\"automargin\":true,\"type\":\"pie\"}]},\"layout\":{\"autotypenumbers\":\"strict\",\"colorway\":[\"#636efa\",\"#EF553B\",\"#00cc96\",\"#ab63fa\",\"#FFA15A\",\"#19d3f3\",\"#FF6692\",\"#B6E880\",\"#FF97FF\",\"#FECB52\"],\"font\":{\"color\":\"#2a3f5f\"},\"hovermode\":\"closest\",\"hoverlabel\":{\"align\":\"left\"},\"paper_bgcolor\":\"white\",\"plot_bgcolor\":\"#E5ECF6\",\"polar\":{\"bgcolor\":\"#E5ECF6\",\"angularaxis\":{\"gridcolor\":\"white\",\"linecolor\":\"white\",\"ticks\":\"\"},\"radialaxis\":{\"gridcolor\":\"white\",\"linecolor\":\"white\",\"ticks\":\"\"}},\"ternary\":{\"bgcolor\":\"#E5ECF6\",\"aaxis\":{\"gridcolor\":\"white\",\"linecolor\":\"white\",\"ticks\":\"\"},\"baxis\":{\"gridcolor\":\"white\",\"linecolor\":\"white\",\"ticks\":\"\"},\"caxis\":{\"gridcolor\":\"white\",\"linecolor\":\"white\",\"ticks\":\"\"}},\"coloraxis\":{\"colorbar\":{\"outlinewidth\":0,\"ticks\":\"\"}},\"colorscale\":{\"sequential\":[[0.0,\"#0d0887\"],[0.1111111111111111,\"#46039f\"],[0.2222222222222222,\"#7201a8\"],[0.3333333333333333,\"#9c179e\"],[0.4444444444444444,\"#bd3786\"],[0.5555555555555556,\"#d8576b\"],[0.6666666666666666,\"#ed7953\"],[0.7777777777777778,\"#fb9f3a\"],[0.8888888888888888,\"#fdca26\"],[1.0,\"#f0f921\"]],\"sequentialminus\":[[0.0,\"#0d0887\"],[0.1111111111111111,\"#46039f\"],[0.2222222222222222,\"#7201a8\"],[0.3333333333333333,\"#9c179e\"],[0.4444444444444444,\"#bd3786\"],[0.5555555555555556,\"#d8576b\"],[0.6666666666666666,\"#ed7953\"],[0.7777777777777778,\"#fb9f3a\"],[0.8888888888888888,\"#fdca26\"],[1.0,\"#f0f921\"]],\"diverging\":[[0,\"#8e0152\"],[0.1,\"#c51b7d\"],[0.2,\"#de77ae\"],[0.3,\"#f1b6da\"],[0.4,\"#fde0ef\"],[0.5,\"#f7f7f7\"],[0.6,\"#e6f5d0\"],[0.7,\"#b8e186\"],[0.8,\"#7fbc41\"],[0.9,\"#4d9221\"],[1,\"#276419\"]]},\"xaxis\":{\"gridcolor\":\"white\",\"linecolor\":\"white\",\"ticks\":\"\",\"title\":{\"standoff\":15},\"zerolinecolor\":\"white\",\"automargin\":true,\"zerolinewidth\":2},\"yaxis\":{\"gridcolor\":\"white\",\"linecolor\":\"white\",\"ticks\":\"\",\"title\":{\"standoff\":15},\"zerolinecolor\":\"white\",\"automargin\":true,\"zerolinewidth\":2},\"scene\":{\"xaxis\":{\"backgroundcolor\":\"#E5ECF6\",\"gridcolor\":\"white\",\"linecolor\":\"white\",\"showbackground\":true,\"ticks\":\"\",\"zerolinecolor\":\"white\",\"gridwidth\":2},\"yaxis\":{\"backgroundcolor\":\"#E5ECF6\",\"gridcolor\":\"white\",\"linecolor\":\"white\",\"showbackground\":true,\"ticks\":\"\",\"zerolinecolor\":\"white\",\"gridwidth\":2},\"zaxis\":{\"backgroundcolor\":\"#E5ECF6\",\"gridcolor\":\"white\",\"linecolor\":\"white\",\"showbackground\":true,\"ticks\":\"\",\"zerolinecolor\":\"white\",\"gridwidth\":2}},\"shapedefaults\":{\"line\":{\"color\":\"#2a3f5f\"}},\"annotationdefaults\":{\"arrowcolor\":\"#2a3f5f\",\"arrowhead\":0,\"arrowwidth\":1},\"geo\":{\"bgcolor\":\"white\",\"landcolor\":\"#E5ECF6\",\"subunitcolor\":\"white\",\"showland\":true,\"showlakes\":true,\"lakecolor\":\"white\"},\"title\":{\"x\":0.05},\"mapbox\":{\"style\":\"light\"}}}},                        {\"showLink\": true, \"linkText\": \"Export to plot.ly\", \"plotlyServerURL\": \"https://plot.ly\", \"responsive\": true}                    ).then(function(){\n",
       "                            \n",
       "var gd = document.getElementById('ac82a0da-9243-40cb-8178-f2c1c1597a2c');\n",
       "var x = new MutationObserver(function (mutations, observer) {{\n",
       "        var display = window.getComputedStyle(gd).display;\n",
       "        if (!display || display === 'none') {{\n",
       "            console.log([gd, 'removed!']);\n",
       "            Plotly.purge(gd);\n",
       "            observer.disconnect();\n",
       "        }}\n",
       "}});\n",
       "\n",
       "// Listen for the removal of the full notebook cells\n",
       "var notebookContainer = gd.closest('#notebook-container');\n",
       "if (notebookContainer) {{\n",
       "    x.observe(notebookContainer, {childList: true});\n",
       "}}\n",
       "\n",
       "// Listen for the clearing of the current output cell\n",
       "var outputEl = gd.closest('.output');\n",
       "if (outputEl) {{\n",
       "    x.observe(outputEl, {childList: true});\n",
       "}}\n",
       "\n",
       "                        })                };                });            </script>        </div>"
      ]
     },
     "metadata": {},
     "output_type": "display_data"
    }
   ],
   "source": [
    "# The code we provided creates a grouped bar chart using the Plotly library \n",
    "# to visualize the average 'TotalPay' for different job titles across multiple years.\n",
    "\n",
    "salaries_jobs_by_year=df[['GeneralJobTitle', 'TotalPay', 'Year']].groupby(['Year', 'GeneralJobTitle']).mean()\n",
    "job_names=salaries_jobs_by_year.xs(2011, level='Year').index.values.tolist()\n",
    "\n",
    "trace1 = go.Bar(\n",
    "    x=job_names,\n",
    "    y=salaries_jobs_by_year.xs(2011, level='Year')['TotalPay'],\n",
    "    name='2011'\n",
    ")\n",
    "trace2 = go.Bar(\n",
    "    x=job_names,\n",
    "    y=salaries_jobs_by_year.xs(2012, level='Year')['TotalPay'],\n",
    "    name='2012'\n",
    ")\n",
    "trace3 = go.Bar(\n",
    "    x=job_names,\n",
    "    y=salaries_jobs_by_year.xs(2013, level='Year')['TotalPay'],\n",
    "    name='2013'\n",
    ")\n",
    "trace4 = go.Bar(\n",
    "    x=job_names,\n",
    "    y=salaries_jobs_by_year.xs(2014, level='Year')['TotalPay'],\n",
    "    name='2014'\n",
    ")\n",
    "trace5 = go.Bar(\n",
    "    x=job_names,\n",
    "    y=salaries_jobs_by_year.xs(2015, level='Year')['TotalPay'],\n",
    "    name='2015'\n",
    ")\n",
    "\n",
    "trace6 = go.Bar(\n",
    "    x=job_names,\n",
    "    y=salaries_jobs_by_year.xs(2016, level='Year')['TotalPay'],\n",
    "    name='2016'\n",
    ")\n",
    "\n",
    "trace7 = go.Bar(\n",
    "    x=job_names,\n",
    "    y=salaries_jobs_by_year.xs(2017, level='Year')['TotalPay'],\n",
    "    name='2017'\n",
    ")\n",
    "\n",
    "trace8 = go.Bar(\n",
    "    x=job_names,\n",
    "    y=salaries_jobs_by_year.xs(2018, level='Year')['TotalPay'],\n",
    "    name='2018'\n",
    ")\n",
    "\n",
    "\n",
    "data = [trace1, trace2, trace3, trace4,trace5,trace6,trace7,trace8]\n",
    "layout = go.Layout(\n",
    "    barmode='group'\n",
    ")\n",
    "\n",
    "fig = go.Figure(data=data, layout=layout)\n",
    "cf.iplot(fig, filename='grouped-bar')"
   ]
  },
  {
   "cell_type": "code",
   "execution_count": 22,
   "id": "35eb043b",
   "metadata": {},
   "outputs": [
    {
     "data": {
      "text/html": [
       "<div>\n",
       "<style scoped>\n",
       "    .dataframe tbody tr th:only-of-type {\n",
       "        vertical-align: middle;\n",
       "    }\n",
       "\n",
       "    .dataframe tbody tr th {\n",
       "        vertical-align: top;\n",
       "    }\n",
       "\n",
       "    .dataframe thead th {\n",
       "        text-align: right;\n",
       "    }\n",
       "</style>\n",
       "<table border=\"1\" class=\"dataframe\">\n",
       "  <thead>\n",
       "    <tr style=\"text-align: right;\">\n",
       "      <th></th>\n",
       "      <th>BasePay</th>\n",
       "      <th>OvertimePay</th>\n",
       "      <th>Benefits</th>\n",
       "    </tr>\n",
       "    <tr>\n",
       "      <th>GeneralJobTitle</th>\n",
       "      <th></th>\n",
       "      <th></th>\n",
       "      <th></th>\n",
       "    </tr>\n",
       "  </thead>\n",
       "  <tbody>\n",
       "    <tr>\n",
       "      <th>account</th>\n",
       "      <td>66717.135899</td>\n",
       "      <td>341.166288</td>\n",
       "      <td>25659.902588</td>\n",
       "    </tr>\n",
       "    <tr>\n",
       "      <th>airport</th>\n",
       "      <td>85402.663850</td>\n",
       "      <td>6826.771058</td>\n",
       "      <td>29906.730478</td>\n",
       "    </tr>\n",
       "    <tr>\n",
       "      <th>analyst</th>\n",
       "      <td>86035.061995</td>\n",
       "      <td>227.303458</td>\n",
       "      <td>29010.622275</td>\n",
       "    </tr>\n",
       "    <tr>\n",
       "      <th>architect</th>\n",
       "      <td>119825.757335</td>\n",
       "      <td>113.169328</td>\n",
       "      <td>36012.531717</td>\n",
       "    </tr>\n",
       "    <tr>\n",
       "      <th>assistant</th>\n",
       "      <td>42629.003325</td>\n",
       "      <td>2150.002835</td>\n",
       "      <td>17494.448297</td>\n",
       "    </tr>\n",
       "    <tr>\n",
       "      <th>attorney</th>\n",
       "      <td>141293.661766</td>\n",
       "      <td>27.794923</td>\n",
       "      <td>39396.264523</td>\n",
       "    </tr>\n",
       "    <tr>\n",
       "      <th>automotive</th>\n",
       "      <td>72244.294153</td>\n",
       "      <td>9761.070597</td>\n",
       "      <td>28355.382788</td>\n",
       "    </tr>\n",
       "    <tr>\n",
       "      <th>clerk</th>\n",
       "      <td>45081.863942</td>\n",
       "      <td>1109.037894</td>\n",
       "      <td>20357.632215</td>\n",
       "    </tr>\n",
       "    <tr>\n",
       "      <th>court</th>\n",
       "      <td>63886.657289</td>\n",
       "      <td>635.469540</td>\n",
       "      <td>25520.225705</td>\n",
       "    </tr>\n",
       "    <tr>\n",
       "      <th>custodian</th>\n",
       "      <td>45385.354457</td>\n",
       "      <td>1988.753585</td>\n",
       "      <td>22025.495769</td>\n",
       "    </tr>\n",
       "    <tr>\n",
       "      <th>engineer</th>\n",
       "      <td>84420.204264</td>\n",
       "      <td>2684.679370</td>\n",
       "      <td>27629.423068</td>\n",
       "    </tr>\n",
       "    <tr>\n",
       "      <th>fire</th>\n",
       "      <td>105856.430778</td>\n",
       "      <td>23663.525404</td>\n",
       "      <td>35456.729368</td>\n",
       "    </tr>\n",
       "    <tr>\n",
       "      <th>food service</th>\n",
       "      <td>44992.383265</td>\n",
       "      <td>2071.261105</td>\n",
       "      <td>22794.774872</td>\n",
       "    </tr>\n",
       "    <tr>\n",
       "      <th>gardener</th>\n",
       "      <td>53196.082576</td>\n",
       "      <td>2268.088768</td>\n",
       "      <td>22808.860931</td>\n",
       "    </tr>\n",
       "    <tr>\n",
       "      <th>general laborer</th>\n",
       "      <td>79871.508957</td>\n",
       "      <td>7239.218467</td>\n",
       "      <td>28842.540396</td>\n",
       "    </tr>\n",
       "    <tr>\n",
       "      <th>guard</th>\n",
       "      <td>17042.327267</td>\n",
       "      <td>1774.421466</td>\n",
       "      <td>7544.521934</td>\n",
       "    </tr>\n",
       "    <tr>\n",
       "      <th>library</th>\n",
       "      <td>43261.389888</td>\n",
       "      <td>4.387512</td>\n",
       "      <td>18651.184306</td>\n",
       "    </tr>\n",
       "    <tr>\n",
       "      <th>manager</th>\n",
       "      <td>126695.329484</td>\n",
       "      <td>72.587717</td>\n",
       "      <td>38353.598797</td>\n",
       "    </tr>\n",
       "    <tr>\n",
       "      <th>medical</th>\n",
       "      <td>73760.268923</td>\n",
       "      <td>2484.022392</td>\n",
       "      <td>22654.281721</td>\n",
       "    </tr>\n",
       "    <tr>\n",
       "      <th>other</th>\n",
       "      <td>74924.597306</td>\n",
       "      <td>3246.403261</td>\n",
       "      <td>26422.186674</td>\n",
       "    </tr>\n",
       "    <tr>\n",
       "      <th>police</th>\n",
       "      <td>93592.009418</td>\n",
       "      <td>14887.185354</td>\n",
       "      <td>31536.435583</td>\n",
       "    </tr>\n",
       "    <tr>\n",
       "      <th>porter</th>\n",
       "      <td>43098.940775</td>\n",
       "      <td>3540.167291</td>\n",
       "      <td>20626.108117</td>\n",
       "    </tr>\n",
       "    <tr>\n",
       "      <th>public works</th>\n",
       "      <td>26352.649237</td>\n",
       "      <td>3661.744180</td>\n",
       "      <td>10296.905879</td>\n",
       "    </tr>\n",
       "    <tr>\n",
       "      <th>recreation leader</th>\n",
       "      <td>12647.517160</td>\n",
       "      <td>11.367708</td>\n",
       "      <td>6045.536873</td>\n",
       "    </tr>\n",
       "    <tr>\n",
       "      <th>social worker</th>\n",
       "      <td>59712.964319</td>\n",
       "      <td>3278.418012</td>\n",
       "      <td>24293.706230</td>\n",
       "    </tr>\n",
       "    <tr>\n",
       "      <th>transit</th>\n",
       "      <td>59826.379211</td>\n",
       "      <td>12836.298539</td>\n",
       "      <td>26968.302614</td>\n",
       "    </tr>\n",
       "  </tbody>\n",
       "</table>\n",
       "</div>"
      ],
      "text/plain": [
       "                         BasePay   OvertimePay      Benefits\n",
       "GeneralJobTitle                                             \n",
       "account             66717.135899    341.166288  25659.902588\n",
       "airport             85402.663850   6826.771058  29906.730478\n",
       "analyst             86035.061995    227.303458  29010.622275\n",
       "architect          119825.757335    113.169328  36012.531717\n",
       "assistant           42629.003325   2150.002835  17494.448297\n",
       "attorney           141293.661766     27.794923  39396.264523\n",
       "automotive          72244.294153   9761.070597  28355.382788\n",
       "clerk               45081.863942   1109.037894  20357.632215\n",
       "court               63886.657289    635.469540  25520.225705\n",
       "custodian           45385.354457   1988.753585  22025.495769\n",
       "engineer            84420.204264   2684.679370  27629.423068\n",
       "fire               105856.430778  23663.525404  35456.729368\n",
       "food service        44992.383265   2071.261105  22794.774872\n",
       "gardener            53196.082576   2268.088768  22808.860931\n",
       "general laborer     79871.508957   7239.218467  28842.540396\n",
       "guard               17042.327267   1774.421466   7544.521934\n",
       "library             43261.389888      4.387512  18651.184306\n",
       "manager            126695.329484     72.587717  38353.598797\n",
       "medical             73760.268923   2484.022392  22654.281721\n",
       "other               74924.597306   3246.403261  26422.186674\n",
       "police              93592.009418  14887.185354  31536.435583\n",
       "porter              43098.940775   3540.167291  20626.108117\n",
       "public works        26352.649237   3661.744180  10296.905879\n",
       "recreation leader   12647.517160     11.367708   6045.536873\n",
       "social worker       59712.964319   3278.418012  24293.706230\n",
       "transit             59826.379211  12836.298539  26968.302614"
      ]
     },
     "execution_count": 22,
     "metadata": {},
     "output_type": "execute_result"
    }
   ],
   "source": [
    "# The code we provided calculates the average values of 'BasePay', 'OvertimePay', and 'Benefits' \n",
    "# for each 'GeneralJobTitle' in the DataFrame df\n",
    "\n",
    "salaries_jobs_benefits=df[['GeneralJobTitle', 'BasePay', 'OvertimePay', 'Benefits']].groupby(['GeneralJobTitle']).mean()\n",
    "salaries_jobs_benefits"
   ]
  },
  {
   "cell_type": "code",
   "execution_count": 23,
   "id": "7529758e",
   "metadata": {},
   "outputs": [
    {
     "data": {
      "application/vnd.plotly.v1+json": {
       "config": {
        "linkText": "Export to plot.ly",
        "plotlyServerURL": "https://plot.ly",
        "showLink": true
       },
       "data": [
        {
         "name": "Base Pay",
         "type": "bar",
         "x": [
          "account",
          "airport",
          "analyst",
          "architect",
          "assistant",
          "attorney",
          "automotive",
          "clerk",
          "court",
          "custodian",
          "engineer",
          "fire",
          "food service",
          "gardener",
          "general laborer",
          "guard",
          "library",
          "manager",
          "medical",
          "other",
          "police",
          "porter",
          "public works",
          "recreation leader",
          "social worker",
          "transit"
         ],
         "y": [
          66717.1358988764,
          85402.66384950926,
          86035.06199528302,
          119825.75733485194,
          42629.00332453736,
          141293.66176561534,
          72244.29415292354,
          45081.86394156686,
          63886.65728944821,
          45385.35445700321,
          84420.20426387069,
          105856.43077839987,
          44992.38326530612,
          53196.08257604928,
          79871.50895724159,
          17042.327266549757,
          43261.38988847584,
          126695.32948411583,
          73760.2689227046,
          74924.59730626321,
          93592.00941802235,
          43098.9407745098,
          26352.649237142858,
          12647.517160101654,
          59712.96431940121,
          59826.379210840234
         ]
        },
        {
         "name": "Overtime Pay",
         "type": "bar",
         "x": [
          "account",
          "airport",
          "analyst",
          "architect",
          "assistant",
          "attorney",
          "automotive",
          "clerk",
          "court",
          "custodian",
          "engineer",
          "fire",
          "food service",
          "gardener",
          "general laborer",
          "guard",
          "library",
          "manager",
          "medical",
          "other",
          "police",
          "porter",
          "public works",
          "recreation leader",
          "social worker",
          "transit"
         ],
         "y": [
          341.1662878133103,
          6826.771057797164,
          227.3034575471698,
          113.16932801822323,
          2150.0028353462567,
          27.794922696351268,
          9761.0705972014,
          1109.0378938134106,
          635.4695401742498,
          1988.753584848022,
          2684.679370280222,
          23663.525403648186,
          2071.261105442177,
          2268.0887678090103,
          7239.218466621098,
          1774.4214664620781,
          4.387511617100372,
          72.58771717739668,
          2484.0223924415764,
          3246.4032605580787,
          14887.18535392361,
          3540.1672908496735,
          3661.74418,
          11.367708068614993,
          3278.4180115254685,
          12836.298539476627
         ]
        },
        {
         "name": "Benefits",
         "type": "bar",
         "x": [
          "account",
          "airport",
          "analyst",
          "architect",
          "assistant",
          "attorney",
          "automotive",
          "clerk",
          "court",
          "custodian",
          "engineer",
          "fire",
          "food service",
          "gardener",
          "general laborer",
          "guard",
          "library",
          "manager",
          "medical",
          "other",
          "police",
          "porter",
          "public works",
          "recreation leader",
          "social worker",
          "transit"
         ],
         "y": [
          25659.902587865723,
          29906.730478442187,
          29010.6222754859,
          36012.531716758014,
          17494.448297016028,
          39396.2645226098,
          28355.382788493956,
          20357.632214993177,
          25520.225704765526,
          22025.495769100293,
          27629.42306780567,
          35456.72936831346,
          22794.774872195314,
          22808.860931327356,
          28842.540396451488,
          7544.521934098844,
          18651.184306199204,
          38353.59879674949,
          22654.28172109002,
          26422.18667417958,
          31536.43558305248,
          20626.10811708631,
          10296.905879029953,
          6045.536872665123,
          24293.706229541676,
          26968.302614316184
         ]
        }
       ],
       "layout": {
        "barmode": "group",
        "template": {
         "data": {
          "bar": [
           {
            "error_x": {
             "color": "#2a3f5f"
            },
            "error_y": {
             "color": "#2a3f5f"
            },
            "marker": {
             "line": {
              "color": "#E5ECF6",
              "width": 0.5
             },
             "pattern": {
              "fillmode": "overlay",
              "size": 10,
              "solidity": 0.2
             }
            },
            "type": "bar"
           }
          ],
          "barpolar": [
           {
            "marker": {
             "line": {
              "color": "#E5ECF6",
              "width": 0.5
             },
             "pattern": {
              "fillmode": "overlay",
              "size": 10,
              "solidity": 0.2
             }
            },
            "type": "barpolar"
           }
          ],
          "carpet": [
           {
            "aaxis": {
             "endlinecolor": "#2a3f5f",
             "gridcolor": "white",
             "linecolor": "white",
             "minorgridcolor": "white",
             "startlinecolor": "#2a3f5f"
            },
            "baxis": {
             "endlinecolor": "#2a3f5f",
             "gridcolor": "white",
             "linecolor": "white",
             "minorgridcolor": "white",
             "startlinecolor": "#2a3f5f"
            },
            "type": "carpet"
           }
          ],
          "choropleth": [
           {
            "colorbar": {
             "outlinewidth": 0,
             "ticks": ""
            },
            "type": "choropleth"
           }
          ],
          "contour": [
           {
            "colorbar": {
             "outlinewidth": 0,
             "ticks": ""
            },
            "colorscale": [
             [
              0,
              "#0d0887"
             ],
             [
              0.1111111111111111,
              "#46039f"
             ],
             [
              0.2222222222222222,
              "#7201a8"
             ],
             [
              0.3333333333333333,
              "#9c179e"
             ],
             [
              0.4444444444444444,
              "#bd3786"
             ],
             [
              0.5555555555555556,
              "#d8576b"
             ],
             [
              0.6666666666666666,
              "#ed7953"
             ],
             [
              0.7777777777777778,
              "#fb9f3a"
             ],
             [
              0.8888888888888888,
              "#fdca26"
             ],
             [
              1,
              "#f0f921"
             ]
            ],
            "type": "contour"
           }
          ],
          "contourcarpet": [
           {
            "colorbar": {
             "outlinewidth": 0,
             "ticks": ""
            },
            "type": "contourcarpet"
           }
          ],
          "heatmap": [
           {
            "colorbar": {
             "outlinewidth": 0,
             "ticks": ""
            },
            "colorscale": [
             [
              0,
              "#0d0887"
             ],
             [
              0.1111111111111111,
              "#46039f"
             ],
             [
              0.2222222222222222,
              "#7201a8"
             ],
             [
              0.3333333333333333,
              "#9c179e"
             ],
             [
              0.4444444444444444,
              "#bd3786"
             ],
             [
              0.5555555555555556,
              "#d8576b"
             ],
             [
              0.6666666666666666,
              "#ed7953"
             ],
             [
              0.7777777777777778,
              "#fb9f3a"
             ],
             [
              0.8888888888888888,
              "#fdca26"
             ],
             [
              1,
              "#f0f921"
             ]
            ],
            "type": "heatmap"
           }
          ],
          "heatmapgl": [
           {
            "colorbar": {
             "outlinewidth": 0,
             "ticks": ""
            },
            "colorscale": [
             [
              0,
              "#0d0887"
             ],
             [
              0.1111111111111111,
              "#46039f"
             ],
             [
              0.2222222222222222,
              "#7201a8"
             ],
             [
              0.3333333333333333,
              "#9c179e"
             ],
             [
              0.4444444444444444,
              "#bd3786"
             ],
             [
              0.5555555555555556,
              "#d8576b"
             ],
             [
              0.6666666666666666,
              "#ed7953"
             ],
             [
              0.7777777777777778,
              "#fb9f3a"
             ],
             [
              0.8888888888888888,
              "#fdca26"
             ],
             [
              1,
              "#f0f921"
             ]
            ],
            "type": "heatmapgl"
           }
          ],
          "histogram": [
           {
            "marker": {
             "pattern": {
              "fillmode": "overlay",
              "size": 10,
              "solidity": 0.2
             }
            },
            "type": "histogram"
           }
          ],
          "histogram2d": [
           {
            "colorbar": {
             "outlinewidth": 0,
             "ticks": ""
            },
            "colorscale": [
             [
              0,
              "#0d0887"
             ],
             [
              0.1111111111111111,
              "#46039f"
             ],
             [
              0.2222222222222222,
              "#7201a8"
             ],
             [
              0.3333333333333333,
              "#9c179e"
             ],
             [
              0.4444444444444444,
              "#bd3786"
             ],
             [
              0.5555555555555556,
              "#d8576b"
             ],
             [
              0.6666666666666666,
              "#ed7953"
             ],
             [
              0.7777777777777778,
              "#fb9f3a"
             ],
             [
              0.8888888888888888,
              "#fdca26"
             ],
             [
              1,
              "#f0f921"
             ]
            ],
            "type": "histogram2d"
           }
          ],
          "histogram2dcontour": [
           {
            "colorbar": {
             "outlinewidth": 0,
             "ticks": ""
            },
            "colorscale": [
             [
              0,
              "#0d0887"
             ],
             [
              0.1111111111111111,
              "#46039f"
             ],
             [
              0.2222222222222222,
              "#7201a8"
             ],
             [
              0.3333333333333333,
              "#9c179e"
             ],
             [
              0.4444444444444444,
              "#bd3786"
             ],
             [
              0.5555555555555556,
              "#d8576b"
             ],
             [
              0.6666666666666666,
              "#ed7953"
             ],
             [
              0.7777777777777778,
              "#fb9f3a"
             ],
             [
              0.8888888888888888,
              "#fdca26"
             ],
             [
              1,
              "#f0f921"
             ]
            ],
            "type": "histogram2dcontour"
           }
          ],
          "mesh3d": [
           {
            "colorbar": {
             "outlinewidth": 0,
             "ticks": ""
            },
            "type": "mesh3d"
           }
          ],
          "parcoords": [
           {
            "line": {
             "colorbar": {
              "outlinewidth": 0,
              "ticks": ""
             }
            },
            "type": "parcoords"
           }
          ],
          "pie": [
           {
            "automargin": true,
            "type": "pie"
           }
          ],
          "scatter": [
           {
            "fillpattern": {
             "fillmode": "overlay",
             "size": 10,
             "solidity": 0.2
            },
            "type": "scatter"
           }
          ],
          "scatter3d": [
           {
            "line": {
             "colorbar": {
              "outlinewidth": 0,
              "ticks": ""
             }
            },
            "marker": {
             "colorbar": {
              "outlinewidth": 0,
              "ticks": ""
             }
            },
            "type": "scatter3d"
           }
          ],
          "scattercarpet": [
           {
            "marker": {
             "colorbar": {
              "outlinewidth": 0,
              "ticks": ""
             }
            },
            "type": "scattercarpet"
           }
          ],
          "scattergeo": [
           {
            "marker": {
             "colorbar": {
              "outlinewidth": 0,
              "ticks": ""
             }
            },
            "type": "scattergeo"
           }
          ],
          "scattergl": [
           {
            "marker": {
             "colorbar": {
              "outlinewidth": 0,
              "ticks": ""
             }
            },
            "type": "scattergl"
           }
          ],
          "scattermapbox": [
           {
            "marker": {
             "colorbar": {
              "outlinewidth": 0,
              "ticks": ""
             }
            },
            "type": "scattermapbox"
           }
          ],
          "scatterpolar": [
           {
            "marker": {
             "colorbar": {
              "outlinewidth": 0,
              "ticks": ""
             }
            },
            "type": "scatterpolar"
           }
          ],
          "scatterpolargl": [
           {
            "marker": {
             "colorbar": {
              "outlinewidth": 0,
              "ticks": ""
             }
            },
            "type": "scatterpolargl"
           }
          ],
          "scatterternary": [
           {
            "marker": {
             "colorbar": {
              "outlinewidth": 0,
              "ticks": ""
             }
            },
            "type": "scatterternary"
           }
          ],
          "surface": [
           {
            "colorbar": {
             "outlinewidth": 0,
             "ticks": ""
            },
            "colorscale": [
             [
              0,
              "#0d0887"
             ],
             [
              0.1111111111111111,
              "#46039f"
             ],
             [
              0.2222222222222222,
              "#7201a8"
             ],
             [
              0.3333333333333333,
              "#9c179e"
             ],
             [
              0.4444444444444444,
              "#bd3786"
             ],
             [
              0.5555555555555556,
              "#d8576b"
             ],
             [
              0.6666666666666666,
              "#ed7953"
             ],
             [
              0.7777777777777778,
              "#fb9f3a"
             ],
             [
              0.8888888888888888,
              "#fdca26"
             ],
             [
              1,
              "#f0f921"
             ]
            ],
            "type": "surface"
           }
          ],
          "table": [
           {
            "cells": {
             "fill": {
              "color": "#EBF0F8"
             },
             "line": {
              "color": "white"
             }
            },
            "header": {
             "fill": {
              "color": "#C8D4E3"
             },
             "line": {
              "color": "white"
             }
            },
            "type": "table"
           }
          ]
         },
         "layout": {
          "annotationdefaults": {
           "arrowcolor": "#2a3f5f",
           "arrowhead": 0,
           "arrowwidth": 1
          },
          "autotypenumbers": "strict",
          "coloraxis": {
           "colorbar": {
            "outlinewidth": 0,
            "ticks": ""
           }
          },
          "colorscale": {
           "diverging": [
            [
             0,
             "#8e0152"
            ],
            [
             0.1,
             "#c51b7d"
            ],
            [
             0.2,
             "#de77ae"
            ],
            [
             0.3,
             "#f1b6da"
            ],
            [
             0.4,
             "#fde0ef"
            ],
            [
             0.5,
             "#f7f7f7"
            ],
            [
             0.6,
             "#e6f5d0"
            ],
            [
             0.7,
             "#b8e186"
            ],
            [
             0.8,
             "#7fbc41"
            ],
            [
             0.9,
             "#4d9221"
            ],
            [
             1,
             "#276419"
            ]
           ],
           "sequential": [
            [
             0,
             "#0d0887"
            ],
            [
             0.1111111111111111,
             "#46039f"
            ],
            [
             0.2222222222222222,
             "#7201a8"
            ],
            [
             0.3333333333333333,
             "#9c179e"
            ],
            [
             0.4444444444444444,
             "#bd3786"
            ],
            [
             0.5555555555555556,
             "#d8576b"
            ],
            [
             0.6666666666666666,
             "#ed7953"
            ],
            [
             0.7777777777777778,
             "#fb9f3a"
            ],
            [
             0.8888888888888888,
             "#fdca26"
            ],
            [
             1,
             "#f0f921"
            ]
           ],
           "sequentialminus": [
            [
             0,
             "#0d0887"
            ],
            [
             0.1111111111111111,
             "#46039f"
            ],
            [
             0.2222222222222222,
             "#7201a8"
            ],
            [
             0.3333333333333333,
             "#9c179e"
            ],
            [
             0.4444444444444444,
             "#bd3786"
            ],
            [
             0.5555555555555556,
             "#d8576b"
            ],
            [
             0.6666666666666666,
             "#ed7953"
            ],
            [
             0.7777777777777778,
             "#fb9f3a"
            ],
            [
             0.8888888888888888,
             "#fdca26"
            ],
            [
             1,
             "#f0f921"
            ]
           ]
          },
          "colorway": [
           "#636efa",
           "#EF553B",
           "#00cc96",
           "#ab63fa",
           "#FFA15A",
           "#19d3f3",
           "#FF6692",
           "#B6E880",
           "#FF97FF",
           "#FECB52"
          ],
          "font": {
           "color": "#2a3f5f"
          },
          "geo": {
           "bgcolor": "white",
           "lakecolor": "white",
           "landcolor": "#E5ECF6",
           "showlakes": true,
           "showland": true,
           "subunitcolor": "white"
          },
          "hoverlabel": {
           "align": "left"
          },
          "hovermode": "closest",
          "mapbox": {
           "style": "light"
          },
          "paper_bgcolor": "white",
          "plot_bgcolor": "#E5ECF6",
          "polar": {
           "angularaxis": {
            "gridcolor": "white",
            "linecolor": "white",
            "ticks": ""
           },
           "bgcolor": "#E5ECF6",
           "radialaxis": {
            "gridcolor": "white",
            "linecolor": "white",
            "ticks": ""
           }
          },
          "scene": {
           "xaxis": {
            "backgroundcolor": "#E5ECF6",
            "gridcolor": "white",
            "gridwidth": 2,
            "linecolor": "white",
            "showbackground": true,
            "ticks": "",
            "zerolinecolor": "white"
           },
           "yaxis": {
            "backgroundcolor": "#E5ECF6",
            "gridcolor": "white",
            "gridwidth": 2,
            "linecolor": "white",
            "showbackground": true,
            "ticks": "",
            "zerolinecolor": "white"
           },
           "zaxis": {
            "backgroundcolor": "#E5ECF6",
            "gridcolor": "white",
            "gridwidth": 2,
            "linecolor": "white",
            "showbackground": true,
            "ticks": "",
            "zerolinecolor": "white"
           }
          },
          "shapedefaults": {
           "line": {
            "color": "#2a3f5f"
           }
          },
          "ternary": {
           "aaxis": {
            "gridcolor": "white",
            "linecolor": "white",
            "ticks": ""
           },
           "baxis": {
            "gridcolor": "white",
            "linecolor": "white",
            "ticks": ""
           },
           "bgcolor": "#E5ECF6",
           "caxis": {
            "gridcolor": "white",
            "linecolor": "white",
            "ticks": ""
           }
          },
          "title": {
           "x": 0.05
          },
          "xaxis": {
           "automargin": true,
           "gridcolor": "white",
           "linecolor": "white",
           "ticks": "",
           "title": {
            "standoff": 15
           },
           "zerolinecolor": "white",
           "zerolinewidth": 2
          },
          "yaxis": {
           "automargin": true,
           "gridcolor": "white",
           "linecolor": "white",
           "ticks": "",
           "title": {
            "standoff": 15
           },
           "zerolinecolor": "white",
           "zerolinewidth": 2
          }
         }
        }
       }
      },
      "text/html": [
       "<div>                            <div id=\"7ada6e07-03ed-493b-af33-e4660aaa9fb3\" class=\"plotly-graph-div\" style=\"height:525px; width:100%;\"></div>            <script type=\"text/javascript\">                require([\"plotly\"], function(Plotly) {                    window.PLOTLYENV=window.PLOTLYENV || {};\n",
       "                    window.PLOTLYENV.BASE_URL='https://plot.ly';                                    if (document.getElementById(\"7ada6e07-03ed-493b-af33-e4660aaa9fb3\")) {                    Plotly.newPlot(                        \"7ada6e07-03ed-493b-af33-e4660aaa9fb3\",                        [{\"name\":\"Base Pay\",\"x\":[\"account\",\"airport\",\"analyst\",\"architect\",\"assistant\",\"attorney\",\"automotive\",\"clerk\",\"court\",\"custodian\",\"engineer\",\"fire\",\"food service\",\"gardener\",\"general laborer\",\"guard\",\"library\",\"manager\",\"medical\",\"other\",\"police\",\"porter\",\"public works\",\"recreation leader\",\"social worker\",\"transit\"],\"y\":[66717.1358988764,85402.66384950926,86035.06199528302,119825.75733485194,42629.00332453736,141293.66176561534,72244.29415292354,45081.86394156686,63886.65728944821,45385.35445700321,84420.20426387069,105856.43077839987,44992.38326530612,53196.08257604928,79871.50895724159,17042.327266549757,43261.38988847584,126695.32948411583,73760.2689227046,74924.59730626321,93592.00941802235,43098.9407745098,26352.649237142858,12647.517160101654,59712.96431940121,59826.379210840234],\"type\":\"bar\"},{\"name\":\"Overtime Pay\",\"x\":[\"account\",\"airport\",\"analyst\",\"architect\",\"assistant\",\"attorney\",\"automotive\",\"clerk\",\"court\",\"custodian\",\"engineer\",\"fire\",\"food service\",\"gardener\",\"general laborer\",\"guard\",\"library\",\"manager\",\"medical\",\"other\",\"police\",\"porter\",\"public works\",\"recreation leader\",\"social worker\",\"transit\"],\"y\":[341.1662878133103,6826.771057797164,227.3034575471698,113.16932801822323,2150.0028353462567,27.794922696351268,9761.0705972014,1109.0378938134106,635.4695401742498,1988.753584848022,2684.679370280222,23663.525403648186,2071.261105442177,2268.0887678090103,7239.218466621098,1774.4214664620781,4.387511617100372,72.58771717739668,2484.0223924415764,3246.4032605580787,14887.18535392361,3540.1672908496735,3661.74418,11.367708068614993,3278.4180115254685,12836.298539476627],\"type\":\"bar\"},{\"name\":\"Benefits\",\"x\":[\"account\",\"airport\",\"analyst\",\"architect\",\"assistant\",\"attorney\",\"automotive\",\"clerk\",\"court\",\"custodian\",\"engineer\",\"fire\",\"food service\",\"gardener\",\"general laborer\",\"guard\",\"library\",\"manager\",\"medical\",\"other\",\"police\",\"porter\",\"public works\",\"recreation leader\",\"social worker\",\"transit\"],\"y\":[25659.902587865723,29906.730478442187,29010.6222754859,36012.531716758014,17494.448297016028,39396.2645226098,28355.382788493956,20357.632214993177,25520.225704765526,22025.495769100293,27629.42306780567,35456.72936831346,22794.774872195314,22808.860931327356,28842.540396451488,7544.521934098844,18651.184306199204,38353.59879674949,22654.28172109002,26422.18667417958,31536.43558305248,20626.10811708631,10296.905879029953,6045.536872665123,24293.706229541676,26968.302614316184],\"type\":\"bar\"}],                        {\"barmode\":\"group\",\"template\":{\"data\":{\"histogram2dcontour\":[{\"type\":\"histogram2dcontour\",\"colorbar\":{\"outlinewidth\":0,\"ticks\":\"\"},\"colorscale\":[[0.0,\"#0d0887\"],[0.1111111111111111,\"#46039f\"],[0.2222222222222222,\"#7201a8\"],[0.3333333333333333,\"#9c179e\"],[0.4444444444444444,\"#bd3786\"],[0.5555555555555556,\"#d8576b\"],[0.6666666666666666,\"#ed7953\"],[0.7777777777777778,\"#fb9f3a\"],[0.8888888888888888,\"#fdca26\"],[1.0,\"#f0f921\"]]}],\"choropleth\":[{\"type\":\"choropleth\",\"colorbar\":{\"outlinewidth\":0,\"ticks\":\"\"}}],\"histogram2d\":[{\"type\":\"histogram2d\",\"colorbar\":{\"outlinewidth\":0,\"ticks\":\"\"},\"colorscale\":[[0.0,\"#0d0887\"],[0.1111111111111111,\"#46039f\"],[0.2222222222222222,\"#7201a8\"],[0.3333333333333333,\"#9c179e\"],[0.4444444444444444,\"#bd3786\"],[0.5555555555555556,\"#d8576b\"],[0.6666666666666666,\"#ed7953\"],[0.7777777777777778,\"#fb9f3a\"],[0.8888888888888888,\"#fdca26\"],[1.0,\"#f0f921\"]]}],\"heatmap\":[{\"type\":\"heatmap\",\"colorbar\":{\"outlinewidth\":0,\"ticks\":\"\"},\"colorscale\":[[0.0,\"#0d0887\"],[0.1111111111111111,\"#46039f\"],[0.2222222222222222,\"#7201a8\"],[0.3333333333333333,\"#9c179e\"],[0.4444444444444444,\"#bd3786\"],[0.5555555555555556,\"#d8576b\"],[0.6666666666666666,\"#ed7953\"],[0.7777777777777778,\"#fb9f3a\"],[0.8888888888888888,\"#fdca26\"],[1.0,\"#f0f921\"]]}],\"heatmapgl\":[{\"type\":\"heatmapgl\",\"colorbar\":{\"outlinewidth\":0,\"ticks\":\"\"},\"colorscale\":[[0.0,\"#0d0887\"],[0.1111111111111111,\"#46039f\"],[0.2222222222222222,\"#7201a8\"],[0.3333333333333333,\"#9c179e\"],[0.4444444444444444,\"#bd3786\"],[0.5555555555555556,\"#d8576b\"],[0.6666666666666666,\"#ed7953\"],[0.7777777777777778,\"#fb9f3a\"],[0.8888888888888888,\"#fdca26\"],[1.0,\"#f0f921\"]]}],\"contourcarpet\":[{\"type\":\"contourcarpet\",\"colorbar\":{\"outlinewidth\":0,\"ticks\":\"\"}}],\"contour\":[{\"type\":\"contour\",\"colorbar\":{\"outlinewidth\":0,\"ticks\":\"\"},\"colorscale\":[[0.0,\"#0d0887\"],[0.1111111111111111,\"#46039f\"],[0.2222222222222222,\"#7201a8\"],[0.3333333333333333,\"#9c179e\"],[0.4444444444444444,\"#bd3786\"],[0.5555555555555556,\"#d8576b\"],[0.6666666666666666,\"#ed7953\"],[0.7777777777777778,\"#fb9f3a\"],[0.8888888888888888,\"#fdca26\"],[1.0,\"#f0f921\"]]}],\"surface\":[{\"type\":\"surface\",\"colorbar\":{\"outlinewidth\":0,\"ticks\":\"\"},\"colorscale\":[[0.0,\"#0d0887\"],[0.1111111111111111,\"#46039f\"],[0.2222222222222222,\"#7201a8\"],[0.3333333333333333,\"#9c179e\"],[0.4444444444444444,\"#bd3786\"],[0.5555555555555556,\"#d8576b\"],[0.6666666666666666,\"#ed7953\"],[0.7777777777777778,\"#fb9f3a\"],[0.8888888888888888,\"#fdca26\"],[1.0,\"#f0f921\"]]}],\"mesh3d\":[{\"type\":\"mesh3d\",\"colorbar\":{\"outlinewidth\":0,\"ticks\":\"\"}}],\"scatter\":[{\"fillpattern\":{\"fillmode\":\"overlay\",\"size\":10,\"solidity\":0.2},\"type\":\"scatter\"}],\"parcoords\":[{\"type\":\"parcoords\",\"line\":{\"colorbar\":{\"outlinewidth\":0,\"ticks\":\"\"}}}],\"scatterpolargl\":[{\"type\":\"scatterpolargl\",\"marker\":{\"colorbar\":{\"outlinewidth\":0,\"ticks\":\"\"}}}],\"bar\":[{\"error_x\":{\"color\":\"#2a3f5f\"},\"error_y\":{\"color\":\"#2a3f5f\"},\"marker\":{\"line\":{\"color\":\"#E5ECF6\",\"width\":0.5},\"pattern\":{\"fillmode\":\"overlay\",\"size\":10,\"solidity\":0.2}},\"type\":\"bar\"}],\"scattergeo\":[{\"type\":\"scattergeo\",\"marker\":{\"colorbar\":{\"outlinewidth\":0,\"ticks\":\"\"}}}],\"scatterpolar\":[{\"type\":\"scatterpolar\",\"marker\":{\"colorbar\":{\"outlinewidth\":0,\"ticks\":\"\"}}}],\"histogram\":[{\"marker\":{\"pattern\":{\"fillmode\":\"overlay\",\"size\":10,\"solidity\":0.2}},\"type\":\"histogram\"}],\"scattergl\":[{\"type\":\"scattergl\",\"marker\":{\"colorbar\":{\"outlinewidth\":0,\"ticks\":\"\"}}}],\"scatter3d\":[{\"type\":\"scatter3d\",\"line\":{\"colorbar\":{\"outlinewidth\":0,\"ticks\":\"\"}},\"marker\":{\"colorbar\":{\"outlinewidth\":0,\"ticks\":\"\"}}}],\"scattermapbox\":[{\"type\":\"scattermapbox\",\"marker\":{\"colorbar\":{\"outlinewidth\":0,\"ticks\":\"\"}}}],\"scatterternary\":[{\"type\":\"scatterternary\",\"marker\":{\"colorbar\":{\"outlinewidth\":0,\"ticks\":\"\"}}}],\"scattercarpet\":[{\"type\":\"scattercarpet\",\"marker\":{\"colorbar\":{\"outlinewidth\":0,\"ticks\":\"\"}}}],\"carpet\":[{\"aaxis\":{\"endlinecolor\":\"#2a3f5f\",\"gridcolor\":\"white\",\"linecolor\":\"white\",\"minorgridcolor\":\"white\",\"startlinecolor\":\"#2a3f5f\"},\"baxis\":{\"endlinecolor\":\"#2a3f5f\",\"gridcolor\":\"white\",\"linecolor\":\"white\",\"minorgridcolor\":\"white\",\"startlinecolor\":\"#2a3f5f\"},\"type\":\"carpet\"}],\"table\":[{\"cells\":{\"fill\":{\"color\":\"#EBF0F8\"},\"line\":{\"color\":\"white\"}},\"header\":{\"fill\":{\"color\":\"#C8D4E3\"},\"line\":{\"color\":\"white\"}},\"type\":\"table\"}],\"barpolar\":[{\"marker\":{\"line\":{\"color\":\"#E5ECF6\",\"width\":0.5},\"pattern\":{\"fillmode\":\"overlay\",\"size\":10,\"solidity\":0.2}},\"type\":\"barpolar\"}],\"pie\":[{\"automargin\":true,\"type\":\"pie\"}]},\"layout\":{\"autotypenumbers\":\"strict\",\"colorway\":[\"#636efa\",\"#EF553B\",\"#00cc96\",\"#ab63fa\",\"#FFA15A\",\"#19d3f3\",\"#FF6692\",\"#B6E880\",\"#FF97FF\",\"#FECB52\"],\"font\":{\"color\":\"#2a3f5f\"},\"hovermode\":\"closest\",\"hoverlabel\":{\"align\":\"left\"},\"paper_bgcolor\":\"white\",\"plot_bgcolor\":\"#E5ECF6\",\"polar\":{\"bgcolor\":\"#E5ECF6\",\"angularaxis\":{\"gridcolor\":\"white\",\"linecolor\":\"white\",\"ticks\":\"\"},\"radialaxis\":{\"gridcolor\":\"white\",\"linecolor\":\"white\",\"ticks\":\"\"}},\"ternary\":{\"bgcolor\":\"#E5ECF6\",\"aaxis\":{\"gridcolor\":\"white\",\"linecolor\":\"white\",\"ticks\":\"\"},\"baxis\":{\"gridcolor\":\"white\",\"linecolor\":\"white\",\"ticks\":\"\"},\"caxis\":{\"gridcolor\":\"white\",\"linecolor\":\"white\",\"ticks\":\"\"}},\"coloraxis\":{\"colorbar\":{\"outlinewidth\":0,\"ticks\":\"\"}},\"colorscale\":{\"sequential\":[[0.0,\"#0d0887\"],[0.1111111111111111,\"#46039f\"],[0.2222222222222222,\"#7201a8\"],[0.3333333333333333,\"#9c179e\"],[0.4444444444444444,\"#bd3786\"],[0.5555555555555556,\"#d8576b\"],[0.6666666666666666,\"#ed7953\"],[0.7777777777777778,\"#fb9f3a\"],[0.8888888888888888,\"#fdca26\"],[1.0,\"#f0f921\"]],\"sequentialminus\":[[0.0,\"#0d0887\"],[0.1111111111111111,\"#46039f\"],[0.2222222222222222,\"#7201a8\"],[0.3333333333333333,\"#9c179e\"],[0.4444444444444444,\"#bd3786\"],[0.5555555555555556,\"#d8576b\"],[0.6666666666666666,\"#ed7953\"],[0.7777777777777778,\"#fb9f3a\"],[0.8888888888888888,\"#fdca26\"],[1.0,\"#f0f921\"]],\"diverging\":[[0,\"#8e0152\"],[0.1,\"#c51b7d\"],[0.2,\"#de77ae\"],[0.3,\"#f1b6da\"],[0.4,\"#fde0ef\"],[0.5,\"#f7f7f7\"],[0.6,\"#e6f5d0\"],[0.7,\"#b8e186\"],[0.8,\"#7fbc41\"],[0.9,\"#4d9221\"],[1,\"#276419\"]]},\"xaxis\":{\"gridcolor\":\"white\",\"linecolor\":\"white\",\"ticks\":\"\",\"title\":{\"standoff\":15},\"zerolinecolor\":\"white\",\"automargin\":true,\"zerolinewidth\":2},\"yaxis\":{\"gridcolor\":\"white\",\"linecolor\":\"white\",\"ticks\":\"\",\"title\":{\"standoff\":15},\"zerolinecolor\":\"white\",\"automargin\":true,\"zerolinewidth\":2},\"scene\":{\"xaxis\":{\"backgroundcolor\":\"#E5ECF6\",\"gridcolor\":\"white\",\"linecolor\":\"white\",\"showbackground\":true,\"ticks\":\"\",\"zerolinecolor\":\"white\",\"gridwidth\":2},\"yaxis\":{\"backgroundcolor\":\"#E5ECF6\",\"gridcolor\":\"white\",\"linecolor\":\"white\",\"showbackground\":true,\"ticks\":\"\",\"zerolinecolor\":\"white\",\"gridwidth\":2},\"zaxis\":{\"backgroundcolor\":\"#E5ECF6\",\"gridcolor\":\"white\",\"linecolor\":\"white\",\"showbackground\":true,\"ticks\":\"\",\"zerolinecolor\":\"white\",\"gridwidth\":2}},\"shapedefaults\":{\"line\":{\"color\":\"#2a3f5f\"}},\"annotationdefaults\":{\"arrowcolor\":\"#2a3f5f\",\"arrowhead\":0,\"arrowwidth\":1},\"geo\":{\"bgcolor\":\"white\",\"landcolor\":\"#E5ECF6\",\"subunitcolor\":\"white\",\"showland\":true,\"showlakes\":true,\"lakecolor\":\"white\"},\"title\":{\"x\":0.05},\"mapbox\":{\"style\":\"light\"}}}},                        {\"showLink\": true, \"linkText\": \"Export to plot.ly\", \"plotlyServerURL\": \"https://plot.ly\", \"responsive\": true}                    ).then(function(){\n",
       "                            \n",
       "var gd = document.getElementById('7ada6e07-03ed-493b-af33-e4660aaa9fb3');\n",
       "var x = new MutationObserver(function (mutations, observer) {{\n",
       "        var display = window.getComputedStyle(gd).display;\n",
       "        if (!display || display === 'none') {{\n",
       "            console.log([gd, 'removed!']);\n",
       "            Plotly.purge(gd);\n",
       "            observer.disconnect();\n",
       "        }}\n",
       "}});\n",
       "\n",
       "// Listen for the removal of the full notebook cells\n",
       "var notebookContainer = gd.closest('#notebook-container');\n",
       "if (notebookContainer) {{\n",
       "    x.observe(notebookContainer, {childList: true});\n",
       "}}\n",
       "\n",
       "// Listen for the clearing of the current output cell\n",
       "var outputEl = gd.closest('.output');\n",
       "if (outputEl) {{\n",
       "    x.observe(outputEl, {childList: true});\n",
       "}}\n",
       "\n",
       "                        })                };                });            </script>        </div>"
      ]
     },
     "metadata": {},
     "output_type": "display_data"
    }
   ],
   "source": [
    "# The code we provided creates a grouped bar chart using the Plotly library \n",
    "# to visualize the average values of 'BasePay', 'OvertimePay', and 'Benefits' for different job titles.\n",
    "\n",
    "trace1 = go.Bar(\n",
    "    x=job_names,\n",
    "    y=salaries_jobs_benefits['BasePay'],\n",
    "    name='Base Pay'\n",
    ")\n",
    "trace2 = go.Bar(\n",
    "    x=job_names,\n",
    "    y=salaries_jobs_benefits['OvertimePay'],\n",
    "    name='Overtime Pay'\n",
    ")\n",
    "trace3 = go.Bar(\n",
    "    x=job_names,\n",
    "    y=salaries_jobs_benefits['Benefits'],\n",
    "    name='Benefits'\n",
    ")\n",
    "\n",
    "data = [trace1, trace2, trace3]\n",
    "layout = go.Layout(\n",
    "    barmode='group'\n",
    ")\n",
    "\n",
    "fig = go.Figure(data=data, layout=layout)\n",
    "cf.iplot(fig, filename='grouped-bar')"
   ]
  },
  {
   "cell_type": "code",
   "execution_count": 24,
   "id": "73258167",
   "metadata": {},
   "outputs": [
    {
     "name": "stdout",
     "output_type": "stream",
     "text": [
      "Requirement already satisfied: gender-guesser in c:\\users\\dell\\anaconda3\\lib\\site-packages (0.4.0)\n"
     ]
    }
   ],
   "source": [
    "# The code we provided installs the gender-guesser library and uses it \n",
    "# to determine the gender of the employees in the DataFrame df based on their first names.\n",
    "\n",
    "!pip install gender-guesser\n",
    "import gender_guesser.detector as gender\n",
    "d = gender.Detector(case_sensitive=False)\n",
    "df['Gender']=df['EmployeeName'].apply(lambda x: x.split()[0]).apply(lambda x: d.get_gender(x.lower()))"
   ]
  },
  {
   "cell_type": "code",
   "execution_count": 25,
   "id": "5d0c8c28",
   "metadata": {},
   "outputs": [],
   "source": [
    "# The code updates the 'Gender' column in the DataFrame df by replacing the values 'mostly_female' with 'female'.\n",
    "\n",
    "df.loc[df['Gender']=='mostly_female','Gender']='female'"
   ]
  },
  {
   "cell_type": "code",
   "execution_count": 26,
   "id": "fe03c6d5",
   "metadata": {},
   "outputs": [],
   "source": [
    "# The code updates the 'Gender' column in the DataFrame df by replacing the values 'mostly_male' with 'male'.\n",
    "\n",
    "df.loc[df['Gender']=='mostly_male','Gender']='male'"
   ]
  },
  {
   "cell_type": "code",
   "execution_count": 27,
   "id": "c94873b3",
   "metadata": {},
   "outputs": [
    {
     "data": {
      "text/html": [
       "<div>\n",
       "<style scoped>\n",
       "    .dataframe tbody tr th:only-of-type {\n",
       "        vertical-align: middle;\n",
       "    }\n",
       "\n",
       "    .dataframe tbody tr th {\n",
       "        vertical-align: top;\n",
       "    }\n",
       "\n",
       "    .dataframe thead th {\n",
       "        text-align: right;\n",
       "    }\n",
       "</style>\n",
       "<table border=\"1\" class=\"dataframe\">\n",
       "  <thead>\n",
       "    <tr style=\"text-align: right;\">\n",
       "      <th></th>\n",
       "      <th>EmployeeName</th>\n",
       "      <th>JobTitle</th>\n",
       "      <th>BasePay</th>\n",
       "      <th>OvertimePay</th>\n",
       "      <th>OtherPay</th>\n",
       "      <th>Benefits</th>\n",
       "      <th>TotalPay</th>\n",
       "      <th>TotalPayBenefits</th>\n",
       "      <th>Year</th>\n",
       "      <th>GeneralJobTitle</th>\n",
       "      <th>Gender</th>\n",
       "    </tr>\n",
       "  </thead>\n",
       "  <tbody>\n",
       "    <tr>\n",
       "      <th>0</th>\n",
       "      <td>NATHANIEL FORD</td>\n",
       "      <td>GENERAL MANAGER-METROPOLITAN TRANSIT AUTHORITY</td>\n",
       "      <td>167411.18</td>\n",
       "      <td>0.00</td>\n",
       "      <td>400184.25</td>\n",
       "      <td>25060.072463</td>\n",
       "      <td>567595.43</td>\n",
       "      <td>567595.43</td>\n",
       "      <td>2011</td>\n",
       "      <td>transit</td>\n",
       "      <td>male</td>\n",
       "    </tr>\n",
       "    <tr>\n",
       "      <th>1</th>\n",
       "      <td>GARY JIMENEZ</td>\n",
       "      <td>CAPTAIN III (POLICE DEPARTMENT)</td>\n",
       "      <td>155966.02</td>\n",
       "      <td>245131.88</td>\n",
       "      <td>137811.38</td>\n",
       "      <td>25060.072463</td>\n",
       "      <td>538909.28</td>\n",
       "      <td>538909.28</td>\n",
       "      <td>2011</td>\n",
       "      <td>police</td>\n",
       "      <td>male</td>\n",
       "    </tr>\n",
       "    <tr>\n",
       "      <th>2</th>\n",
       "      <td>ALBERT PARDINI</td>\n",
       "      <td>CAPTAIN III (POLICE DEPARTMENT)</td>\n",
       "      <td>212739.13</td>\n",
       "      <td>106088.18</td>\n",
       "      <td>16452.60</td>\n",
       "      <td>25060.072463</td>\n",
       "      <td>335279.91</td>\n",
       "      <td>335279.91</td>\n",
       "      <td>2011</td>\n",
       "      <td>police</td>\n",
       "      <td>male</td>\n",
       "    </tr>\n",
       "    <tr>\n",
       "      <th>3</th>\n",
       "      <td>CHRISTOPHER CHONG</td>\n",
       "      <td>WIRE ROPE CABLE MAINTENANCE MECHANIC</td>\n",
       "      <td>77916.00</td>\n",
       "      <td>56120.71</td>\n",
       "      <td>198306.90</td>\n",
       "      <td>25060.072463</td>\n",
       "      <td>332343.61</td>\n",
       "      <td>332343.61</td>\n",
       "      <td>2011</td>\n",
       "      <td>automotive</td>\n",
       "      <td>male</td>\n",
       "    </tr>\n",
       "    <tr>\n",
       "      <th>4</th>\n",
       "      <td>PATRICK GARDNER</td>\n",
       "      <td>DEPUTY CHIEF OF DEPARTMENT,(FIRE DEPARTMENT)</td>\n",
       "      <td>134401.60</td>\n",
       "      <td>9737.00</td>\n",
       "      <td>182234.59</td>\n",
       "      <td>25060.072463</td>\n",
       "      <td>326373.19</td>\n",
       "      <td>326373.19</td>\n",
       "      <td>2011</td>\n",
       "      <td>fire</td>\n",
       "      <td>male</td>\n",
       "    </tr>\n",
       "    <tr>\n",
       "      <th>...</th>\n",
       "      <td>...</td>\n",
       "      <td>...</td>\n",
       "      <td>...</td>\n",
       "      <td>...</td>\n",
       "      <td>...</td>\n",
       "      <td>...</td>\n",
       "      <td>...</td>\n",
       "      <td>...</td>\n",
       "      <td>...</td>\n",
       "      <td>...</td>\n",
       "      <td>...</td>\n",
       "    </tr>\n",
       "    <tr>\n",
       "      <th>312877</th>\n",
       "      <td>Daniel W Plautz</td>\n",
       "      <td>Public Service Trainee</td>\n",
       "      <td>0.00</td>\n",
       "      <td>0.00</td>\n",
       "      <td>0.00</td>\n",
       "      <td>0.000000</td>\n",
       "      <td>0.00</td>\n",
       "      <td>0.00</td>\n",
       "      <td>2018</td>\n",
       "      <td>public works</td>\n",
       "      <td>male</td>\n",
       "    </tr>\n",
       "    <tr>\n",
       "      <th>312878</th>\n",
       "      <td>David J Thompson</td>\n",
       "      <td>Deputy Sheriff</td>\n",
       "      <td>0.00</td>\n",
       "      <td>0.00</td>\n",
       "      <td>0.00</td>\n",
       "      <td>0.000000</td>\n",
       "      <td>0.00</td>\n",
       "      <td>0.00</td>\n",
       "      <td>2018</td>\n",
       "      <td>police</td>\n",
       "      <td>male</td>\n",
       "    </tr>\n",
       "    <tr>\n",
       "      <th>312879</th>\n",
       "      <td>Keiko Weng Yee Lau</td>\n",
       "      <td>Public Service Trainee</td>\n",
       "      <td>0.00</td>\n",
       "      <td>0.00</td>\n",
       "      <td>0.00</td>\n",
       "      <td>0.000000</td>\n",
       "      <td>0.00</td>\n",
       "      <td>0.00</td>\n",
       "      <td>2018</td>\n",
       "      <td>public works</td>\n",
       "      <td>female</td>\n",
       "    </tr>\n",
       "    <tr>\n",
       "      <th>312880</th>\n",
       "      <td>David Wong</td>\n",
       "      <td>Deputy Sheriff</td>\n",
       "      <td>0.00</td>\n",
       "      <td>0.00</td>\n",
       "      <td>0.00</td>\n",
       "      <td>0.000000</td>\n",
       "      <td>0.00</td>\n",
       "      <td>0.00</td>\n",
       "      <td>2018</td>\n",
       "      <td>police</td>\n",
       "      <td>male</td>\n",
       "    </tr>\n",
       "    <tr>\n",
       "      <th>312881</th>\n",
       "      <td>Debora E Howard</td>\n",
       "      <td>Recreation Leader</td>\n",
       "      <td>0.00</td>\n",
       "      <td>0.00</td>\n",
       "      <td>0.00</td>\n",
       "      <td>0.000000</td>\n",
       "      <td>0.00</td>\n",
       "      <td>0.00</td>\n",
       "      <td>2018</td>\n",
       "      <td>recreation leader</td>\n",
       "      <td>female</td>\n",
       "    </tr>\n",
       "  </tbody>\n",
       "</table>\n",
       "<p>267109 rows × 11 columns</p>\n",
       "</div>"
      ],
      "text/plain": [
       "              EmployeeName                                        JobTitle  \\\n",
       "0           NATHANIEL FORD  GENERAL MANAGER-METROPOLITAN TRANSIT AUTHORITY   \n",
       "1             GARY JIMENEZ                 CAPTAIN III (POLICE DEPARTMENT)   \n",
       "2           ALBERT PARDINI                 CAPTAIN III (POLICE DEPARTMENT)   \n",
       "3        CHRISTOPHER CHONG            WIRE ROPE CABLE MAINTENANCE MECHANIC   \n",
       "4          PATRICK GARDNER    DEPUTY CHIEF OF DEPARTMENT,(FIRE DEPARTMENT)   \n",
       "...                    ...                                             ...   \n",
       "312877     Daniel W Plautz                          Public Service Trainee   \n",
       "312878    David J Thompson                                  Deputy Sheriff   \n",
       "312879  Keiko Weng Yee Lau                          Public Service Trainee   \n",
       "312880          David Wong                                  Deputy Sheriff   \n",
       "312881     Debora E Howard                               Recreation Leader   \n",
       "\n",
       "          BasePay  OvertimePay   OtherPay      Benefits   TotalPay  \\\n",
       "0       167411.18         0.00  400184.25  25060.072463  567595.43   \n",
       "1       155966.02    245131.88  137811.38  25060.072463  538909.28   \n",
       "2       212739.13    106088.18   16452.60  25060.072463  335279.91   \n",
       "3        77916.00     56120.71  198306.90  25060.072463  332343.61   \n",
       "4       134401.60      9737.00  182234.59  25060.072463  326373.19   \n",
       "...           ...          ...        ...           ...        ...   \n",
       "312877       0.00         0.00       0.00      0.000000       0.00   \n",
       "312878       0.00         0.00       0.00      0.000000       0.00   \n",
       "312879       0.00         0.00       0.00      0.000000       0.00   \n",
       "312880       0.00         0.00       0.00      0.000000       0.00   \n",
       "312881       0.00         0.00       0.00      0.000000       0.00   \n",
       "\n",
       "        TotalPayBenefits  Year    GeneralJobTitle  Gender  \n",
       "0              567595.43  2011            transit    male  \n",
       "1              538909.28  2011             police    male  \n",
       "2              335279.91  2011             police    male  \n",
       "3              332343.61  2011         automotive    male  \n",
       "4              326373.19  2011               fire    male  \n",
       "...                  ...   ...                ...     ...  \n",
       "312877              0.00  2018       public works    male  \n",
       "312878              0.00  2018             police    male  \n",
       "312879              0.00  2018       public works  female  \n",
       "312880              0.00  2018             police    male  \n",
       "312881              0.00  2018  recreation leader  female  \n",
       "\n",
       "[267109 rows x 11 columns]"
      ]
     },
     "execution_count": 27,
     "metadata": {},
     "output_type": "execute_result"
    }
   ],
   "source": [
    "# The code filters the DataFrame df to include only rows where the 'Gender' column has the values 'male' or 'female'. \n",
    "\n",
    "df=df[ (df['Gender'] == 'male') | (df['Gender'] == 'female') ]\n",
    "df"
   ]
  },
  {
   "cell_type": "code",
   "execution_count": 28,
   "id": "e8594dbd",
   "metadata": {},
   "outputs": [],
   "source": [
    "# The code we provided creates a new DataFrame called `salaries_job_gender` by filtering the DataFrame df \n",
    "# to include only rows where the 'Gender' column has the values 'male' or 'female'\n",
    "\n",
    "salaries_job_gender=df[(df['Gender']=='male') | (df['Gender']=='female')][['GeneralJobTitle', 'TotalPay', 'Gender']].groupby(['GeneralJobTitle', 'Gender']).mean()\n"
   ]
  },
  {
   "cell_type": "code",
   "execution_count": 29,
   "id": "7cdbd876",
   "metadata": {},
   "outputs": [
    {
     "data": {
      "text/html": [
       "<div>\n",
       "<style scoped>\n",
       "    .dataframe tbody tr th:only-of-type {\n",
       "        vertical-align: middle;\n",
       "    }\n",
       "\n",
       "    .dataframe tbody tr th {\n",
       "        vertical-align: top;\n",
       "    }\n",
       "\n",
       "    .dataframe thead th {\n",
       "        text-align: right;\n",
       "    }\n",
       "</style>\n",
       "<table border=\"1\" class=\"dataframe\">\n",
       "  <thead>\n",
       "    <tr style=\"text-align: right;\">\n",
       "      <th></th>\n",
       "      <th></th>\n",
       "      <th>TotalPay</th>\n",
       "    </tr>\n",
       "    <tr>\n",
       "      <th>GeneralJobTitle</th>\n",
       "      <th>Gender</th>\n",
       "      <th></th>\n",
       "    </tr>\n",
       "  </thead>\n",
       "  <tbody>\n",
       "    <tr>\n",
       "      <th rowspan=\"2\" valign=\"top\">account</th>\n",
       "      <th>female</th>\n",
       "      <td>66754.610066</td>\n",
       "    </tr>\n",
       "    <tr>\n",
       "      <th>male</th>\n",
       "      <td>66590.085515</td>\n",
       "    </tr>\n",
       "    <tr>\n",
       "      <th rowspan=\"2\" valign=\"top\">airport</th>\n",
       "      <th>female</th>\n",
       "      <td>90735.105000</td>\n",
       "    </tr>\n",
       "    <tr>\n",
       "      <th>male</th>\n",
       "      <td>98520.647060</td>\n",
       "    </tr>\n",
       "    <tr>\n",
       "      <th rowspan=\"2\" valign=\"top\">analyst</th>\n",
       "      <th>female</th>\n",
       "      <td>86845.069633</td>\n",
       "    </tr>\n",
       "    <tr>\n",
       "      <th>male</th>\n",
       "      <td>87093.852664</td>\n",
       "    </tr>\n",
       "    <tr>\n",
       "      <th rowspan=\"2\" valign=\"top\">architect</th>\n",
       "      <th>female</th>\n",
       "      <td>117136.944080</td>\n",
       "    </tr>\n",
       "    <tr>\n",
       "      <th>male</th>\n",
       "      <td>123464.620261</td>\n",
       "    </tr>\n",
       "    <tr>\n",
       "      <th rowspan=\"2\" valign=\"top\">assistant</th>\n",
       "      <th>female</th>\n",
       "      <td>50830.935207</td>\n",
       "    </tr>\n",
       "    <tr>\n",
       "      <th>male</th>\n",
       "      <td>42213.923842</td>\n",
       "    </tr>\n",
       "    <tr>\n",
       "      <th rowspan=\"2\" valign=\"top\">attorney</th>\n",
       "      <th>female</th>\n",
       "      <td>141015.322354</td>\n",
       "    </tr>\n",
       "    <tr>\n",
       "      <th>male</th>\n",
       "      <td>147836.613449</td>\n",
       "    </tr>\n",
       "    <tr>\n",
       "      <th rowspan=\"2\" valign=\"top\">automotive</th>\n",
       "      <th>female</th>\n",
       "      <td>78280.713803</td>\n",
       "    </tr>\n",
       "    <tr>\n",
       "      <th>male</th>\n",
       "      <td>86925.876074</td>\n",
       "    </tr>\n",
       "    <tr>\n",
       "      <th rowspan=\"2\" valign=\"top\">clerk</th>\n",
       "      <th>female</th>\n",
       "      <td>49689.774082</td>\n",
       "    </tr>\n",
       "    <tr>\n",
       "      <th>male</th>\n",
       "      <td>40753.945816</td>\n",
       "    </tr>\n",
       "    <tr>\n",
       "      <th rowspan=\"2\" valign=\"top\">court</th>\n",
       "      <th>female</th>\n",
       "      <td>67306.114200</td>\n",
       "    </tr>\n",
       "    <tr>\n",
       "      <th>male</th>\n",
       "      <td>66379.226049</td>\n",
       "    </tr>\n",
       "    <tr>\n",
       "      <th rowspan=\"2\" valign=\"top\">custodian</th>\n",
       "      <th>female</th>\n",
       "      <td>49139.367917</td>\n",
       "    </tr>\n",
       "    <tr>\n",
       "      <th>male</th>\n",
       "      <td>49072.408998</td>\n",
       "    </tr>\n",
       "    <tr>\n",
       "      <th rowspan=\"2\" valign=\"top\">engineer</th>\n",
       "      <th>female</th>\n",
       "      <td>75477.248181</td>\n",
       "    </tr>\n",
       "    <tr>\n",
       "      <th>male</th>\n",
       "      <td>93872.281799</td>\n",
       "    </tr>\n",
       "    <tr>\n",
       "      <th rowspan=\"2\" valign=\"top\">fire</th>\n",
       "      <th>female</th>\n",
       "      <td>137168.111442</td>\n",
       "    </tr>\n",
       "    <tr>\n",
       "      <th>male</th>\n",
       "      <td>145574.885443</td>\n",
       "    </tr>\n",
       "    <tr>\n",
       "      <th rowspan=\"2\" valign=\"top\">food service</th>\n",
       "      <th>female</th>\n",
       "      <td>42454.535202</td>\n",
       "    </tr>\n",
       "    <tr>\n",
       "      <th>male</th>\n",
       "      <td>55746.277576</td>\n",
       "    </tr>\n",
       "    <tr>\n",
       "      <th rowspan=\"2\" valign=\"top\">gardener</th>\n",
       "      <th>female</th>\n",
       "      <td>53290.376107</td>\n",
       "    </tr>\n",
       "    <tr>\n",
       "      <th>male</th>\n",
       "      <td>57773.880285</td>\n",
       "    </tr>\n",
       "    <tr>\n",
       "      <th rowspan=\"2\" valign=\"top\">general laborer</th>\n",
       "      <th>female</th>\n",
       "      <td>82963.112809</td>\n",
       "    </tr>\n",
       "    <tr>\n",
       "      <th>male</th>\n",
       "      <td>92445.834931</td>\n",
       "    </tr>\n",
       "    <tr>\n",
       "      <th rowspan=\"2\" valign=\"top\">guard</th>\n",
       "      <th>female</th>\n",
       "      <td>15193.480811</td>\n",
       "    </tr>\n",
       "    <tr>\n",
       "      <th>male</th>\n",
       "      <td>24498.456070</td>\n",
       "    </tr>\n",
       "    <tr>\n",
       "      <th rowspan=\"2\" valign=\"top\">library</th>\n",
       "      <th>female</th>\n",
       "      <td>48811.935162</td>\n",
       "    </tr>\n",
       "    <tr>\n",
       "      <th>male</th>\n",
       "      <td>39056.388053</td>\n",
       "    </tr>\n",
       "    <tr>\n",
       "      <th rowspan=\"2\" valign=\"top\">manager</th>\n",
       "      <th>female</th>\n",
       "      <td>126788.903910</td>\n",
       "    </tr>\n",
       "    <tr>\n",
       "      <th>male</th>\n",
       "      <td>130792.908062</td>\n",
       "    </tr>\n",
       "    <tr>\n",
       "      <th rowspan=\"2\" valign=\"top\">medical</th>\n",
       "      <th>female</th>\n",
       "      <td>79755.202392</td>\n",
       "    </tr>\n",
       "    <tr>\n",
       "      <th>male</th>\n",
       "      <td>85007.348089</td>\n",
       "    </tr>\n",
       "    <tr>\n",
       "      <th rowspan=\"2\" valign=\"top\">other</th>\n",
       "      <th>female</th>\n",
       "      <td>75564.810760</td>\n",
       "    </tr>\n",
       "    <tr>\n",
       "      <th>male</th>\n",
       "      <td>85053.124694</td>\n",
       "    </tr>\n",
       "    <tr>\n",
       "      <th rowspan=\"2\" valign=\"top\">police</th>\n",
       "      <th>female</th>\n",
       "      <td>98281.995094</td>\n",
       "    </tr>\n",
       "    <tr>\n",
       "      <th>male</th>\n",
       "      <td>122902.483773</td>\n",
       "    </tr>\n",
       "    <tr>\n",
       "      <th rowspan=\"2\" valign=\"top\">porter</th>\n",
       "      <th>female</th>\n",
       "      <td>49928.217175</td>\n",
       "    </tr>\n",
       "    <tr>\n",
       "      <th>male</th>\n",
       "      <td>47889.963590</td>\n",
       "    </tr>\n",
       "    <tr>\n",
       "      <th rowspan=\"2\" valign=\"top\">public works</th>\n",
       "      <th>female</th>\n",
       "      <td>36453.545175</td>\n",
       "    </tr>\n",
       "    <tr>\n",
       "      <th>male</th>\n",
       "      <td>29118.207494</td>\n",
       "    </tr>\n",
       "    <tr>\n",
       "      <th rowspan=\"2\" valign=\"top\">recreation leader</th>\n",
       "      <th>female</th>\n",
       "      <td>12349.350310</td>\n",
       "    </tr>\n",
       "    <tr>\n",
       "      <th>male</th>\n",
       "      <td>13712.240585</td>\n",
       "    </tr>\n",
       "    <tr>\n",
       "      <th rowspan=\"2\" valign=\"top\">social worker</th>\n",
       "      <th>female</th>\n",
       "      <td>66374.904034</td>\n",
       "    </tr>\n",
       "    <tr>\n",
       "      <th>male</th>\n",
       "      <td>64784.321456</td>\n",
       "    </tr>\n",
       "    <tr>\n",
       "      <th rowspan=\"2\" valign=\"top\">transit</th>\n",
       "      <th>female</th>\n",
       "      <td>68019.095623</td>\n",
       "    </tr>\n",
       "    <tr>\n",
       "      <th>male</th>\n",
       "      <td>79072.723621</td>\n",
       "    </tr>\n",
       "  </tbody>\n",
       "</table>\n",
       "</div>"
      ],
      "text/plain": [
       "                               TotalPay\n",
       "GeneralJobTitle   Gender               \n",
       "account           female   66754.610066\n",
       "                  male     66590.085515\n",
       "airport           female   90735.105000\n",
       "                  male     98520.647060\n",
       "analyst           female   86845.069633\n",
       "                  male     87093.852664\n",
       "architect         female  117136.944080\n",
       "                  male    123464.620261\n",
       "assistant         female   50830.935207\n",
       "                  male     42213.923842\n",
       "attorney          female  141015.322354\n",
       "                  male    147836.613449\n",
       "automotive        female   78280.713803\n",
       "                  male     86925.876074\n",
       "clerk             female   49689.774082\n",
       "                  male     40753.945816\n",
       "court             female   67306.114200\n",
       "                  male     66379.226049\n",
       "custodian         female   49139.367917\n",
       "                  male     49072.408998\n",
       "engineer          female   75477.248181\n",
       "                  male     93872.281799\n",
       "fire              female  137168.111442\n",
       "                  male    145574.885443\n",
       "food service      female   42454.535202\n",
       "                  male     55746.277576\n",
       "gardener          female   53290.376107\n",
       "                  male     57773.880285\n",
       "general laborer   female   82963.112809\n",
       "                  male     92445.834931\n",
       "guard             female   15193.480811\n",
       "                  male     24498.456070\n",
       "library           female   48811.935162\n",
       "                  male     39056.388053\n",
       "manager           female  126788.903910\n",
       "                  male    130792.908062\n",
       "medical           female   79755.202392\n",
       "                  male     85007.348089\n",
       "other             female   75564.810760\n",
       "                  male     85053.124694\n",
       "police            female   98281.995094\n",
       "                  male    122902.483773\n",
       "porter            female   49928.217175\n",
       "                  male     47889.963590\n",
       "public works      female   36453.545175\n",
       "                  male     29118.207494\n",
       "recreation leader female   12349.350310\n",
       "                  male     13712.240585\n",
       "social worker     female   66374.904034\n",
       "                  male     64784.321456\n",
       "transit           female   68019.095623\n",
       "                  male     79072.723621"
      ]
     },
     "execution_count": 29,
     "metadata": {},
     "output_type": "execute_result"
    }
   ],
   "source": [
    "salaries_job_gender\n"
   ]
  },
  {
   "cell_type": "code",
   "execution_count": 30,
   "id": "6547dd71",
   "metadata": {
    "scrolled": true
   },
   "outputs": [
    {
     "data": {
      "application/vnd.plotly.v1+json": {
       "config": {
        "linkText": "Export to plot.ly",
        "plotlyServerURL": "https://plot.ly",
        "showLink": true
       },
       "data": [
        {
         "name": "Male",
         "type": "bar",
         "x": [
          "account",
          "airport",
          "analyst",
          "architect",
          "assistant",
          "attorney",
          "automotive",
          "clerk",
          "court",
          "custodian",
          "engineer",
          "fire",
          "food service",
          "gardener",
          "general laborer",
          "guard",
          "library",
          "manager",
          "medical",
          "other",
          "police",
          "porter",
          "public works",
          "recreation leader",
          "social worker",
          "transit"
         ],
         "y": [
          66590.08551457975,
          98520.64706013363,
          87093.85266440184,
          123464.62026052104,
          42213.923841608696,
          147836.61344876327,
          86925.87607351714,
          40753.94581598793,
          66379.22604863222,
          49072.40899847677,
          93872.28179907407,
          145574.885443038,
          55746.27757575758,
          57773.880284679086,
          92445.8349307803,
          24498.456070127504,
          39056.388053461276,
          130792.9080620155,
          85007.34808863635,
          85053.12469381874,
          122902.48377295239,
          47889.96358955765,
          29118.207493638674,
          13712.240585015394,
          64784.321456110156,
          79072.7236207594
         ]
        },
        {
         "name": "Female",
         "type": "bar",
         "x": [
          "account",
          "airport",
          "analyst",
          "architect",
          "assistant",
          "attorney",
          "automotive",
          "clerk",
          "court",
          "custodian",
          "engineer",
          "fire",
          "food service",
          "gardener",
          "general laborer",
          "guard",
          "library",
          "manager",
          "medical",
          "other",
          "police",
          "porter",
          "public works",
          "recreation leader",
          "social worker",
          "transit"
         ],
         "y": [
          66754.61006584723,
          90735.105,
          86845.0696333602,
          117136.94408026757,
          50830.93520689655,
          141015.32235444657,
          78280.7138028169,
          49689.77408160553,
          67306.11419966996,
          49139.36791666666,
          75477.24818090787,
          137168.11144242424,
          42454.535202020204,
          53290.37610687022,
          82963.11280898876,
          15193.480810606063,
          48811.93516242318,
          126788.90390979884,
          79755.20239211676,
          75564.81076013514,
          98281.99509412069,
          49928.217174556215,
          36453.54517467901,
          12349.35030952381,
          66374.9040343674,
          68019.09562316407
         ]
        }
       ],
       "layout": {
        "barmode": "group",
        "template": {
         "data": {
          "bar": [
           {
            "error_x": {
             "color": "#2a3f5f"
            },
            "error_y": {
             "color": "#2a3f5f"
            },
            "marker": {
             "line": {
              "color": "#E5ECF6",
              "width": 0.5
             },
             "pattern": {
              "fillmode": "overlay",
              "size": 10,
              "solidity": 0.2
             }
            },
            "type": "bar"
           }
          ],
          "barpolar": [
           {
            "marker": {
             "line": {
              "color": "#E5ECF6",
              "width": 0.5
             },
             "pattern": {
              "fillmode": "overlay",
              "size": 10,
              "solidity": 0.2
             }
            },
            "type": "barpolar"
           }
          ],
          "carpet": [
           {
            "aaxis": {
             "endlinecolor": "#2a3f5f",
             "gridcolor": "white",
             "linecolor": "white",
             "minorgridcolor": "white",
             "startlinecolor": "#2a3f5f"
            },
            "baxis": {
             "endlinecolor": "#2a3f5f",
             "gridcolor": "white",
             "linecolor": "white",
             "minorgridcolor": "white",
             "startlinecolor": "#2a3f5f"
            },
            "type": "carpet"
           }
          ],
          "choropleth": [
           {
            "colorbar": {
             "outlinewidth": 0,
             "ticks": ""
            },
            "type": "choropleth"
           }
          ],
          "contour": [
           {
            "colorbar": {
             "outlinewidth": 0,
             "ticks": ""
            },
            "colorscale": [
             [
              0,
              "#0d0887"
             ],
             [
              0.1111111111111111,
              "#46039f"
             ],
             [
              0.2222222222222222,
              "#7201a8"
             ],
             [
              0.3333333333333333,
              "#9c179e"
             ],
             [
              0.4444444444444444,
              "#bd3786"
             ],
             [
              0.5555555555555556,
              "#d8576b"
             ],
             [
              0.6666666666666666,
              "#ed7953"
             ],
             [
              0.7777777777777778,
              "#fb9f3a"
             ],
             [
              0.8888888888888888,
              "#fdca26"
             ],
             [
              1,
              "#f0f921"
             ]
            ],
            "type": "contour"
           }
          ],
          "contourcarpet": [
           {
            "colorbar": {
             "outlinewidth": 0,
             "ticks": ""
            },
            "type": "contourcarpet"
           }
          ],
          "heatmap": [
           {
            "colorbar": {
             "outlinewidth": 0,
             "ticks": ""
            },
            "colorscale": [
             [
              0,
              "#0d0887"
             ],
             [
              0.1111111111111111,
              "#46039f"
             ],
             [
              0.2222222222222222,
              "#7201a8"
             ],
             [
              0.3333333333333333,
              "#9c179e"
             ],
             [
              0.4444444444444444,
              "#bd3786"
             ],
             [
              0.5555555555555556,
              "#d8576b"
             ],
             [
              0.6666666666666666,
              "#ed7953"
             ],
             [
              0.7777777777777778,
              "#fb9f3a"
             ],
             [
              0.8888888888888888,
              "#fdca26"
             ],
             [
              1,
              "#f0f921"
             ]
            ],
            "type": "heatmap"
           }
          ],
          "heatmapgl": [
           {
            "colorbar": {
             "outlinewidth": 0,
             "ticks": ""
            },
            "colorscale": [
             [
              0,
              "#0d0887"
             ],
             [
              0.1111111111111111,
              "#46039f"
             ],
             [
              0.2222222222222222,
              "#7201a8"
             ],
             [
              0.3333333333333333,
              "#9c179e"
             ],
             [
              0.4444444444444444,
              "#bd3786"
             ],
             [
              0.5555555555555556,
              "#d8576b"
             ],
             [
              0.6666666666666666,
              "#ed7953"
             ],
             [
              0.7777777777777778,
              "#fb9f3a"
             ],
             [
              0.8888888888888888,
              "#fdca26"
             ],
             [
              1,
              "#f0f921"
             ]
            ],
            "type": "heatmapgl"
           }
          ],
          "histogram": [
           {
            "marker": {
             "pattern": {
              "fillmode": "overlay",
              "size": 10,
              "solidity": 0.2
             }
            },
            "type": "histogram"
           }
          ],
          "histogram2d": [
           {
            "colorbar": {
             "outlinewidth": 0,
             "ticks": ""
            },
            "colorscale": [
             [
              0,
              "#0d0887"
             ],
             [
              0.1111111111111111,
              "#46039f"
             ],
             [
              0.2222222222222222,
              "#7201a8"
             ],
             [
              0.3333333333333333,
              "#9c179e"
             ],
             [
              0.4444444444444444,
              "#bd3786"
             ],
             [
              0.5555555555555556,
              "#d8576b"
             ],
             [
              0.6666666666666666,
              "#ed7953"
             ],
             [
              0.7777777777777778,
              "#fb9f3a"
             ],
             [
              0.8888888888888888,
              "#fdca26"
             ],
             [
              1,
              "#f0f921"
             ]
            ],
            "type": "histogram2d"
           }
          ],
          "histogram2dcontour": [
           {
            "colorbar": {
             "outlinewidth": 0,
             "ticks": ""
            },
            "colorscale": [
             [
              0,
              "#0d0887"
             ],
             [
              0.1111111111111111,
              "#46039f"
             ],
             [
              0.2222222222222222,
              "#7201a8"
             ],
             [
              0.3333333333333333,
              "#9c179e"
             ],
             [
              0.4444444444444444,
              "#bd3786"
             ],
             [
              0.5555555555555556,
              "#d8576b"
             ],
             [
              0.6666666666666666,
              "#ed7953"
             ],
             [
              0.7777777777777778,
              "#fb9f3a"
             ],
             [
              0.8888888888888888,
              "#fdca26"
             ],
             [
              1,
              "#f0f921"
             ]
            ],
            "type": "histogram2dcontour"
           }
          ],
          "mesh3d": [
           {
            "colorbar": {
             "outlinewidth": 0,
             "ticks": ""
            },
            "type": "mesh3d"
           }
          ],
          "parcoords": [
           {
            "line": {
             "colorbar": {
              "outlinewidth": 0,
              "ticks": ""
             }
            },
            "type": "parcoords"
           }
          ],
          "pie": [
           {
            "automargin": true,
            "type": "pie"
           }
          ],
          "scatter": [
           {
            "fillpattern": {
             "fillmode": "overlay",
             "size": 10,
             "solidity": 0.2
            },
            "type": "scatter"
           }
          ],
          "scatter3d": [
           {
            "line": {
             "colorbar": {
              "outlinewidth": 0,
              "ticks": ""
             }
            },
            "marker": {
             "colorbar": {
              "outlinewidth": 0,
              "ticks": ""
             }
            },
            "type": "scatter3d"
           }
          ],
          "scattercarpet": [
           {
            "marker": {
             "colorbar": {
              "outlinewidth": 0,
              "ticks": ""
             }
            },
            "type": "scattercarpet"
           }
          ],
          "scattergeo": [
           {
            "marker": {
             "colorbar": {
              "outlinewidth": 0,
              "ticks": ""
             }
            },
            "type": "scattergeo"
           }
          ],
          "scattergl": [
           {
            "marker": {
             "colorbar": {
              "outlinewidth": 0,
              "ticks": ""
             }
            },
            "type": "scattergl"
           }
          ],
          "scattermapbox": [
           {
            "marker": {
             "colorbar": {
              "outlinewidth": 0,
              "ticks": ""
             }
            },
            "type": "scattermapbox"
           }
          ],
          "scatterpolar": [
           {
            "marker": {
             "colorbar": {
              "outlinewidth": 0,
              "ticks": ""
             }
            },
            "type": "scatterpolar"
           }
          ],
          "scatterpolargl": [
           {
            "marker": {
             "colorbar": {
              "outlinewidth": 0,
              "ticks": ""
             }
            },
            "type": "scatterpolargl"
           }
          ],
          "scatterternary": [
           {
            "marker": {
             "colorbar": {
              "outlinewidth": 0,
              "ticks": ""
             }
            },
            "type": "scatterternary"
           }
          ],
          "surface": [
           {
            "colorbar": {
             "outlinewidth": 0,
             "ticks": ""
            },
            "colorscale": [
             [
              0,
              "#0d0887"
             ],
             [
              0.1111111111111111,
              "#46039f"
             ],
             [
              0.2222222222222222,
              "#7201a8"
             ],
             [
              0.3333333333333333,
              "#9c179e"
             ],
             [
              0.4444444444444444,
              "#bd3786"
             ],
             [
              0.5555555555555556,
              "#d8576b"
             ],
             [
              0.6666666666666666,
              "#ed7953"
             ],
             [
              0.7777777777777778,
              "#fb9f3a"
             ],
             [
              0.8888888888888888,
              "#fdca26"
             ],
             [
              1,
              "#f0f921"
             ]
            ],
            "type": "surface"
           }
          ],
          "table": [
           {
            "cells": {
             "fill": {
              "color": "#EBF0F8"
             },
             "line": {
              "color": "white"
             }
            },
            "header": {
             "fill": {
              "color": "#C8D4E3"
             },
             "line": {
              "color": "white"
             }
            },
            "type": "table"
           }
          ]
         },
         "layout": {
          "annotationdefaults": {
           "arrowcolor": "#2a3f5f",
           "arrowhead": 0,
           "arrowwidth": 1
          },
          "autotypenumbers": "strict",
          "coloraxis": {
           "colorbar": {
            "outlinewidth": 0,
            "ticks": ""
           }
          },
          "colorscale": {
           "diverging": [
            [
             0,
             "#8e0152"
            ],
            [
             0.1,
             "#c51b7d"
            ],
            [
             0.2,
             "#de77ae"
            ],
            [
             0.3,
             "#f1b6da"
            ],
            [
             0.4,
             "#fde0ef"
            ],
            [
             0.5,
             "#f7f7f7"
            ],
            [
             0.6,
             "#e6f5d0"
            ],
            [
             0.7,
             "#b8e186"
            ],
            [
             0.8,
             "#7fbc41"
            ],
            [
             0.9,
             "#4d9221"
            ],
            [
             1,
             "#276419"
            ]
           ],
           "sequential": [
            [
             0,
             "#0d0887"
            ],
            [
             0.1111111111111111,
             "#46039f"
            ],
            [
             0.2222222222222222,
             "#7201a8"
            ],
            [
             0.3333333333333333,
             "#9c179e"
            ],
            [
             0.4444444444444444,
             "#bd3786"
            ],
            [
             0.5555555555555556,
             "#d8576b"
            ],
            [
             0.6666666666666666,
             "#ed7953"
            ],
            [
             0.7777777777777778,
             "#fb9f3a"
            ],
            [
             0.8888888888888888,
             "#fdca26"
            ],
            [
             1,
             "#f0f921"
            ]
           ],
           "sequentialminus": [
            [
             0,
             "#0d0887"
            ],
            [
             0.1111111111111111,
             "#46039f"
            ],
            [
             0.2222222222222222,
             "#7201a8"
            ],
            [
             0.3333333333333333,
             "#9c179e"
            ],
            [
             0.4444444444444444,
             "#bd3786"
            ],
            [
             0.5555555555555556,
             "#d8576b"
            ],
            [
             0.6666666666666666,
             "#ed7953"
            ],
            [
             0.7777777777777778,
             "#fb9f3a"
            ],
            [
             0.8888888888888888,
             "#fdca26"
            ],
            [
             1,
             "#f0f921"
            ]
           ]
          },
          "colorway": [
           "#636efa",
           "#EF553B",
           "#00cc96",
           "#ab63fa",
           "#FFA15A",
           "#19d3f3",
           "#FF6692",
           "#B6E880",
           "#FF97FF",
           "#FECB52"
          ],
          "font": {
           "color": "#2a3f5f"
          },
          "geo": {
           "bgcolor": "white",
           "lakecolor": "white",
           "landcolor": "#E5ECF6",
           "showlakes": true,
           "showland": true,
           "subunitcolor": "white"
          },
          "hoverlabel": {
           "align": "left"
          },
          "hovermode": "closest",
          "mapbox": {
           "style": "light"
          },
          "paper_bgcolor": "white",
          "plot_bgcolor": "#E5ECF6",
          "polar": {
           "angularaxis": {
            "gridcolor": "white",
            "linecolor": "white",
            "ticks": ""
           },
           "bgcolor": "#E5ECF6",
           "radialaxis": {
            "gridcolor": "white",
            "linecolor": "white",
            "ticks": ""
           }
          },
          "scene": {
           "xaxis": {
            "backgroundcolor": "#E5ECF6",
            "gridcolor": "white",
            "gridwidth": 2,
            "linecolor": "white",
            "showbackground": true,
            "ticks": "",
            "zerolinecolor": "white"
           },
           "yaxis": {
            "backgroundcolor": "#E5ECF6",
            "gridcolor": "white",
            "gridwidth": 2,
            "linecolor": "white",
            "showbackground": true,
            "ticks": "",
            "zerolinecolor": "white"
           },
           "zaxis": {
            "backgroundcolor": "#E5ECF6",
            "gridcolor": "white",
            "gridwidth": 2,
            "linecolor": "white",
            "showbackground": true,
            "ticks": "",
            "zerolinecolor": "white"
           }
          },
          "shapedefaults": {
           "line": {
            "color": "#2a3f5f"
           }
          },
          "ternary": {
           "aaxis": {
            "gridcolor": "white",
            "linecolor": "white",
            "ticks": ""
           },
           "baxis": {
            "gridcolor": "white",
            "linecolor": "white",
            "ticks": ""
           },
           "bgcolor": "#E5ECF6",
           "caxis": {
            "gridcolor": "white",
            "linecolor": "white",
            "ticks": ""
           }
          },
          "title": {
           "x": 0.05
          },
          "xaxis": {
           "automargin": true,
           "gridcolor": "white",
           "linecolor": "white",
           "ticks": "",
           "title": {
            "standoff": 15
           },
           "zerolinecolor": "white",
           "zerolinewidth": 2
          },
          "yaxis": {
           "automargin": true,
           "gridcolor": "white",
           "linecolor": "white",
           "ticks": "",
           "title": {
            "standoff": 15
           },
           "zerolinecolor": "white",
           "zerolinewidth": 2
          }
         }
        }
       }
      },
      "text/html": [
       "<div>                            <div id=\"99b146f8-f162-4b88-88b4-be5a41848110\" class=\"plotly-graph-div\" style=\"height:525px; width:100%;\"></div>            <script type=\"text/javascript\">                require([\"plotly\"], function(Plotly) {                    window.PLOTLYENV=window.PLOTLYENV || {};\n",
       "                    window.PLOTLYENV.BASE_URL='https://plot.ly';                                    if (document.getElementById(\"99b146f8-f162-4b88-88b4-be5a41848110\")) {                    Plotly.newPlot(                        \"99b146f8-f162-4b88-88b4-be5a41848110\",                        [{\"name\":\"Male\",\"x\":[\"account\",\"airport\",\"analyst\",\"architect\",\"assistant\",\"attorney\",\"automotive\",\"clerk\",\"court\",\"custodian\",\"engineer\",\"fire\",\"food service\",\"gardener\",\"general laborer\",\"guard\",\"library\",\"manager\",\"medical\",\"other\",\"police\",\"porter\",\"public works\",\"recreation leader\",\"social worker\",\"transit\"],\"y\":[66590.08551457975,98520.64706013363,87093.85266440184,123464.62026052104,42213.923841608696,147836.61344876327,86925.87607351714,40753.94581598793,66379.22604863222,49072.40899847677,93872.28179907407,145574.885443038,55746.27757575758,57773.880284679086,92445.8349307803,24498.456070127504,39056.388053461276,130792.9080620155,85007.34808863635,85053.12469381874,122902.48377295239,47889.96358955765,29118.207493638674,13712.240585015394,64784.321456110156,79072.7236207594],\"type\":\"bar\"},{\"name\":\"Female\",\"x\":[\"account\",\"airport\",\"analyst\",\"architect\",\"assistant\",\"attorney\",\"automotive\",\"clerk\",\"court\",\"custodian\",\"engineer\",\"fire\",\"food service\",\"gardener\",\"general laborer\",\"guard\",\"library\",\"manager\",\"medical\",\"other\",\"police\",\"porter\",\"public works\",\"recreation leader\",\"social worker\",\"transit\"],\"y\":[66754.61006584723,90735.105,86845.0696333602,117136.94408026757,50830.93520689655,141015.32235444657,78280.7138028169,49689.77408160553,67306.11419966996,49139.36791666666,75477.24818090787,137168.11144242424,42454.535202020204,53290.37610687022,82963.11280898876,15193.480810606063,48811.93516242318,126788.90390979884,79755.20239211676,75564.81076013514,98281.99509412069,49928.217174556215,36453.54517467901,12349.35030952381,66374.9040343674,68019.09562316407],\"type\":\"bar\"}],                        {\"barmode\":\"group\",\"template\":{\"data\":{\"histogram2dcontour\":[{\"type\":\"histogram2dcontour\",\"colorbar\":{\"outlinewidth\":0,\"ticks\":\"\"},\"colorscale\":[[0.0,\"#0d0887\"],[0.1111111111111111,\"#46039f\"],[0.2222222222222222,\"#7201a8\"],[0.3333333333333333,\"#9c179e\"],[0.4444444444444444,\"#bd3786\"],[0.5555555555555556,\"#d8576b\"],[0.6666666666666666,\"#ed7953\"],[0.7777777777777778,\"#fb9f3a\"],[0.8888888888888888,\"#fdca26\"],[1.0,\"#f0f921\"]]}],\"choropleth\":[{\"type\":\"choropleth\",\"colorbar\":{\"outlinewidth\":0,\"ticks\":\"\"}}],\"histogram2d\":[{\"type\":\"histogram2d\",\"colorbar\":{\"outlinewidth\":0,\"ticks\":\"\"},\"colorscale\":[[0.0,\"#0d0887\"],[0.1111111111111111,\"#46039f\"],[0.2222222222222222,\"#7201a8\"],[0.3333333333333333,\"#9c179e\"],[0.4444444444444444,\"#bd3786\"],[0.5555555555555556,\"#d8576b\"],[0.6666666666666666,\"#ed7953\"],[0.7777777777777778,\"#fb9f3a\"],[0.8888888888888888,\"#fdca26\"],[1.0,\"#f0f921\"]]}],\"heatmap\":[{\"type\":\"heatmap\",\"colorbar\":{\"outlinewidth\":0,\"ticks\":\"\"},\"colorscale\":[[0.0,\"#0d0887\"],[0.1111111111111111,\"#46039f\"],[0.2222222222222222,\"#7201a8\"],[0.3333333333333333,\"#9c179e\"],[0.4444444444444444,\"#bd3786\"],[0.5555555555555556,\"#d8576b\"],[0.6666666666666666,\"#ed7953\"],[0.7777777777777778,\"#fb9f3a\"],[0.8888888888888888,\"#fdca26\"],[1.0,\"#f0f921\"]]}],\"heatmapgl\":[{\"type\":\"heatmapgl\",\"colorbar\":{\"outlinewidth\":0,\"ticks\":\"\"},\"colorscale\":[[0.0,\"#0d0887\"],[0.1111111111111111,\"#46039f\"],[0.2222222222222222,\"#7201a8\"],[0.3333333333333333,\"#9c179e\"],[0.4444444444444444,\"#bd3786\"],[0.5555555555555556,\"#d8576b\"],[0.6666666666666666,\"#ed7953\"],[0.7777777777777778,\"#fb9f3a\"],[0.8888888888888888,\"#fdca26\"],[1.0,\"#f0f921\"]]}],\"contourcarpet\":[{\"type\":\"contourcarpet\",\"colorbar\":{\"outlinewidth\":0,\"ticks\":\"\"}}],\"contour\":[{\"type\":\"contour\",\"colorbar\":{\"outlinewidth\":0,\"ticks\":\"\"},\"colorscale\":[[0.0,\"#0d0887\"],[0.1111111111111111,\"#46039f\"],[0.2222222222222222,\"#7201a8\"],[0.3333333333333333,\"#9c179e\"],[0.4444444444444444,\"#bd3786\"],[0.5555555555555556,\"#d8576b\"],[0.6666666666666666,\"#ed7953\"],[0.7777777777777778,\"#fb9f3a\"],[0.8888888888888888,\"#fdca26\"],[1.0,\"#f0f921\"]]}],\"surface\":[{\"type\":\"surface\",\"colorbar\":{\"outlinewidth\":0,\"ticks\":\"\"},\"colorscale\":[[0.0,\"#0d0887\"],[0.1111111111111111,\"#46039f\"],[0.2222222222222222,\"#7201a8\"],[0.3333333333333333,\"#9c179e\"],[0.4444444444444444,\"#bd3786\"],[0.5555555555555556,\"#d8576b\"],[0.6666666666666666,\"#ed7953\"],[0.7777777777777778,\"#fb9f3a\"],[0.8888888888888888,\"#fdca26\"],[1.0,\"#f0f921\"]]}],\"mesh3d\":[{\"type\":\"mesh3d\",\"colorbar\":{\"outlinewidth\":0,\"ticks\":\"\"}}],\"scatter\":[{\"fillpattern\":{\"fillmode\":\"overlay\",\"size\":10,\"solidity\":0.2},\"type\":\"scatter\"}],\"parcoords\":[{\"type\":\"parcoords\",\"line\":{\"colorbar\":{\"outlinewidth\":0,\"ticks\":\"\"}}}],\"scatterpolargl\":[{\"type\":\"scatterpolargl\",\"marker\":{\"colorbar\":{\"outlinewidth\":0,\"ticks\":\"\"}}}],\"bar\":[{\"error_x\":{\"color\":\"#2a3f5f\"},\"error_y\":{\"color\":\"#2a3f5f\"},\"marker\":{\"line\":{\"color\":\"#E5ECF6\",\"width\":0.5},\"pattern\":{\"fillmode\":\"overlay\",\"size\":10,\"solidity\":0.2}},\"type\":\"bar\"}],\"scattergeo\":[{\"type\":\"scattergeo\",\"marker\":{\"colorbar\":{\"outlinewidth\":0,\"ticks\":\"\"}}}],\"scatterpolar\":[{\"type\":\"scatterpolar\",\"marker\":{\"colorbar\":{\"outlinewidth\":0,\"ticks\":\"\"}}}],\"histogram\":[{\"marker\":{\"pattern\":{\"fillmode\":\"overlay\",\"size\":10,\"solidity\":0.2}},\"type\":\"histogram\"}],\"scattergl\":[{\"type\":\"scattergl\",\"marker\":{\"colorbar\":{\"outlinewidth\":0,\"ticks\":\"\"}}}],\"scatter3d\":[{\"type\":\"scatter3d\",\"line\":{\"colorbar\":{\"outlinewidth\":0,\"ticks\":\"\"}},\"marker\":{\"colorbar\":{\"outlinewidth\":0,\"ticks\":\"\"}}}],\"scattermapbox\":[{\"type\":\"scattermapbox\",\"marker\":{\"colorbar\":{\"outlinewidth\":0,\"ticks\":\"\"}}}],\"scatterternary\":[{\"type\":\"scatterternary\",\"marker\":{\"colorbar\":{\"outlinewidth\":0,\"ticks\":\"\"}}}],\"scattercarpet\":[{\"type\":\"scattercarpet\",\"marker\":{\"colorbar\":{\"outlinewidth\":0,\"ticks\":\"\"}}}],\"carpet\":[{\"aaxis\":{\"endlinecolor\":\"#2a3f5f\",\"gridcolor\":\"white\",\"linecolor\":\"white\",\"minorgridcolor\":\"white\",\"startlinecolor\":\"#2a3f5f\"},\"baxis\":{\"endlinecolor\":\"#2a3f5f\",\"gridcolor\":\"white\",\"linecolor\":\"white\",\"minorgridcolor\":\"white\",\"startlinecolor\":\"#2a3f5f\"},\"type\":\"carpet\"}],\"table\":[{\"cells\":{\"fill\":{\"color\":\"#EBF0F8\"},\"line\":{\"color\":\"white\"}},\"header\":{\"fill\":{\"color\":\"#C8D4E3\"},\"line\":{\"color\":\"white\"}},\"type\":\"table\"}],\"barpolar\":[{\"marker\":{\"line\":{\"color\":\"#E5ECF6\",\"width\":0.5},\"pattern\":{\"fillmode\":\"overlay\",\"size\":10,\"solidity\":0.2}},\"type\":\"barpolar\"}],\"pie\":[{\"automargin\":true,\"type\":\"pie\"}]},\"layout\":{\"autotypenumbers\":\"strict\",\"colorway\":[\"#636efa\",\"#EF553B\",\"#00cc96\",\"#ab63fa\",\"#FFA15A\",\"#19d3f3\",\"#FF6692\",\"#B6E880\",\"#FF97FF\",\"#FECB52\"],\"font\":{\"color\":\"#2a3f5f\"},\"hovermode\":\"closest\",\"hoverlabel\":{\"align\":\"left\"},\"paper_bgcolor\":\"white\",\"plot_bgcolor\":\"#E5ECF6\",\"polar\":{\"bgcolor\":\"#E5ECF6\",\"angularaxis\":{\"gridcolor\":\"white\",\"linecolor\":\"white\",\"ticks\":\"\"},\"radialaxis\":{\"gridcolor\":\"white\",\"linecolor\":\"white\",\"ticks\":\"\"}},\"ternary\":{\"bgcolor\":\"#E5ECF6\",\"aaxis\":{\"gridcolor\":\"white\",\"linecolor\":\"white\",\"ticks\":\"\"},\"baxis\":{\"gridcolor\":\"white\",\"linecolor\":\"white\",\"ticks\":\"\"},\"caxis\":{\"gridcolor\":\"white\",\"linecolor\":\"white\",\"ticks\":\"\"}},\"coloraxis\":{\"colorbar\":{\"outlinewidth\":0,\"ticks\":\"\"}},\"colorscale\":{\"sequential\":[[0.0,\"#0d0887\"],[0.1111111111111111,\"#46039f\"],[0.2222222222222222,\"#7201a8\"],[0.3333333333333333,\"#9c179e\"],[0.4444444444444444,\"#bd3786\"],[0.5555555555555556,\"#d8576b\"],[0.6666666666666666,\"#ed7953\"],[0.7777777777777778,\"#fb9f3a\"],[0.8888888888888888,\"#fdca26\"],[1.0,\"#f0f921\"]],\"sequentialminus\":[[0.0,\"#0d0887\"],[0.1111111111111111,\"#46039f\"],[0.2222222222222222,\"#7201a8\"],[0.3333333333333333,\"#9c179e\"],[0.4444444444444444,\"#bd3786\"],[0.5555555555555556,\"#d8576b\"],[0.6666666666666666,\"#ed7953\"],[0.7777777777777778,\"#fb9f3a\"],[0.8888888888888888,\"#fdca26\"],[1.0,\"#f0f921\"]],\"diverging\":[[0,\"#8e0152\"],[0.1,\"#c51b7d\"],[0.2,\"#de77ae\"],[0.3,\"#f1b6da\"],[0.4,\"#fde0ef\"],[0.5,\"#f7f7f7\"],[0.6,\"#e6f5d0\"],[0.7,\"#b8e186\"],[0.8,\"#7fbc41\"],[0.9,\"#4d9221\"],[1,\"#276419\"]]},\"xaxis\":{\"gridcolor\":\"white\",\"linecolor\":\"white\",\"ticks\":\"\",\"title\":{\"standoff\":15},\"zerolinecolor\":\"white\",\"automargin\":true,\"zerolinewidth\":2},\"yaxis\":{\"gridcolor\":\"white\",\"linecolor\":\"white\",\"ticks\":\"\",\"title\":{\"standoff\":15},\"zerolinecolor\":\"white\",\"automargin\":true,\"zerolinewidth\":2},\"scene\":{\"xaxis\":{\"backgroundcolor\":\"#E5ECF6\",\"gridcolor\":\"white\",\"linecolor\":\"white\",\"showbackground\":true,\"ticks\":\"\",\"zerolinecolor\":\"white\",\"gridwidth\":2},\"yaxis\":{\"backgroundcolor\":\"#E5ECF6\",\"gridcolor\":\"white\",\"linecolor\":\"white\",\"showbackground\":true,\"ticks\":\"\",\"zerolinecolor\":\"white\",\"gridwidth\":2},\"zaxis\":{\"backgroundcolor\":\"#E5ECF6\",\"gridcolor\":\"white\",\"linecolor\":\"white\",\"showbackground\":true,\"ticks\":\"\",\"zerolinecolor\":\"white\",\"gridwidth\":2}},\"shapedefaults\":{\"line\":{\"color\":\"#2a3f5f\"}},\"annotationdefaults\":{\"arrowcolor\":\"#2a3f5f\",\"arrowhead\":0,\"arrowwidth\":1},\"geo\":{\"bgcolor\":\"white\",\"landcolor\":\"#E5ECF6\",\"subunitcolor\":\"white\",\"showland\":true,\"showlakes\":true,\"lakecolor\":\"white\"},\"title\":{\"x\":0.05},\"mapbox\":{\"style\":\"light\"}}}},                        {\"showLink\": true, \"linkText\": \"Export to plot.ly\", \"plotlyServerURL\": \"https://plot.ly\", \"responsive\": true}                    ).then(function(){\n",
       "                            \n",
       "var gd = document.getElementById('99b146f8-f162-4b88-88b4-be5a41848110');\n",
       "var x = new MutationObserver(function (mutations, observer) {{\n",
       "        var display = window.getComputedStyle(gd).display;\n",
       "        if (!display || display === 'none') {{\n",
       "            console.log([gd, 'removed!']);\n",
       "            Plotly.purge(gd);\n",
       "            observer.disconnect();\n",
       "        }}\n",
       "}});\n",
       "\n",
       "// Listen for the removal of the full notebook cells\n",
       "var notebookContainer = gd.closest('#notebook-container');\n",
       "if (notebookContainer) {{\n",
       "    x.observe(notebookContainer, {childList: true});\n",
       "}}\n",
       "\n",
       "// Listen for the clearing of the current output cell\n",
       "var outputEl = gd.closest('.output');\n",
       "if (outputEl) {{\n",
       "    x.observe(outputEl, {childList: true});\n",
       "}}\n",
       "\n",
       "                        })                };                });            </script>        </div>"
      ]
     },
     "metadata": {},
     "output_type": "display_data"
    }
   ],
   "source": [
    "# The code we provided creates a grouped bar chart using the Plotly library \n",
    "# to visualize the average 'TotalPay' for different job titles, separated by gender. \n",
    "\n",
    "salaries_gender=df[(df['Gender']=='male') | (df['Gender']=='female')][['GeneralJobTitle', 'TotalPay', 'Gender']].groupby(['Gender', 'GeneralJobTitle']).mean()\n",
    "\n",
    "trace1 = go.Bar(\n",
    "    x=job_names,\n",
    "    y=salaries_gender.xs('male', level='Gender')['TotalPay'],\n",
    "    name='Male'\n",
    ")\n",
    "trace2 = go.Bar(\n",
    "    x=job_names,\n",
    "    y=salaries_gender.xs('female', level='Gender')['TotalPay'],\n",
    "    name='Female'\n",
    ")\n",
    "\n",
    "data = [trace1, trace2]\n",
    "layout = go.Layout(\n",
    "    barmode='group'\n",
    ")\n",
    "\n",
    "fig = go.Figure(data=data, layout=layout)\n",
    "cf.iplot(fig, filename='grouped-bar')"
   ]
  },
  {
   "cell_type": "markdown",
   "id": "8625b39c",
   "metadata": {},
   "source": [
    "#I can easily notice that there is evidence of pay discrimination based on gender.\n",
    "#In only 4 gropus (15%) women earn noticeably more than men.\n",
    "#In 9 groups (35%) women and men earn more or less the same amount of money.\n",
    "#In remaining 13 (50%!) groups men earn significantly more than women.\n",
    "#The biggest difference can be seen in the engineer group."
   ]
  },
  {
   "cell_type": "code",
   "execution_count": 31,
   "id": "718ed622",
   "metadata": {},
   "outputs": [
    {
     "data": {
      "application/vnd.plotly.v1+json": {
       "config": {
        "linkText": "Export to plot.ly",
        "plotlyServerURL": "https://plot.ly",
        "showLink": true
       },
       "data": [
        {
         "marker": {
          "color": "rgba(255, 153, 51, 0.6)",
          "line": {
           "color": "rgba(255, 153, 51, 1.0)",
           "width": 1
          }
         },
         "name": "GeneralJobTitle",
         "orientation": "v",
         "text": "",
         "type": "bar",
         "x": [
          "police",
          "fire",
          "medical",
          "attorney",
          "manager",
          "assistant",
          "transit",
          "general laborer",
          "architect",
          "engineer",
          "public works",
          "automotive",
          "court",
          "airport"
         ],
         "y": [
          1676,
          1343,
          1081,
          257,
          230,
          206,
          149,
          85,
          46,
          30,
          27,
          6,
          4,
          2
         ]
        }
       ],
       "layout": {
        "legend": {
         "bgcolor": "#F5F6F9",
         "font": {
          "color": "#4D5663"
         }
        },
        "paper_bgcolor": "#F5F6F9",
        "plot_bgcolor": "#F5F6F9",
        "template": {
         "data": {
          "bar": [
           {
            "error_x": {
             "color": "#2a3f5f"
            },
            "error_y": {
             "color": "#2a3f5f"
            },
            "marker": {
             "line": {
              "color": "#E5ECF6",
              "width": 0.5
             },
             "pattern": {
              "fillmode": "overlay",
              "size": 10,
              "solidity": 0.2
             }
            },
            "type": "bar"
           }
          ],
          "barpolar": [
           {
            "marker": {
             "line": {
              "color": "#E5ECF6",
              "width": 0.5
             },
             "pattern": {
              "fillmode": "overlay",
              "size": 10,
              "solidity": 0.2
             }
            },
            "type": "barpolar"
           }
          ],
          "carpet": [
           {
            "aaxis": {
             "endlinecolor": "#2a3f5f",
             "gridcolor": "white",
             "linecolor": "white",
             "minorgridcolor": "white",
             "startlinecolor": "#2a3f5f"
            },
            "baxis": {
             "endlinecolor": "#2a3f5f",
             "gridcolor": "white",
             "linecolor": "white",
             "minorgridcolor": "white",
             "startlinecolor": "#2a3f5f"
            },
            "type": "carpet"
           }
          ],
          "choropleth": [
           {
            "colorbar": {
             "outlinewidth": 0,
             "ticks": ""
            },
            "type": "choropleth"
           }
          ],
          "contour": [
           {
            "colorbar": {
             "outlinewidth": 0,
             "ticks": ""
            },
            "colorscale": [
             [
              0,
              "#0d0887"
             ],
             [
              0.1111111111111111,
              "#46039f"
             ],
             [
              0.2222222222222222,
              "#7201a8"
             ],
             [
              0.3333333333333333,
              "#9c179e"
             ],
             [
              0.4444444444444444,
              "#bd3786"
             ],
             [
              0.5555555555555556,
              "#d8576b"
             ],
             [
              0.6666666666666666,
              "#ed7953"
             ],
             [
              0.7777777777777778,
              "#fb9f3a"
             ],
             [
              0.8888888888888888,
              "#fdca26"
             ],
             [
              1,
              "#f0f921"
             ]
            ],
            "type": "contour"
           }
          ],
          "contourcarpet": [
           {
            "colorbar": {
             "outlinewidth": 0,
             "ticks": ""
            },
            "type": "contourcarpet"
           }
          ],
          "heatmap": [
           {
            "colorbar": {
             "outlinewidth": 0,
             "ticks": ""
            },
            "colorscale": [
             [
              0,
              "#0d0887"
             ],
             [
              0.1111111111111111,
              "#46039f"
             ],
             [
              0.2222222222222222,
              "#7201a8"
             ],
             [
              0.3333333333333333,
              "#9c179e"
             ],
             [
              0.4444444444444444,
              "#bd3786"
             ],
             [
              0.5555555555555556,
              "#d8576b"
             ],
             [
              0.6666666666666666,
              "#ed7953"
             ],
             [
              0.7777777777777778,
              "#fb9f3a"
             ],
             [
              0.8888888888888888,
              "#fdca26"
             ],
             [
              1,
              "#f0f921"
             ]
            ],
            "type": "heatmap"
           }
          ],
          "heatmapgl": [
           {
            "colorbar": {
             "outlinewidth": 0,
             "ticks": ""
            },
            "colorscale": [
             [
              0,
              "#0d0887"
             ],
             [
              0.1111111111111111,
              "#46039f"
             ],
             [
              0.2222222222222222,
              "#7201a8"
             ],
             [
              0.3333333333333333,
              "#9c179e"
             ],
             [
              0.4444444444444444,
              "#bd3786"
             ],
             [
              0.5555555555555556,
              "#d8576b"
             ],
             [
              0.6666666666666666,
              "#ed7953"
             ],
             [
              0.7777777777777778,
              "#fb9f3a"
             ],
             [
              0.8888888888888888,
              "#fdca26"
             ],
             [
              1,
              "#f0f921"
             ]
            ],
            "type": "heatmapgl"
           }
          ],
          "histogram": [
           {
            "marker": {
             "pattern": {
              "fillmode": "overlay",
              "size": 10,
              "solidity": 0.2
             }
            },
            "type": "histogram"
           }
          ],
          "histogram2d": [
           {
            "colorbar": {
             "outlinewidth": 0,
             "ticks": ""
            },
            "colorscale": [
             [
              0,
              "#0d0887"
             ],
             [
              0.1111111111111111,
              "#46039f"
             ],
             [
              0.2222222222222222,
              "#7201a8"
             ],
             [
              0.3333333333333333,
              "#9c179e"
             ],
             [
              0.4444444444444444,
              "#bd3786"
             ],
             [
              0.5555555555555556,
              "#d8576b"
             ],
             [
              0.6666666666666666,
              "#ed7953"
             ],
             [
              0.7777777777777778,
              "#fb9f3a"
             ],
             [
              0.8888888888888888,
              "#fdca26"
             ],
             [
              1,
              "#f0f921"
             ]
            ],
            "type": "histogram2d"
           }
          ],
          "histogram2dcontour": [
           {
            "colorbar": {
             "outlinewidth": 0,
             "ticks": ""
            },
            "colorscale": [
             [
              0,
              "#0d0887"
             ],
             [
              0.1111111111111111,
              "#46039f"
             ],
             [
              0.2222222222222222,
              "#7201a8"
             ],
             [
              0.3333333333333333,
              "#9c179e"
             ],
             [
              0.4444444444444444,
              "#bd3786"
             ],
             [
              0.5555555555555556,
              "#d8576b"
             ],
             [
              0.6666666666666666,
              "#ed7953"
             ],
             [
              0.7777777777777778,
              "#fb9f3a"
             ],
             [
              0.8888888888888888,
              "#fdca26"
             ],
             [
              1,
              "#f0f921"
             ]
            ],
            "type": "histogram2dcontour"
           }
          ],
          "mesh3d": [
           {
            "colorbar": {
             "outlinewidth": 0,
             "ticks": ""
            },
            "type": "mesh3d"
           }
          ],
          "parcoords": [
           {
            "line": {
             "colorbar": {
              "outlinewidth": 0,
              "ticks": ""
             }
            },
            "type": "parcoords"
           }
          ],
          "pie": [
           {
            "automargin": true,
            "type": "pie"
           }
          ],
          "scatter": [
           {
            "fillpattern": {
             "fillmode": "overlay",
             "size": 10,
             "solidity": 0.2
            },
            "type": "scatter"
           }
          ],
          "scatter3d": [
           {
            "line": {
             "colorbar": {
              "outlinewidth": 0,
              "ticks": ""
             }
            },
            "marker": {
             "colorbar": {
              "outlinewidth": 0,
              "ticks": ""
             }
            },
            "type": "scatter3d"
           }
          ],
          "scattercarpet": [
           {
            "marker": {
             "colorbar": {
              "outlinewidth": 0,
              "ticks": ""
             }
            },
            "type": "scattercarpet"
           }
          ],
          "scattergeo": [
           {
            "marker": {
             "colorbar": {
              "outlinewidth": 0,
              "ticks": ""
             }
            },
            "type": "scattergeo"
           }
          ],
          "scattergl": [
           {
            "marker": {
             "colorbar": {
              "outlinewidth": 0,
              "ticks": ""
             }
            },
            "type": "scattergl"
           }
          ],
          "scattermapbox": [
           {
            "marker": {
             "colorbar": {
              "outlinewidth": 0,
              "ticks": ""
             }
            },
            "type": "scattermapbox"
           }
          ],
          "scatterpolar": [
           {
            "marker": {
             "colorbar": {
              "outlinewidth": 0,
              "ticks": ""
             }
            },
            "type": "scatterpolar"
           }
          ],
          "scatterpolargl": [
           {
            "marker": {
             "colorbar": {
              "outlinewidth": 0,
              "ticks": ""
             }
            },
            "type": "scatterpolargl"
           }
          ],
          "scatterternary": [
           {
            "marker": {
             "colorbar": {
              "outlinewidth": 0,
              "ticks": ""
             }
            },
            "type": "scatterternary"
           }
          ],
          "surface": [
           {
            "colorbar": {
             "outlinewidth": 0,
             "ticks": ""
            },
            "colorscale": [
             [
              0,
              "#0d0887"
             ],
             [
              0.1111111111111111,
              "#46039f"
             ],
             [
              0.2222222222222222,
              "#7201a8"
             ],
             [
              0.3333333333333333,
              "#9c179e"
             ],
             [
              0.4444444444444444,
              "#bd3786"
             ],
             [
              0.5555555555555556,
              "#d8576b"
             ],
             [
              0.6666666666666666,
              "#ed7953"
             ],
             [
              0.7777777777777778,
              "#fb9f3a"
             ],
             [
              0.8888888888888888,
              "#fdca26"
             ],
             [
              1,
              "#f0f921"
             ]
            ],
            "type": "surface"
           }
          ],
          "table": [
           {
            "cells": {
             "fill": {
              "color": "#EBF0F8"
             },
             "line": {
              "color": "white"
             }
            },
            "header": {
             "fill": {
              "color": "#C8D4E3"
             },
             "line": {
              "color": "white"
             }
            },
            "type": "table"
           }
          ]
         },
         "layout": {
          "annotationdefaults": {
           "arrowcolor": "#2a3f5f",
           "arrowhead": 0,
           "arrowwidth": 1
          },
          "autotypenumbers": "strict",
          "coloraxis": {
           "colorbar": {
            "outlinewidth": 0,
            "ticks": ""
           }
          },
          "colorscale": {
           "diverging": [
            [
             0,
             "#8e0152"
            ],
            [
             0.1,
             "#c51b7d"
            ],
            [
             0.2,
             "#de77ae"
            ],
            [
             0.3,
             "#f1b6da"
            ],
            [
             0.4,
             "#fde0ef"
            ],
            [
             0.5,
             "#f7f7f7"
            ],
            [
             0.6,
             "#e6f5d0"
            ],
            [
             0.7,
             "#b8e186"
            ],
            [
             0.8,
             "#7fbc41"
            ],
            [
             0.9,
             "#4d9221"
            ],
            [
             1,
             "#276419"
            ]
           ],
           "sequential": [
            [
             0,
             "#0d0887"
            ],
            [
             0.1111111111111111,
             "#46039f"
            ],
            [
             0.2222222222222222,
             "#7201a8"
            ],
            [
             0.3333333333333333,
             "#9c179e"
            ],
            [
             0.4444444444444444,
             "#bd3786"
            ],
            [
             0.5555555555555556,
             "#d8576b"
            ],
            [
             0.6666666666666666,
             "#ed7953"
            ],
            [
             0.7777777777777778,
             "#fb9f3a"
            ],
            [
             0.8888888888888888,
             "#fdca26"
            ],
            [
             1,
             "#f0f921"
            ]
           ],
           "sequentialminus": [
            [
             0,
             "#0d0887"
            ],
            [
             0.1111111111111111,
             "#46039f"
            ],
            [
             0.2222222222222222,
             "#7201a8"
            ],
            [
             0.3333333333333333,
             "#9c179e"
            ],
            [
             0.4444444444444444,
             "#bd3786"
            ],
            [
             0.5555555555555556,
             "#d8576b"
            ],
            [
             0.6666666666666666,
             "#ed7953"
            ],
            [
             0.7777777777777778,
             "#fb9f3a"
            ],
            [
             0.8888888888888888,
             "#fdca26"
            ],
            [
             1,
             "#f0f921"
            ]
           ]
          },
          "colorway": [
           "#636efa",
           "#EF553B",
           "#00cc96",
           "#ab63fa",
           "#FFA15A",
           "#19d3f3",
           "#FF6692",
           "#B6E880",
           "#FF97FF",
           "#FECB52"
          ],
          "font": {
           "color": "#2a3f5f"
          },
          "geo": {
           "bgcolor": "white",
           "lakecolor": "white",
           "landcolor": "#E5ECF6",
           "showlakes": true,
           "showland": true,
           "subunitcolor": "white"
          },
          "hoverlabel": {
           "align": "left"
          },
          "hovermode": "closest",
          "mapbox": {
           "style": "light"
          },
          "paper_bgcolor": "white",
          "plot_bgcolor": "#E5ECF6",
          "polar": {
           "angularaxis": {
            "gridcolor": "white",
            "linecolor": "white",
            "ticks": ""
           },
           "bgcolor": "#E5ECF6",
           "radialaxis": {
            "gridcolor": "white",
            "linecolor": "white",
            "ticks": ""
           }
          },
          "scene": {
           "xaxis": {
            "backgroundcolor": "#E5ECF6",
            "gridcolor": "white",
            "gridwidth": 2,
            "linecolor": "white",
            "showbackground": true,
            "ticks": "",
            "zerolinecolor": "white"
           },
           "yaxis": {
            "backgroundcolor": "#E5ECF6",
            "gridcolor": "white",
            "gridwidth": 2,
            "linecolor": "white",
            "showbackground": true,
            "ticks": "",
            "zerolinecolor": "white"
           },
           "zaxis": {
            "backgroundcolor": "#E5ECF6",
            "gridcolor": "white",
            "gridwidth": 2,
            "linecolor": "white",
            "showbackground": true,
            "ticks": "",
            "zerolinecolor": "white"
           }
          },
          "shapedefaults": {
           "line": {
            "color": "#2a3f5f"
           }
          },
          "ternary": {
           "aaxis": {
            "gridcolor": "white",
            "linecolor": "white",
            "ticks": ""
           },
           "baxis": {
            "gridcolor": "white",
            "linecolor": "white",
            "ticks": ""
           },
           "bgcolor": "#E5ECF6",
           "caxis": {
            "gridcolor": "white",
            "linecolor": "white",
            "ticks": ""
           }
          },
          "title": {
           "x": 0.05
          },
          "xaxis": {
           "automargin": true,
           "gridcolor": "white",
           "linecolor": "white",
           "ticks": "",
           "title": {
            "standoff": 15
           },
           "zerolinecolor": "white",
           "zerolinewidth": 2
          },
          "yaxis": {
           "automargin": true,
           "gridcolor": "white",
           "linecolor": "white",
           "ticks": "",
           "title": {
            "standoff": 15
           },
           "zerolinecolor": "white",
           "zerolinewidth": 2
          }
         }
        },
        "title": {
         "font": {
          "color": "#4D5663"
         }
        },
        "xaxis": {
         "gridcolor": "#E1E5ED",
         "showgrid": true,
         "tickfont": {
          "color": "#4D5663"
         },
         "title": {
          "font": {
           "color": "#4D5663"
          },
          "text": ""
         },
         "zerolinecolor": "#E1E5ED"
        },
        "yaxis": {
         "gridcolor": "#E1E5ED",
         "showgrid": true,
         "tickfont": {
          "color": "#4D5663"
         },
         "title": {
          "font": {
           "color": "#4D5663"
          },
          "text": ""
         },
         "zerolinecolor": "#E1E5ED"
        }
       }
      },
      "text/html": [
       "<div>                            <div id=\"d8152c05-5f51-4e67-b235-04cb426ef34f\" class=\"plotly-graph-div\" style=\"height:525px; width:100%;\"></div>            <script type=\"text/javascript\">                require([\"plotly\"], function(Plotly) {                    window.PLOTLYENV=window.PLOTLYENV || {};\n",
       "                    window.PLOTLYENV.BASE_URL='https://plot.ly';                                    if (document.getElementById(\"d8152c05-5f51-4e67-b235-04cb426ef34f\")) {                    Plotly.newPlot(                        \"d8152c05-5f51-4e67-b235-04cb426ef34f\",                        [{\"marker\":{\"color\":\"rgba(255, 153, 51, 0.6)\",\"line\":{\"color\":\"rgba(255, 153, 51, 1.0)\",\"width\":1}},\"name\":\"GeneralJobTitle\",\"orientation\":\"v\",\"text\":\"\",\"x\":[\"police\",\"fire\",\"medical\",\"attorney\",\"manager\",\"assistant\",\"transit\",\"general laborer\",\"architect\",\"engineer\",\"public works\",\"automotive\",\"court\",\"airport\"],\"y\":[1676,1343,1081,257,230,206,149,85,46,30,27,6,4,2],\"type\":\"bar\"}],                        {\"legend\":{\"bgcolor\":\"#F5F6F9\",\"font\":{\"color\":\"#4D5663\"}},\"paper_bgcolor\":\"#F5F6F9\",\"plot_bgcolor\":\"#F5F6F9\",\"template\":{\"data\":{\"barpolar\":[{\"marker\":{\"line\":{\"color\":\"#E5ECF6\",\"width\":0.5},\"pattern\":{\"fillmode\":\"overlay\",\"size\":10,\"solidity\":0.2}},\"type\":\"barpolar\"}],\"bar\":[{\"error_x\":{\"color\":\"#2a3f5f\"},\"error_y\":{\"color\":\"#2a3f5f\"},\"marker\":{\"line\":{\"color\":\"#E5ECF6\",\"width\":0.5},\"pattern\":{\"fillmode\":\"overlay\",\"size\":10,\"solidity\":0.2}},\"type\":\"bar\"}],\"carpet\":[{\"aaxis\":{\"endlinecolor\":\"#2a3f5f\",\"gridcolor\":\"white\",\"linecolor\":\"white\",\"minorgridcolor\":\"white\",\"startlinecolor\":\"#2a3f5f\"},\"baxis\":{\"endlinecolor\":\"#2a3f5f\",\"gridcolor\":\"white\",\"linecolor\":\"white\",\"minorgridcolor\":\"white\",\"startlinecolor\":\"#2a3f5f\"},\"type\":\"carpet\"}],\"choropleth\":[{\"colorbar\":{\"outlinewidth\":0,\"ticks\":\"\"},\"type\":\"choropleth\"}],\"contourcarpet\":[{\"colorbar\":{\"outlinewidth\":0,\"ticks\":\"\"},\"type\":\"contourcarpet\"}],\"contour\":[{\"colorbar\":{\"outlinewidth\":0,\"ticks\":\"\"},\"colorscale\":[[0.0,\"#0d0887\"],[0.1111111111111111,\"#46039f\"],[0.2222222222222222,\"#7201a8\"],[0.3333333333333333,\"#9c179e\"],[0.4444444444444444,\"#bd3786\"],[0.5555555555555556,\"#d8576b\"],[0.6666666666666666,\"#ed7953\"],[0.7777777777777778,\"#fb9f3a\"],[0.8888888888888888,\"#fdca26\"],[1.0,\"#f0f921\"]],\"type\":\"contour\"}],\"heatmapgl\":[{\"colorbar\":{\"outlinewidth\":0,\"ticks\":\"\"},\"colorscale\":[[0.0,\"#0d0887\"],[0.1111111111111111,\"#46039f\"],[0.2222222222222222,\"#7201a8\"],[0.3333333333333333,\"#9c179e\"],[0.4444444444444444,\"#bd3786\"],[0.5555555555555556,\"#d8576b\"],[0.6666666666666666,\"#ed7953\"],[0.7777777777777778,\"#fb9f3a\"],[0.8888888888888888,\"#fdca26\"],[1.0,\"#f0f921\"]],\"type\":\"heatmapgl\"}],\"heatmap\":[{\"colorbar\":{\"outlinewidth\":0,\"ticks\":\"\"},\"colorscale\":[[0.0,\"#0d0887\"],[0.1111111111111111,\"#46039f\"],[0.2222222222222222,\"#7201a8\"],[0.3333333333333333,\"#9c179e\"],[0.4444444444444444,\"#bd3786\"],[0.5555555555555556,\"#d8576b\"],[0.6666666666666666,\"#ed7953\"],[0.7777777777777778,\"#fb9f3a\"],[0.8888888888888888,\"#fdca26\"],[1.0,\"#f0f921\"]],\"type\":\"heatmap\"}],\"histogram2dcontour\":[{\"colorbar\":{\"outlinewidth\":0,\"ticks\":\"\"},\"colorscale\":[[0.0,\"#0d0887\"],[0.1111111111111111,\"#46039f\"],[0.2222222222222222,\"#7201a8\"],[0.3333333333333333,\"#9c179e\"],[0.4444444444444444,\"#bd3786\"],[0.5555555555555556,\"#d8576b\"],[0.6666666666666666,\"#ed7953\"],[0.7777777777777778,\"#fb9f3a\"],[0.8888888888888888,\"#fdca26\"],[1.0,\"#f0f921\"]],\"type\":\"histogram2dcontour\"}],\"histogram2d\":[{\"colorbar\":{\"outlinewidth\":0,\"ticks\":\"\"},\"colorscale\":[[0.0,\"#0d0887\"],[0.1111111111111111,\"#46039f\"],[0.2222222222222222,\"#7201a8\"],[0.3333333333333333,\"#9c179e\"],[0.4444444444444444,\"#bd3786\"],[0.5555555555555556,\"#d8576b\"],[0.6666666666666666,\"#ed7953\"],[0.7777777777777778,\"#fb9f3a\"],[0.8888888888888888,\"#fdca26\"],[1.0,\"#f0f921\"]],\"type\":\"histogram2d\"}],\"histogram\":[{\"marker\":{\"pattern\":{\"fillmode\":\"overlay\",\"size\":10,\"solidity\":0.2}},\"type\":\"histogram\"}],\"mesh3d\":[{\"colorbar\":{\"outlinewidth\":0,\"ticks\":\"\"},\"type\":\"mesh3d\"}],\"parcoords\":[{\"line\":{\"colorbar\":{\"outlinewidth\":0,\"ticks\":\"\"}},\"type\":\"parcoords\"}],\"pie\":[{\"automargin\":true,\"type\":\"pie\"}],\"scatter3d\":[{\"line\":{\"colorbar\":{\"outlinewidth\":0,\"ticks\":\"\"}},\"marker\":{\"colorbar\":{\"outlinewidth\":0,\"ticks\":\"\"}},\"type\":\"scatter3d\"}],\"scattercarpet\":[{\"marker\":{\"colorbar\":{\"outlinewidth\":0,\"ticks\":\"\"}},\"type\":\"scattercarpet\"}],\"scattergeo\":[{\"marker\":{\"colorbar\":{\"outlinewidth\":0,\"ticks\":\"\"}},\"type\":\"scattergeo\"}],\"scattergl\":[{\"marker\":{\"colorbar\":{\"outlinewidth\":0,\"ticks\":\"\"}},\"type\":\"scattergl\"}],\"scattermapbox\":[{\"marker\":{\"colorbar\":{\"outlinewidth\":0,\"ticks\":\"\"}},\"type\":\"scattermapbox\"}],\"scatterpolargl\":[{\"marker\":{\"colorbar\":{\"outlinewidth\":0,\"ticks\":\"\"}},\"type\":\"scatterpolargl\"}],\"scatterpolar\":[{\"marker\":{\"colorbar\":{\"outlinewidth\":0,\"ticks\":\"\"}},\"type\":\"scatterpolar\"}],\"scatter\":[{\"fillpattern\":{\"fillmode\":\"overlay\",\"size\":10,\"solidity\":0.2},\"type\":\"scatter\"}],\"scatterternary\":[{\"marker\":{\"colorbar\":{\"outlinewidth\":0,\"ticks\":\"\"}},\"type\":\"scatterternary\"}],\"surface\":[{\"colorbar\":{\"outlinewidth\":0,\"ticks\":\"\"},\"colorscale\":[[0.0,\"#0d0887\"],[0.1111111111111111,\"#46039f\"],[0.2222222222222222,\"#7201a8\"],[0.3333333333333333,\"#9c179e\"],[0.4444444444444444,\"#bd3786\"],[0.5555555555555556,\"#d8576b\"],[0.6666666666666666,\"#ed7953\"],[0.7777777777777778,\"#fb9f3a\"],[0.8888888888888888,\"#fdca26\"],[1.0,\"#f0f921\"]],\"type\":\"surface\"}],\"table\":[{\"cells\":{\"fill\":{\"color\":\"#EBF0F8\"},\"line\":{\"color\":\"white\"}},\"header\":{\"fill\":{\"color\":\"#C8D4E3\"},\"line\":{\"color\":\"white\"}},\"type\":\"table\"}]},\"layout\":{\"annotationdefaults\":{\"arrowcolor\":\"#2a3f5f\",\"arrowhead\":0,\"arrowwidth\":1},\"autotypenumbers\":\"strict\",\"coloraxis\":{\"colorbar\":{\"outlinewidth\":0,\"ticks\":\"\"}},\"colorscale\":{\"diverging\":[[0,\"#8e0152\"],[0.1,\"#c51b7d\"],[0.2,\"#de77ae\"],[0.3,\"#f1b6da\"],[0.4,\"#fde0ef\"],[0.5,\"#f7f7f7\"],[0.6,\"#e6f5d0\"],[0.7,\"#b8e186\"],[0.8,\"#7fbc41\"],[0.9,\"#4d9221\"],[1,\"#276419\"]],\"sequential\":[[0.0,\"#0d0887\"],[0.1111111111111111,\"#46039f\"],[0.2222222222222222,\"#7201a8\"],[0.3333333333333333,\"#9c179e\"],[0.4444444444444444,\"#bd3786\"],[0.5555555555555556,\"#d8576b\"],[0.6666666666666666,\"#ed7953\"],[0.7777777777777778,\"#fb9f3a\"],[0.8888888888888888,\"#fdca26\"],[1.0,\"#f0f921\"]],\"sequentialminus\":[[0.0,\"#0d0887\"],[0.1111111111111111,\"#46039f\"],[0.2222222222222222,\"#7201a8\"],[0.3333333333333333,\"#9c179e\"],[0.4444444444444444,\"#bd3786\"],[0.5555555555555556,\"#d8576b\"],[0.6666666666666666,\"#ed7953\"],[0.7777777777777778,\"#fb9f3a\"],[0.8888888888888888,\"#fdca26\"],[1.0,\"#f0f921\"]]},\"colorway\":[\"#636efa\",\"#EF553B\",\"#00cc96\",\"#ab63fa\",\"#FFA15A\",\"#19d3f3\",\"#FF6692\",\"#B6E880\",\"#FF97FF\",\"#FECB52\"],\"font\":{\"color\":\"#2a3f5f\"},\"geo\":{\"bgcolor\":\"white\",\"lakecolor\":\"white\",\"landcolor\":\"#E5ECF6\",\"showlakes\":true,\"showland\":true,\"subunitcolor\":\"white\"},\"hoverlabel\":{\"align\":\"left\"},\"hovermode\":\"closest\",\"mapbox\":{\"style\":\"light\"},\"paper_bgcolor\":\"white\",\"plot_bgcolor\":\"#E5ECF6\",\"polar\":{\"angularaxis\":{\"gridcolor\":\"white\",\"linecolor\":\"white\",\"ticks\":\"\"},\"bgcolor\":\"#E5ECF6\",\"radialaxis\":{\"gridcolor\":\"white\",\"linecolor\":\"white\",\"ticks\":\"\"}},\"scene\":{\"xaxis\":{\"backgroundcolor\":\"#E5ECF6\",\"gridcolor\":\"white\",\"gridwidth\":2,\"linecolor\":\"white\",\"showbackground\":true,\"ticks\":\"\",\"zerolinecolor\":\"white\"},\"yaxis\":{\"backgroundcolor\":\"#E5ECF6\",\"gridcolor\":\"white\",\"gridwidth\":2,\"linecolor\":\"white\",\"showbackground\":true,\"ticks\":\"\",\"zerolinecolor\":\"white\"},\"zaxis\":{\"backgroundcolor\":\"#E5ECF6\",\"gridcolor\":\"white\",\"gridwidth\":2,\"linecolor\":\"white\",\"showbackground\":true,\"ticks\":\"\",\"zerolinecolor\":\"white\"}},\"shapedefaults\":{\"line\":{\"color\":\"#2a3f5f\"}},\"ternary\":{\"aaxis\":{\"gridcolor\":\"white\",\"linecolor\":\"white\",\"ticks\":\"\"},\"baxis\":{\"gridcolor\":\"white\",\"linecolor\":\"white\",\"ticks\":\"\"},\"bgcolor\":\"#E5ECF6\",\"caxis\":{\"gridcolor\":\"white\",\"linecolor\":\"white\",\"ticks\":\"\"}},\"title\":{\"x\":0.05},\"xaxis\":{\"automargin\":true,\"gridcolor\":\"white\",\"linecolor\":\"white\",\"ticks\":\"\",\"title\":{\"standoff\":15},\"zerolinecolor\":\"white\",\"zerolinewidth\":2},\"yaxis\":{\"automargin\":true,\"gridcolor\":\"white\",\"linecolor\":\"white\",\"ticks\":\"\",\"title\":{\"standoff\":15},\"zerolinecolor\":\"white\",\"zerolinewidth\":2}}},\"title\":{\"font\":{\"color\":\"#4D5663\"}},\"xaxis\":{\"gridcolor\":\"#E1E5ED\",\"showgrid\":true,\"tickfont\":{\"color\":\"#4D5663\"},\"title\":{\"font\":{\"color\":\"#4D5663\"},\"text\":\"\"},\"zerolinecolor\":\"#E1E5ED\"},\"yaxis\":{\"gridcolor\":\"#E1E5ED\",\"showgrid\":true,\"tickfont\":{\"color\":\"#4D5663\"},\"title\":{\"font\":{\"color\":\"#4D5663\"},\"text\":\"\"},\"zerolinecolor\":\"#E1E5ED\"}},                        {\"showLink\": true, \"linkText\": \"Export to plot.ly\", \"plotlyServerURL\": \"https://plot.ly\", \"responsive\": true}                    ).then(function(){\n",
       "                            \n",
       "var gd = document.getElementById('d8152c05-5f51-4e67-b235-04cb426ef34f');\n",
       "var x = new MutationObserver(function (mutations, observer) {{\n",
       "        var display = window.getComputedStyle(gd).display;\n",
       "        if (!display || display === 'none') {{\n",
       "            console.log([gd, 'removed!']);\n",
       "            Plotly.purge(gd);\n",
       "            observer.disconnect();\n",
       "        }}\n",
       "}});\n",
       "\n",
       "// Listen for the removal of the full notebook cells\n",
       "var notebookContainer = gd.closest('#notebook-container');\n",
       "if (notebookContainer) {{\n",
       "    x.observe(notebookContainer, {childList: true});\n",
       "}}\n",
       "\n",
       "// Listen for the clearing of the current output cell\n",
       "var outputEl = gd.closest('.output');\n",
       "if (outputEl) {{\n",
       "    x.observe(outputEl, {childList: true});\n",
       "}}\n",
       "\n",
       "                        })                };                });            </script>        </div>"
      ]
     },
     "metadata": {},
     "output_type": "display_data"
    }
   ],
   "source": [
    "# The code we provided creates a grouped bar chart using the Plotly library \n",
    "# to visualize the average 'TotalPay' for different job titles, separated by gender.\n",
    "\n",
    "salaries_more_than_200k=df[df['TotalPay']>200000]['GeneralJobTitle'].value_counts().drop('other')\n",
    "salaries_more_than_200k.iplot(kind='bar')"
   ]
  },
  {
   "cell_type": "markdown",
   "id": "3915d7f0",
   "metadata": {},
   "source": [
    "The job groups in which the most people earn supranormal amount of moneyare clearly Firemen, Policemen and Medical."
   ]
  },
  {
   "cell_type": "code",
   "execution_count": 32,
   "id": "2c771bd4",
   "metadata": {},
   "outputs": [
    {
     "data": {
      "image/png": "[encoded data removed]",
      "text/plain": [
       "<Figure size 1200x800 with 2 Axes>"
      ]
     },
     "metadata": {},
     "output_type": "display_data"
    }
   ],
   "source": [
    "# The code we provided creates a correlation heatmap using the seaborn library \n",
    "# to visualize the correlation between different numerical columns in the DataFrame df\n",
    "\n",
    "correlation_matrix = df.corr()\n",
    "plt.figure(figsize=(12, 8))\n",
    "sns.heatmap(correlation_matrix, annot=True, cmap='coolwarm')\n",
    "plt.title('Correlation Heatmap')\n",
    "plt.show()"
   ]
  },
  {
   "cell_type": "code",
   "execution_count": 33,
   "id": "b11eaab4",
   "metadata": {},
   "outputs": [
    {
     "name": "stdout",
     "output_type": "stream",
     "text": [
      "Training Mean Squared Error (MSE): 4.2904453661599636e-20\n",
      "Testing Mean Squared Error (MSE): 4.1792675054504697e-20\n",
      "Predicted BasePay: [169411.18]\n"
     ]
    }
   ],
   "source": [
    "# The code we provided demonstrates a simple linear regression model using scikit-learn \n",
    "# to predict the 'BasePay' based on several input features.\n",
    "\n",
    "import pandas as pd\n",
    "import numpy as np\n",
    "from sklearn.model_selection import train_test_split\n",
    "from sklearn.linear_model import LinearRegression\n",
    "from sklearn.metrics import mean_squared_error\n",
    "\n",
    "# Step 1: Prepare the data\n",
    "# Assuming you have a DataFrame 'df' with the required columns\n",
    "\n",
    "# Split the data into input (X) and target (y) variables\n",
    "X = df[['OvertimePay', 'OtherPay', 'Benefits', 'TotalPay', 'TotalPayBenefits', 'Year']]\n",
    "y = df['BasePay']\n",
    "\n",
    "# Step 2: Split the data into training and testing sets\n",
    "X_train, X_test, y_train, y_test = train_test_split(X, y, test_size=0.2, random_state=42)\n",
    "\n",
    "# Step 3: Create and train the regression model\n",
    "model = LinearRegression()\n",
    "model.fit(X_train, y_train)\n",
    "\n",
    "# Step 4: Evaluate the model\n",
    "train_predictions = model.predict(X_train)\n",
    "train_mse = mean_squared_error(y_train, train_predictions)\n",
    "print(\"Training Mean Squared Error (MSE):\", train_mse)\n",
    "\n",
    "test_predictions = model.predict(X_test)\n",
    "test_mse = mean_squared_error(y_test, test_predictions)\n",
    "print(\"Testing Mean Squared Error (MSE):\", test_mse)\n",
    "\n",
    "# Step 5: Make predictions\n",
    "# Assuming you have a new DataFrame 'new_data' with the same columns as the training data\n",
    "new_data = pd.DataFrame({\n",
    "    'OvertimePay': [0],\n",
    "    'OtherPay': [400184.25],\n",
    "    'Benefits': [25060.072463],\n",
    "    'TotalPay': [569595.43],\n",
    "    'TotalPayBenefits': [567595.43],\n",
    "    'Year': [2011]\n",
    "})\n",
    "\n",
    "prediction = model.predict(new_data)\n",
    "print(\"Predicted BasePay:\", prediction)\n",
    "\n"
   ]
  },
  {
   "cell_type": "code",
   "execution_count": 34,
   "id": "080e1512",
   "metadata": {},
   "outputs": [
    {
     "data": {
      "text/html": [
       "<div>\n",
       "<style scoped>\n",
       "    .dataframe tbody tr th:only-of-type {\n",
       "        vertical-align: middle;\n",
       "    }\n",
       "\n",
       "    .dataframe tbody tr th {\n",
       "        vertical-align: top;\n",
       "    }\n",
       "\n",
       "    .dataframe thead th {\n",
       "        text-align: right;\n",
       "    }\n",
       "</style>\n",
       "<table border=\"1\" class=\"dataframe\">\n",
       "  <thead>\n",
       "    <tr style=\"text-align: right;\">\n",
       "      <th></th>\n",
       "      <th>EmployeeName</th>\n",
       "      <th>JobTitle</th>\n",
       "      <th>BasePay</th>\n",
       "      <th>OvertimePay</th>\n",
       "      <th>OtherPay</th>\n",
       "      <th>Benefits</th>\n",
       "      <th>TotalPay</th>\n",
       "      <th>TotalPayBenefits</th>\n",
       "      <th>Year</th>\n",
       "      <th>GeneralJobTitle</th>\n",
       "      <th>Gender</th>\n",
       "    </tr>\n",
       "  </thead>\n",
       "  <tbody>\n",
       "    <tr>\n",
       "      <th>0</th>\n",
       "      <td>NATHANIEL FORD</td>\n",
       "      <td>GENERAL MANAGER-METROPOLITAN TRANSIT AUTHORITY</td>\n",
       "      <td>167411.18</td>\n",
       "      <td>0.00</td>\n",
       "      <td>400184.25</td>\n",
       "      <td>25060.072463</td>\n",
       "      <td>567595.43</td>\n",
       "      <td>567595.43</td>\n",
       "      <td>2011</td>\n",
       "      <td>transit</td>\n",
       "      <td>male</td>\n",
       "    </tr>\n",
       "    <tr>\n",
       "      <th>1</th>\n",
       "      <td>GARY JIMENEZ</td>\n",
       "      <td>CAPTAIN III (POLICE DEPARTMENT)</td>\n",
       "      <td>155966.02</td>\n",
       "      <td>245131.88</td>\n",
       "      <td>137811.38</td>\n",
       "      <td>25060.072463</td>\n",
       "      <td>538909.28</td>\n",
       "      <td>538909.28</td>\n",
       "      <td>2011</td>\n",
       "      <td>police</td>\n",
       "      <td>male</td>\n",
       "    </tr>\n",
       "    <tr>\n",
       "      <th>2</th>\n",
       "      <td>ALBERT PARDINI</td>\n",
       "      <td>CAPTAIN III (POLICE DEPARTMENT)</td>\n",
       "      <td>212739.13</td>\n",
       "      <td>106088.18</td>\n",
       "      <td>16452.60</td>\n",
       "      <td>25060.072463</td>\n",
       "      <td>335279.91</td>\n",
       "      <td>335279.91</td>\n",
       "      <td>2011</td>\n",
       "      <td>police</td>\n",
       "      <td>male</td>\n",
       "    </tr>\n",
       "    <tr>\n",
       "      <th>3</th>\n",
       "      <td>CHRISTOPHER CHONG</td>\n",
       "      <td>WIRE ROPE CABLE MAINTENANCE MECHANIC</td>\n",
       "      <td>77916.00</td>\n",
       "      <td>56120.71</td>\n",
       "      <td>198306.90</td>\n",
       "      <td>25060.072463</td>\n",
       "      <td>332343.61</td>\n",
       "      <td>332343.61</td>\n",
       "      <td>2011</td>\n",
       "      <td>automotive</td>\n",
       "      <td>male</td>\n",
       "    </tr>\n",
       "    <tr>\n",
       "      <th>4</th>\n",
       "      <td>PATRICK GARDNER</td>\n",
       "      <td>DEPUTY CHIEF OF DEPARTMENT,(FIRE DEPARTMENT)</td>\n",
       "      <td>134401.60</td>\n",
       "      <td>9737.00</td>\n",
       "      <td>182234.59</td>\n",
       "      <td>25060.072463</td>\n",
       "      <td>326373.19</td>\n",
       "      <td>326373.19</td>\n",
       "      <td>2011</td>\n",
       "      <td>fire</td>\n",
       "      <td>male</td>\n",
       "    </tr>\n",
       "    <tr>\n",
       "      <th>5</th>\n",
       "      <td>DAVID SULLIVAN</td>\n",
       "      <td>ASSISTANT DEPUTY CHIEF II</td>\n",
       "      <td>118602.00</td>\n",
       "      <td>8601.00</td>\n",
       "      <td>189082.74</td>\n",
       "      <td>25060.072463</td>\n",
       "      <td>316285.74</td>\n",
       "      <td>316285.74</td>\n",
       "      <td>2011</td>\n",
       "      <td>assistant</td>\n",
       "      <td>male</td>\n",
       "    </tr>\n",
       "    <tr>\n",
       "      <th>7</th>\n",
       "      <td>DAVID KUSHNER</td>\n",
       "      <td>DEPUTY DIRECTOR OF INVESTMENTS</td>\n",
       "      <td>256576.96</td>\n",
       "      <td>0.00</td>\n",
       "      <td>51322.50</td>\n",
       "      <td>25060.072463</td>\n",
       "      <td>307899.46</td>\n",
       "      <td>307899.46</td>\n",
       "      <td>2011</td>\n",
       "      <td>other</td>\n",
       "      <td>male</td>\n",
       "    </tr>\n",
       "    <tr>\n",
       "      <th>8</th>\n",
       "      <td>MICHAEL MORRIS</td>\n",
       "      <td>BATTALION CHIEF, (FIRE DEPARTMENT)</td>\n",
       "      <td>176932.64</td>\n",
       "      <td>86362.68</td>\n",
       "      <td>40132.23</td>\n",
       "      <td>25060.072463</td>\n",
       "      <td>303427.55</td>\n",
       "      <td>303427.55</td>\n",
       "      <td>2011</td>\n",
       "      <td>fire</td>\n",
       "      <td>male</td>\n",
       "    </tr>\n",
       "    <tr>\n",
       "      <th>9</th>\n",
       "      <td>JOANNE HAYES-WHITE</td>\n",
       "      <td>CHIEF OF DEPARTMENT, (FIRE DEPARTMENT)</td>\n",
       "      <td>285262.00</td>\n",
       "      <td>0.00</td>\n",
       "      <td>17115.73</td>\n",
       "      <td>25060.072463</td>\n",
       "      <td>302377.73</td>\n",
       "      <td>302377.73</td>\n",
       "      <td>2011</td>\n",
       "      <td>fire</td>\n",
       "      <td>female</td>\n",
       "    </tr>\n",
       "    <tr>\n",
       "      <th>10</th>\n",
       "      <td>ARTHUR KENNEY</td>\n",
       "      <td>ASSISTANT CHIEF OF DEPARTMENT, (FIRE DEPARTMENT)</td>\n",
       "      <td>194999.39</td>\n",
       "      <td>71344.88</td>\n",
       "      <td>33149.90</td>\n",
       "      <td>25060.072463</td>\n",
       "      <td>299494.17</td>\n",
       "      <td>299494.17</td>\n",
       "      <td>2011</td>\n",
       "      <td>fire</td>\n",
       "      <td>male</td>\n",
       "    </tr>\n",
       "    <tr>\n",
       "      <th>11</th>\n",
       "      <td>PATRICIA JACKSON</td>\n",
       "      <td>CAPTAIN III (POLICE DEPARTMENT)</td>\n",
       "      <td>99722.00</td>\n",
       "      <td>87082.62</td>\n",
       "      <td>110804.30</td>\n",
       "      <td>25060.072463</td>\n",
       "      <td>297608.92</td>\n",
       "      <td>297608.92</td>\n",
       "      <td>2011</td>\n",
       "      <td>police</td>\n",
       "      <td>female</td>\n",
       "    </tr>\n",
       "    <tr>\n",
       "      <th>12</th>\n",
       "      <td>EDWARD HARRINGTON</td>\n",
       "      <td>EXECUTIVE CONTRACT EMPLOYEE</td>\n",
       "      <td>294580.02</td>\n",
       "      <td>0.00</td>\n",
       "      <td>0.00</td>\n",
       "      <td>25060.072463</td>\n",
       "      <td>294580.02</td>\n",
       "      <td>294580.02</td>\n",
       "      <td>2011</td>\n",
       "      <td>other</td>\n",
       "      <td>male</td>\n",
       "    </tr>\n",
       "    <tr>\n",
       "      <th>13</th>\n",
       "      <td>JOHN MARTIN</td>\n",
       "      <td>DEPARTMENT HEAD V</td>\n",
       "      <td>271329.03</td>\n",
       "      <td>0.00</td>\n",
       "      <td>21342.59</td>\n",
       "      <td>25060.072463</td>\n",
       "      <td>292671.62</td>\n",
       "      <td>292671.62</td>\n",
       "      <td>2011</td>\n",
       "      <td>other</td>\n",
       "      <td>male</td>\n",
       "    </tr>\n",
       "    <tr>\n",
       "      <th>14</th>\n",
       "      <td>DAVID FRANKLIN</td>\n",
       "      <td>BATTALION CHIEF, (FIRE DEPARTMENT)</td>\n",
       "      <td>174872.64</td>\n",
       "      <td>74050.30</td>\n",
       "      <td>37424.11</td>\n",
       "      <td>25060.072463</td>\n",
       "      <td>286347.05</td>\n",
       "      <td>286347.05</td>\n",
       "      <td>2011</td>\n",
       "      <td>fire</td>\n",
       "      <td>male</td>\n",
       "    </tr>\n",
       "    <tr>\n",
       "      <th>15</th>\n",
       "      <td>RICHARD CORRIEA</td>\n",
       "      <td>COMMANDER III, (POLICE DEPARTMENT)</td>\n",
       "      <td>198778.01</td>\n",
       "      <td>73478.20</td>\n",
       "      <td>13957.65</td>\n",
       "      <td>25060.072463</td>\n",
       "      <td>286213.86</td>\n",
       "      <td>286213.86</td>\n",
       "      <td>2011</td>\n",
       "      <td>police</td>\n",
       "      <td>male</td>\n",
       "    </tr>\n",
       "    <tr>\n",
       "      <th>16</th>\n",
       "      <td>AMY HART</td>\n",
       "      <td>DEPARTMENT HEAD V</td>\n",
       "      <td>268604.57</td>\n",
       "      <td>0.00</td>\n",
       "      <td>16115.86</td>\n",
       "      <td>25060.072463</td>\n",
       "      <td>284720.43</td>\n",
       "      <td>284720.43</td>\n",
       "      <td>2011</td>\n",
       "      <td>other</td>\n",
       "      <td>female</td>\n",
       "    </tr>\n",
       "    <tr>\n",
       "      <th>17</th>\n",
       "      <td>SEBASTIAN WONG</td>\n",
       "      <td>CAPTAIN, EMERGENCYCY MEDICAL SERVICES</td>\n",
       "      <td>140546.87</td>\n",
       "      <td>119397.26</td>\n",
       "      <td>18625.08</td>\n",
       "      <td>25060.072463</td>\n",
       "      <td>278569.21</td>\n",
       "      <td>278569.21</td>\n",
       "      <td>2011</td>\n",
       "      <td>medical</td>\n",
       "      <td>male</td>\n",
       "    </tr>\n",
       "    <tr>\n",
       "      <th>18</th>\n",
       "      <td>MARTY ROSS</td>\n",
       "      <td>BATTALION CHIEF, (FIRE DEPARTMENT)</td>\n",
       "      <td>168692.63</td>\n",
       "      <td>69626.12</td>\n",
       "      <td>38115.47</td>\n",
       "      <td>25060.072463</td>\n",
       "      <td>276434.22</td>\n",
       "      <td>276434.22</td>\n",
       "      <td>2011</td>\n",
       "      <td>fire</td>\n",
       "      <td>male</td>\n",
       "    </tr>\n",
       "    <tr>\n",
       "      <th>19</th>\n",
       "      <td>ELLEN MOFFATT</td>\n",
       "      <td>ASSISTANT MEDICAL EXAMINER</td>\n",
       "      <td>257510.59</td>\n",
       "      <td>880.16</td>\n",
       "      <td>16159.50</td>\n",
       "      <td>25060.072463</td>\n",
       "      <td>274550.25</td>\n",
       "      <td>274550.25</td>\n",
       "      <td>2011</td>\n",
       "      <td>assistant</td>\n",
       "      <td>female</td>\n",
       "    </tr>\n",
       "    <tr>\n",
       "      <th>20</th>\n",
       "      <td>VENUS AZAR</td>\n",
       "      <td>ASSISTANT MEDICAL EXAMINER</td>\n",
       "      <td>257510.48</td>\n",
       "      <td>0.00</td>\n",
       "      <td>16679.79</td>\n",
       "      <td>25060.072463</td>\n",
       "      <td>274190.27</td>\n",
       "      <td>274190.27</td>\n",
       "      <td>2011</td>\n",
       "      <td>assistant</td>\n",
       "      <td>female</td>\n",
       "    </tr>\n",
       "    <tr>\n",
       "      <th>21</th>\n",
       "      <td>JUDY MELINEK</td>\n",
       "      <td>ASSISTANT MEDICAL EXAMINER</td>\n",
       "      <td>257510.44</td>\n",
       "      <td>377.21</td>\n",
       "      <td>15883.56</td>\n",
       "      <td>25060.072463</td>\n",
       "      <td>273771.21</td>\n",
       "      <td>273771.21</td>\n",
       "      <td>2011</td>\n",
       "      <td>assistant</td>\n",
       "      <td>female</td>\n",
       "    </tr>\n",
       "    <tr>\n",
       "      <th>22</th>\n",
       "      <td>GEORGE GARCIA</td>\n",
       "      <td>CAPTAIN, FIRE SUPPRESSION</td>\n",
       "      <td>140546.88</td>\n",
       "      <td>93200.58</td>\n",
       "      <td>39955.25</td>\n",
       "      <td>25060.072463</td>\n",
       "      <td>273702.71</td>\n",
       "      <td>273702.71</td>\n",
       "      <td>2011</td>\n",
       "      <td>fire</td>\n",
       "      <td>male</td>\n",
       "    </tr>\n",
       "    <tr>\n",
       "      <th>23</th>\n",
       "      <td>VICTOR WYRSCH</td>\n",
       "      <td>BATTALION CHIEF, (FIRE DEPARTMENT)</td>\n",
       "      <td>168692.63</td>\n",
       "      <td>77896.14</td>\n",
       "      <td>24083.86</td>\n",
       "      <td>25060.072463</td>\n",
       "      <td>270672.63</td>\n",
       "      <td>270672.63</td>\n",
       "      <td>2011</td>\n",
       "      <td>fire</td>\n",
       "      <td>male</td>\n",
       "    </tr>\n",
       "    <tr>\n",
       "      <th>24</th>\n",
       "      <td>JOSEPH DRISCOLL</td>\n",
       "      <td>CAPTAIN, FIRE SUPPRESSION</td>\n",
       "      <td>140546.86</td>\n",
       "      <td>97868.77</td>\n",
       "      <td>31909.28</td>\n",
       "      <td>25060.072463</td>\n",
       "      <td>270324.91</td>\n",
       "      <td>270324.91</td>\n",
       "      <td>2011</td>\n",
       "      <td>fire</td>\n",
       "      <td>male</td>\n",
       "    </tr>\n",
       "    <tr>\n",
       "      <th>25</th>\n",
       "      <td>GREGORY SUHR</td>\n",
       "      <td>CHIEF OF POLICE</td>\n",
       "      <td>256470.41</td>\n",
       "      <td>0.00</td>\n",
       "      <td>11522.18</td>\n",
       "      <td>25060.072463</td>\n",
       "      <td>267992.59</td>\n",
       "      <td>267992.59</td>\n",
       "      <td>2011</td>\n",
       "      <td>police</td>\n",
       "      <td>male</td>\n",
       "    </tr>\n",
       "    <tr>\n",
       "      <th>26</th>\n",
       "      <td>JOHN HANLEY</td>\n",
       "      <td>CAPTAIN, FIRE SUPPRESSION</td>\n",
       "      <td>92080.80</td>\n",
       "      <td>40008.00</td>\n",
       "      <td>133695.76</td>\n",
       "      <td>25060.072463</td>\n",
       "      <td>265784.56</td>\n",
       "      <td>265784.56</td>\n",
       "      <td>2011</td>\n",
       "      <td>fire</td>\n",
       "      <td>male</td>\n",
       "    </tr>\n",
       "    <tr>\n",
       "      <th>27</th>\n",
       "      <td>RAYMOND GUZMAN</td>\n",
       "      <td>BATTALION CHIEF, (FIRE DEPARTMENT)</td>\n",
       "      <td>168692.59</td>\n",
       "      <td>80706.88</td>\n",
       "      <td>16063.99</td>\n",
       "      <td>25060.072463</td>\n",
       "      <td>265463.46</td>\n",
       "      <td>265463.46</td>\n",
       "      <td>2011</td>\n",
       "      <td>fire</td>\n",
       "      <td>male</td>\n",
       "    </tr>\n",
       "    <tr>\n",
       "      <th>28</th>\n",
       "      <td>DENISE SCHMITT</td>\n",
       "      <td>DEPUTY CHIEF III (POLICE DEPARTMENT)</td>\n",
       "      <td>261717.60</td>\n",
       "      <td>0.00</td>\n",
       "      <td>2357.00</td>\n",
       "      <td>25060.072463</td>\n",
       "      <td>264074.60</td>\n",
       "      <td>264074.60</td>\n",
       "      <td>2011</td>\n",
       "      <td>police</td>\n",
       "      <td>female</td>\n",
       "    </tr>\n",
       "    <tr>\n",
       "      <th>29</th>\n",
       "      <td>MONICA FIELDS</td>\n",
       "      <td>DEPUTY CHIEF OF DEPARTMENT,(FIRE DEPARTMENT)</td>\n",
       "      <td>246225.60</td>\n",
       "      <td>0.00</td>\n",
       "      <td>15140.54</td>\n",
       "      <td>25060.072463</td>\n",
       "      <td>261366.14</td>\n",
       "      <td>261366.14</td>\n",
       "      <td>2011</td>\n",
       "      <td>fire</td>\n",
       "      <td>female</td>\n",
       "    </tr>\n",
       "    <tr>\n",
       "      <th>30</th>\n",
       "      <td>HARLAN KELLY-JR</td>\n",
       "      <td>EXECUTIVE CONTRACT EMPLOYEE</td>\n",
       "      <td>234325.02</td>\n",
       "      <td>0.00</td>\n",
       "      <td>25972.64</td>\n",
       "      <td>25060.072463</td>\n",
       "      <td>260297.66</td>\n",
       "      <td>260297.66</td>\n",
       "      <td>2011</td>\n",
       "      <td>other</td>\n",
       "      <td>male</td>\n",
       "    </tr>\n",
       "    <tr>\n",
       "      <th>31</th>\n",
       "      <td>DAVID SHINN</td>\n",
       "      <td>DEPUTY CHIEF III (POLICE DEPARTMENT)</td>\n",
       "      <td>254027.63</td>\n",
       "      <td>0.00</td>\n",
       "      <td>5899.48</td>\n",
       "      <td>25060.072463</td>\n",
       "      <td>259927.11</td>\n",
       "      <td>259927.11</td>\n",
       "      <td>2011</td>\n",
       "      <td>police</td>\n",
       "      <td>male</td>\n",
       "    </tr>\n",
       "    <tr>\n",
       "      <th>32</th>\n",
       "      <td>GARY AMELIO</td>\n",
       "      <td>DEPARTMENT HEAD V</td>\n",
       "      <td>248895.70</td>\n",
       "      <td>0.00</td>\n",
       "      <td>10789.18</td>\n",
       "      <td>25060.072463</td>\n",
       "      <td>259684.88</td>\n",
       "      <td>259684.88</td>\n",
       "      <td>2011</td>\n",
       "      <td>other</td>\n",
       "      <td>male</td>\n",
       "    </tr>\n",
       "    <tr>\n",
       "      <th>33</th>\n",
       "      <td>JOHN TURSI</td>\n",
       "      <td>INSPECTOR III, (POLICE DEPARTMENT)</td>\n",
       "      <td>104861.39</td>\n",
       "      <td>50227.61</td>\n",
       "      <td>103499.39</td>\n",
       "      <td>25060.072463</td>\n",
       "      <td>258588.39</td>\n",
       "      <td>258588.39</td>\n",
       "      <td>2011</td>\n",
       "      <td>police</td>\n",
       "      <td>male</td>\n",
       "    </tr>\n",
       "    <tr>\n",
       "      <th>34</th>\n",
       "      <td>JOSE VELO</td>\n",
       "      <td>BATTALION CHIEF, (FIRE DEPARTMENT)</td>\n",
       "      <td>177781.25</td>\n",
       "      <td>59924.97</td>\n",
       "      <td>20658.00</td>\n",
       "      <td>25060.072463</td>\n",
       "      <td>258364.22</td>\n",
       "      <td>258364.22</td>\n",
       "      <td>2011</td>\n",
       "      <td>fire</td>\n",
       "      <td>male</td>\n",
       "    </tr>\n",
       "    <tr>\n",
       "      <th>36</th>\n",
       "      <td>SUSAN CURRIN</td>\n",
       "      <td>ADMINISTRATOR, SFGH MEDICAL CENTER</td>\n",
       "      <td>245124.44</td>\n",
       "      <td>0.00</td>\n",
       "      <td>12000.00</td>\n",
       "      <td>25060.072463</td>\n",
       "      <td>257124.44</td>\n",
       "      <td>257124.44</td>\n",
       "      <td>2011</td>\n",
       "      <td>medical</td>\n",
       "      <td>female</td>\n",
       "    </tr>\n",
       "    <tr>\n",
       "      <th>37</th>\n",
       "      <td>JAMES BOSCH</td>\n",
       "      <td>INSPECTOR III, (POLICE DEPARTMENT)</td>\n",
       "      <td>110661.20</td>\n",
       "      <td>31162.04</td>\n",
       "      <td>111446.20</td>\n",
       "      <td>25060.072463</td>\n",
       "      <td>253269.44</td>\n",
       "      <td>253269.44</td>\n",
       "      <td>2011</td>\n",
       "      <td>police</td>\n",
       "      <td>male</td>\n",
       "    </tr>\n",
       "    <tr>\n",
       "      <th>38</th>\n",
       "      <td>JONES WONG</td>\n",
       "      <td>LIEUTENANT III (POLICE DEPARTMENT)</td>\n",
       "      <td>132202.26</td>\n",
       "      <td>52648.92</td>\n",
       "      <td>67083.83</td>\n",
       "      <td>25060.072463</td>\n",
       "      <td>251935.01</td>\n",
       "      <td>251935.01</td>\n",
       "      <td>2011</td>\n",
       "      <td>police</td>\n",
       "      <td>male</td>\n",
       "    </tr>\n",
       "    <tr>\n",
       "      <th>39</th>\n",
       "      <td>BRENDAN WARD</td>\n",
       "      <td>BATTALION CHIEF, (FIRE DEPARTMENT)</td>\n",
       "      <td>147158.85</td>\n",
       "      <td>64985.85</td>\n",
       "      <td>39540.46</td>\n",
       "      <td>25060.072463</td>\n",
       "      <td>251685.16</td>\n",
       "      <td>251685.16</td>\n",
       "      <td>2011</td>\n",
       "      <td>fire</td>\n",
       "      <td>male</td>\n",
       "    </tr>\n",
       "    <tr>\n",
       "      <th>40</th>\n",
       "      <td>MICHAEL THOMPSON</td>\n",
       "      <td>BATTALION CHIEF, (FIRE DEPARTMENT)</td>\n",
       "      <td>168692.66</td>\n",
       "      <td>60847.56</td>\n",
       "      <td>21055.17</td>\n",
       "      <td>25060.072463</td>\n",
       "      <td>250595.39</td>\n",
       "      <td>250595.39</td>\n",
       "      <td>2011</td>\n",
       "      <td>fire</td>\n",
       "      <td>male</td>\n",
       "    </tr>\n",
       "    <tr>\n",
       "      <th>41</th>\n",
       "      <td>THOMAS ABBOTT</td>\n",
       "      <td>BATTALION CHIEF, (FIRE DEPARTMENT)</td>\n",
       "      <td>168692.63</td>\n",
       "      <td>59760.90</td>\n",
       "      <td>21954.96</td>\n",
       "      <td>25060.072463</td>\n",
       "      <td>250408.49</td>\n",
       "      <td>250408.49</td>\n",
       "      <td>2011</td>\n",
       "      <td>fire</td>\n",
       "      <td>male</td>\n",
       "    </tr>\n",
       "    <tr>\n",
       "      <th>42</th>\n",
       "      <td>THOMAS SIRAGUSA</td>\n",
       "      <td>DEPUTY CHIEF OF DEPARTMENT,(FIRE DEPARTMENT)</td>\n",
       "      <td>218930.76</td>\n",
       "      <td>4078.00</td>\n",
       "      <td>27330.59</td>\n",
       "      <td>25060.072463</td>\n",
       "      <td>250339.35</td>\n",
       "      <td>250339.35</td>\n",
       "      <td>2011</td>\n",
       "      <td>fire</td>\n",
       "      <td>male</td>\n",
       "    </tr>\n",
       "    <tr>\n",
       "      <th>43</th>\n",
       "      <td>MICHAEL THOMPSON</td>\n",
       "      <td>FIREFIGHTER</td>\n",
       "      <td>123013.02</td>\n",
       "      <td>111729.65</td>\n",
       "      <td>15575.26</td>\n",
       "      <td>25060.072463</td>\n",
       "      <td>250317.93</td>\n",
       "      <td>250317.93</td>\n",
       "      <td>2011</td>\n",
       "      <td>fire</td>\n",
       "      <td>male</td>\n",
       "    </tr>\n",
       "    <tr>\n",
       "      <th>44</th>\n",
       "      <td>SHARON MCCOLE WICHER</td>\n",
       "      <td>NURSING SUPERVISOR PSYCHIATRIC</td>\n",
       "      <td>196081.86</td>\n",
       "      <td>0.00</td>\n",
       "      <td>54040.18</td>\n",
       "      <td>25060.072463</td>\n",
       "      <td>250122.04</td>\n",
       "      <td>250122.04</td>\n",
       "      <td>2011</td>\n",
       "      <td>medical</td>\n",
       "      <td>female</td>\n",
       "    </tr>\n",
       "    <tr>\n",
       "      <th>45</th>\n",
       "      <td>EDWIN LEE</td>\n",
       "      <td>MAYOR</td>\n",
       "      <td>249375.02</td>\n",
       "      <td>0.00</td>\n",
       "      <td>0.00</td>\n",
       "      <td>25060.072463</td>\n",
       "      <td>249375.02</td>\n",
       "      <td>249375.02</td>\n",
       "      <td>2011</td>\n",
       "      <td>other</td>\n",
       "      <td>male</td>\n",
       "    </tr>\n",
       "    <tr>\n",
       "      <th>46</th>\n",
       "      <td>BRYAN RUBENSTEIN</td>\n",
       "      <td>BATTALION CHIEF, (FIRE DEPARTMENT)</td>\n",
       "      <td>168692.64</td>\n",
       "      <td>66199.23</td>\n",
       "      <td>14401.43</td>\n",
       "      <td>25060.072463</td>\n",
       "      <td>249293.30</td>\n",
       "      <td>249293.30</td>\n",
       "      <td>2011</td>\n",
       "      <td>fire</td>\n",
       "      <td>male</td>\n",
       "    </tr>\n",
       "    <tr>\n",
       "      <th>47</th>\n",
       "      <td>TRENT RHORER</td>\n",
       "      <td>DEPARTMENT HEAD V</td>\n",
       "      <td>248895.77</td>\n",
       "      <td>0.00</td>\n",
       "      <td>0.00</td>\n",
       "      <td>25060.072463</td>\n",
       "      <td>248895.77</td>\n",
       "      <td>248895.77</td>\n",
       "      <td>2011</td>\n",
       "      <td>other</td>\n",
       "      <td>male</td>\n",
       "    </tr>\n",
       "    <tr>\n",
       "      <th>48</th>\n",
       "      <td>JAMES DUDLEY</td>\n",
       "      <td>DEPUTY CHIEF III (POLICE DEPARTMENT)</td>\n",
       "      <td>233867.60</td>\n",
       "      <td>0.00</td>\n",
       "      <td>14851.04</td>\n",
       "      <td>25060.072463</td>\n",
       "      <td>248718.64</td>\n",
       "      <td>248718.64</td>\n",
       "      <td>2011</td>\n",
       "      <td>police</td>\n",
       "      <td>male</td>\n",
       "    </tr>\n",
       "    <tr>\n",
       "      <th>49</th>\n",
       "      <td>KEN YEE</td>\n",
       "      <td>LIEUTENANT, FIRE DEPARTMENT</td>\n",
       "      <td>137729.92</td>\n",
       "      <td>89856.01</td>\n",
       "      <td>20848.46</td>\n",
       "      <td>25060.072463</td>\n",
       "      <td>248434.39</td>\n",
       "      <td>248434.39</td>\n",
       "      <td>2011</td>\n",
       "      <td>police</td>\n",
       "      <td>male</td>\n",
       "    </tr>\n",
       "    <tr>\n",
       "      <th>50</th>\n",
       "      <td>KIRK RICHARDSON</td>\n",
       "      <td>BATTALION CHIEF, (FIRE DEPARTMENT)</td>\n",
       "      <td>168692.59</td>\n",
       "      <td>58084.86</td>\n",
       "      <td>20477.16</td>\n",
       "      <td>25060.072463</td>\n",
       "      <td>247254.61</td>\n",
       "      <td>247254.61</td>\n",
       "      <td>2011</td>\n",
       "      <td>fire</td>\n",
       "      <td>male</td>\n",
       "    </tr>\n",
       "    <tr>\n",
       "      <th>51</th>\n",
       "      <td>BARBARA GARCIA</td>\n",
       "      <td>DEPARTMENT HEAD V</td>\n",
       "      <td>246305.62</td>\n",
       "      <td>0.00</td>\n",
       "      <td>0.00</td>\n",
       "      <td>25060.072463</td>\n",
       "      <td>246305.62</td>\n",
       "      <td>246305.62</td>\n",
       "      <td>2011</td>\n",
       "      <td>other</td>\n",
       "      <td>female</td>\n",
       "    </tr>\n",
       "  </tbody>\n",
       "</table>\n",
       "</div>"
      ],
      "text/plain": [
       "            EmployeeName                                          JobTitle  \\\n",
       "0         NATHANIEL FORD    GENERAL MANAGER-METROPOLITAN TRANSIT AUTHORITY   \n",
       "1           GARY JIMENEZ                   CAPTAIN III (POLICE DEPARTMENT)   \n",
       "2         ALBERT PARDINI                   CAPTAIN III (POLICE DEPARTMENT)   \n",
       "3      CHRISTOPHER CHONG              WIRE ROPE CABLE MAINTENANCE MECHANIC   \n",
       "4        PATRICK GARDNER      DEPUTY CHIEF OF DEPARTMENT,(FIRE DEPARTMENT)   \n",
       "5         DAVID SULLIVAN                         ASSISTANT DEPUTY CHIEF II   \n",
       "7          DAVID KUSHNER                    DEPUTY DIRECTOR OF INVESTMENTS   \n",
       "8         MICHAEL MORRIS                BATTALION CHIEF, (FIRE DEPARTMENT)   \n",
       "9     JOANNE HAYES-WHITE            CHIEF OF DEPARTMENT, (FIRE DEPARTMENT)   \n",
       "10         ARTHUR KENNEY  ASSISTANT CHIEF OF DEPARTMENT, (FIRE DEPARTMENT)   \n",
       "11      PATRICIA JACKSON                   CAPTAIN III (POLICE DEPARTMENT)   \n",
       "12     EDWARD HARRINGTON                       EXECUTIVE CONTRACT EMPLOYEE   \n",
       "13           JOHN MARTIN                                 DEPARTMENT HEAD V   \n",
       "14        DAVID FRANKLIN                BATTALION CHIEF, (FIRE DEPARTMENT)   \n",
       "15       RICHARD CORRIEA                COMMANDER III, (POLICE DEPARTMENT)   \n",
       "16              AMY HART                                 DEPARTMENT HEAD V   \n",
       "17        SEBASTIAN WONG             CAPTAIN, EMERGENCYCY MEDICAL SERVICES   \n",
       "18            MARTY ROSS                BATTALION CHIEF, (FIRE DEPARTMENT)   \n",
       "19         ELLEN MOFFATT                        ASSISTANT MEDICAL EXAMINER   \n",
       "20            VENUS AZAR                        ASSISTANT MEDICAL EXAMINER   \n",
       "21          JUDY MELINEK                        ASSISTANT MEDICAL EXAMINER   \n",
       "22         GEORGE GARCIA                         CAPTAIN, FIRE SUPPRESSION   \n",
       "23         VICTOR WYRSCH                BATTALION CHIEF, (FIRE DEPARTMENT)   \n",
       "24       JOSEPH DRISCOLL                         CAPTAIN, FIRE SUPPRESSION   \n",
       "25          GREGORY SUHR                                   CHIEF OF POLICE   \n",
       "26           JOHN HANLEY                         CAPTAIN, FIRE SUPPRESSION   \n",
       "27        RAYMOND GUZMAN                BATTALION CHIEF, (FIRE DEPARTMENT)   \n",
       "28        DENISE SCHMITT              DEPUTY CHIEF III (POLICE DEPARTMENT)   \n",
       "29         MONICA FIELDS      DEPUTY CHIEF OF DEPARTMENT,(FIRE DEPARTMENT)   \n",
       "30       HARLAN KELLY-JR                       EXECUTIVE CONTRACT EMPLOYEE   \n",
       "31           DAVID SHINN              DEPUTY CHIEF III (POLICE DEPARTMENT)   \n",
       "32           GARY AMELIO                                 DEPARTMENT HEAD V   \n",
       "33            JOHN TURSI                INSPECTOR III, (POLICE DEPARTMENT)   \n",
       "34             JOSE VELO                BATTALION CHIEF, (FIRE DEPARTMENT)   \n",
       "36          SUSAN CURRIN                ADMINISTRATOR, SFGH MEDICAL CENTER   \n",
       "37           JAMES BOSCH                INSPECTOR III, (POLICE DEPARTMENT)   \n",
       "38            JONES WONG                LIEUTENANT III (POLICE DEPARTMENT)   \n",
       "39          BRENDAN WARD                BATTALION CHIEF, (FIRE DEPARTMENT)   \n",
       "40      MICHAEL THOMPSON                BATTALION CHIEF, (FIRE DEPARTMENT)   \n",
       "41         THOMAS ABBOTT                BATTALION CHIEF, (FIRE DEPARTMENT)   \n",
       "42       THOMAS SIRAGUSA      DEPUTY CHIEF OF DEPARTMENT,(FIRE DEPARTMENT)   \n",
       "43      MICHAEL THOMPSON                                       FIREFIGHTER   \n",
       "44  SHARON MCCOLE WICHER                    NURSING SUPERVISOR PSYCHIATRIC   \n",
       "45             EDWIN LEE                                             MAYOR   \n",
       "46      BRYAN RUBENSTEIN                BATTALION CHIEF, (FIRE DEPARTMENT)   \n",
       "47          TRENT RHORER                                 DEPARTMENT HEAD V   \n",
       "48          JAMES DUDLEY              DEPUTY CHIEF III (POLICE DEPARTMENT)   \n",
       "49               KEN YEE                       LIEUTENANT, FIRE DEPARTMENT   \n",
       "50       KIRK RICHARDSON                BATTALION CHIEF, (FIRE DEPARTMENT)   \n",
       "51        BARBARA GARCIA                                 DEPARTMENT HEAD V   \n",
       "\n",
       "      BasePay  OvertimePay   OtherPay      Benefits   TotalPay  \\\n",
       "0   167411.18         0.00  400184.25  25060.072463  567595.43   \n",
       "1   155966.02    245131.88  137811.38  25060.072463  538909.28   \n",
       "2   212739.13    106088.18   16452.60  25060.072463  335279.91   \n",
       "3    77916.00     56120.71  198306.90  25060.072463  332343.61   \n",
       "4   134401.60      9737.00  182234.59  25060.072463  326373.19   \n",
       "5   118602.00      8601.00  189082.74  25060.072463  316285.74   \n",
       "7   256576.96         0.00   51322.50  25060.072463  307899.46   \n",
       "8   176932.64     86362.68   40132.23  25060.072463  303427.55   \n",
       "9   285262.00         0.00   17115.73  25060.072463  302377.73   \n",
       "10  194999.39     71344.88   33149.90  25060.072463  299494.17   \n",
       "11   99722.00     87082.62  110804.30  25060.072463  297608.92   \n",
       "12  294580.02         0.00       0.00  25060.072463  294580.02   \n",
       "13  271329.03         0.00   21342.59  25060.072463  292671.62   \n",
       "14  174872.64     74050.30   37424.11  25060.072463  286347.05   \n",
       "15  198778.01     73478.20   13957.65  25060.072463  286213.86   \n",
       "16  268604.57         0.00   16115.86  25060.072463  284720.43   \n",
       "17  140546.87    119397.26   18625.08  25060.072463  278569.21   \n",
       "18  168692.63     69626.12   38115.47  25060.072463  276434.22   \n",
       "19  257510.59       880.16   16159.50  25060.072463  274550.25   \n",
       "20  257510.48         0.00   16679.79  25060.072463  274190.27   \n",
       "21  257510.44       377.21   15883.56  25060.072463  273771.21   \n",
       "22  140546.88     93200.58   39955.25  25060.072463  273702.71   \n",
       "23  168692.63     77896.14   24083.86  25060.072463  270672.63   \n",
       "24  140546.86     97868.77   31909.28  25060.072463  270324.91   \n",
       "25  256470.41         0.00   11522.18  25060.072463  267992.59   \n",
       "26   92080.80     40008.00  133695.76  25060.072463  265784.56   \n",
       "27  168692.59     80706.88   16063.99  25060.072463  265463.46   \n",
       "28  261717.60         0.00    2357.00  25060.072463  264074.60   \n",
       "29  246225.60         0.00   15140.54  25060.072463  261366.14   \n",
       "30  234325.02         0.00   25972.64  25060.072463  260297.66   \n",
       "31  254027.63         0.00    5899.48  25060.072463  259927.11   \n",
       "32  248895.70         0.00   10789.18  25060.072463  259684.88   \n",
       "33  104861.39     50227.61  103499.39  25060.072463  258588.39   \n",
       "34  177781.25     59924.97   20658.00  25060.072463  258364.22   \n",
       "36  245124.44         0.00   12000.00  25060.072463  257124.44   \n",
       "37  110661.20     31162.04  111446.20  25060.072463  253269.44   \n",
       "38  132202.26     52648.92   67083.83  25060.072463  251935.01   \n",
       "39  147158.85     64985.85   39540.46  25060.072463  251685.16   \n",
       "40  168692.66     60847.56   21055.17  25060.072463  250595.39   \n",
       "41  168692.63     59760.90   21954.96  25060.072463  250408.49   \n",
       "42  218930.76      4078.00   27330.59  25060.072463  250339.35   \n",
       "43  123013.02    111729.65   15575.26  25060.072463  250317.93   \n",
       "44  196081.86         0.00   54040.18  25060.072463  250122.04   \n",
       "45  249375.02         0.00       0.00  25060.072463  249375.02   \n",
       "46  168692.64     66199.23   14401.43  25060.072463  249293.30   \n",
       "47  248895.77         0.00       0.00  25060.072463  248895.77   \n",
       "48  233867.60         0.00   14851.04  25060.072463  248718.64   \n",
       "49  137729.92     89856.01   20848.46  25060.072463  248434.39   \n",
       "50  168692.59     58084.86   20477.16  25060.072463  247254.61   \n",
       "51  246305.62         0.00       0.00  25060.072463  246305.62   \n",
       "\n",
       "    TotalPayBenefits  Year GeneralJobTitle  Gender  \n",
       "0          567595.43  2011         transit    male  \n",
       "1          538909.28  2011          police    male  \n",
       "2          335279.91  2011          police    male  \n",
       "3          332343.61  2011      automotive    male  \n",
       "4          326373.19  2011            fire    male  \n",
       "5          316285.74  2011       assistant    male  \n",
       "7          307899.46  2011           other    male  \n",
       "8          303427.55  2011            fire    male  \n",
       "9          302377.73  2011            fire  female  \n",
       "10         299494.17  2011            fire    male  \n",
       "11         297608.92  2011          police  female  \n",
       "12         294580.02  2011           other    male  \n",
       "13         292671.62  2011           other    male  \n",
       "14         286347.05  2011            fire    male  \n",
       "15         286213.86  2011          police    male  \n",
       "16         284720.43  2011           other  female  \n",
       "17         278569.21  2011         medical    male  \n",
       "18         276434.22  2011            fire    male  \n",
       "19         274550.25  2011       assistant  female  \n",
       "20         274190.27  2011       assistant  female  \n",
       "21         273771.21  2011       assistant  female  \n",
       "22         273702.71  2011            fire    male  \n",
       "23         270672.63  2011            fire    male  \n",
       "24         270324.91  2011            fire    male  \n",
       "25         267992.59  2011          police    male  \n",
       "26         265784.56  2011            fire    male  \n",
       "27         265463.46  2011            fire    male  \n",
       "28         264074.60  2011          police  female  \n",
       "29         261366.14  2011            fire  female  \n",
       "30         260297.66  2011           other    male  \n",
       "31         259927.11  2011          police    male  \n",
       "32         259684.88  2011           other    male  \n",
       "33         258588.39  2011          police    male  \n",
       "34         258364.22  2011            fire    male  \n",
       "36         257124.44  2011         medical  female  \n",
       "37         253269.44  2011          police    male  \n",
       "38         251935.01  2011          police    male  \n",
       "39         251685.16  2011            fire    male  \n",
       "40         250595.39  2011            fire    male  \n",
       "41         250408.49  2011            fire    male  \n",
       "42         250339.35  2011            fire    male  \n",
       "43         250317.93  2011            fire    male  \n",
       "44         250122.04  2011         medical  female  \n",
       "45         249375.02  2011           other    male  \n",
       "46         249293.30  2011            fire    male  \n",
       "47         248895.77  2011           other    male  \n",
       "48         248718.64  2011          police    male  \n",
       "49         248434.39  2011          police    male  \n",
       "50         247254.61  2011            fire    male  \n",
       "51         246305.62  2011           other  female  "
      ]
     },
     "execution_count": 34,
     "metadata": {},
     "output_type": "execute_result"
    }
   ],
   "source": [
    "df.head(50)\n"
   ]
  },
  {
   "cell_type": "code",
   "execution_count": 35,
   "id": "4c65000a",
   "metadata": {},
   "outputs": [],
   "source": [
    "# The code provided demonstrates the use of LabelEncoder from scikit-learn to encode categorical columns in a DataFrame.\n",
    "\n",
    "from sklearn.preprocessing import LabelEncoder\n",
    "\n",
    "# Step 1: Prepare the data\n",
    "# Assuming you have a DataFrame 'df' with the required columns\n",
    "\n",
    "# Encode categorical columns using label encoding\n",
    "le = LabelEncoder()\n",
    "df['GeneralJobTitle_encoded'] = le.fit_transform(df['GeneralJobTitle'])\n",
    "df['Gender_encoded'] = le.fit_transform(df['Gender'])"
   ]
  },
  {
   "cell_type": "code",
   "execution_count": 36,
   "id": "2fc33a71",
   "metadata": {},
   "outputs": [
    {
     "data": {
      "text/html": [
       "<div>\n",
       "<style scoped>\n",
       "    .dataframe tbody tr th:only-of-type {\n",
       "        vertical-align: middle;\n",
       "    }\n",
       "\n",
       "    .dataframe tbody tr th {\n",
       "        vertical-align: top;\n",
       "    }\n",
       "\n",
       "    .dataframe thead th {\n",
       "        text-align: right;\n",
       "    }\n",
       "</style>\n",
       "<table border=\"1\" class=\"dataframe\">\n",
       "  <thead>\n",
       "    <tr style=\"text-align: right;\">\n",
       "      <th></th>\n",
       "      <th>EmployeeName</th>\n",
       "      <th>JobTitle</th>\n",
       "      <th>BasePay</th>\n",
       "      <th>OvertimePay</th>\n",
       "      <th>OtherPay</th>\n",
       "      <th>Benefits</th>\n",
       "      <th>TotalPay</th>\n",
       "      <th>TotalPayBenefits</th>\n",
       "      <th>Year</th>\n",
       "      <th>GeneralJobTitle</th>\n",
       "      <th>Gender</th>\n",
       "      <th>GeneralJobTitle_encoded</th>\n",
       "      <th>Gender_encoded</th>\n",
       "    </tr>\n",
       "  </thead>\n",
       "  <tbody>\n",
       "    <tr>\n",
       "      <th>0</th>\n",
       "      <td>NATHANIEL FORD</td>\n",
       "      <td>GENERAL MANAGER-METROPOLITAN TRANSIT AUTHORITY</td>\n",
       "      <td>167411.18</td>\n",
       "      <td>0.00</td>\n",
       "      <td>400184.25</td>\n",
       "      <td>25060.072463</td>\n",
       "      <td>567595.43</td>\n",
       "      <td>567595.43</td>\n",
       "      <td>2011</td>\n",
       "      <td>transit</td>\n",
       "      <td>male</td>\n",
       "      <td>25</td>\n",
       "      <td>1</td>\n",
       "    </tr>\n",
       "    <tr>\n",
       "      <th>1</th>\n",
       "      <td>GARY JIMENEZ</td>\n",
       "      <td>CAPTAIN III (POLICE DEPARTMENT)</td>\n",
       "      <td>155966.02</td>\n",
       "      <td>245131.88</td>\n",
       "      <td>137811.38</td>\n",
       "      <td>25060.072463</td>\n",
       "      <td>538909.28</td>\n",
       "      <td>538909.28</td>\n",
       "      <td>2011</td>\n",
       "      <td>police</td>\n",
       "      <td>male</td>\n",
       "      <td>20</td>\n",
       "      <td>1</td>\n",
       "    </tr>\n",
       "    <tr>\n",
       "      <th>2</th>\n",
       "      <td>ALBERT PARDINI</td>\n",
       "      <td>CAPTAIN III (POLICE DEPARTMENT)</td>\n",
       "      <td>212739.13</td>\n",
       "      <td>106088.18</td>\n",
       "      <td>16452.60</td>\n",
       "      <td>25060.072463</td>\n",
       "      <td>335279.91</td>\n",
       "      <td>335279.91</td>\n",
       "      <td>2011</td>\n",
       "      <td>police</td>\n",
       "      <td>male</td>\n",
       "      <td>20</td>\n",
       "      <td>1</td>\n",
       "    </tr>\n",
       "    <tr>\n",
       "      <th>3</th>\n",
       "      <td>CHRISTOPHER CHONG</td>\n",
       "      <td>WIRE ROPE CABLE MAINTENANCE MECHANIC</td>\n",
       "      <td>77916.00</td>\n",
       "      <td>56120.71</td>\n",
       "      <td>198306.90</td>\n",
       "      <td>25060.072463</td>\n",
       "      <td>332343.61</td>\n",
       "      <td>332343.61</td>\n",
       "      <td>2011</td>\n",
       "      <td>automotive</td>\n",
       "      <td>male</td>\n",
       "      <td>6</td>\n",
       "      <td>1</td>\n",
       "    </tr>\n",
       "    <tr>\n",
       "      <th>4</th>\n",
       "      <td>PATRICK GARDNER</td>\n",
       "      <td>DEPUTY CHIEF OF DEPARTMENT,(FIRE DEPARTMENT)</td>\n",
       "      <td>134401.60</td>\n",
       "      <td>9737.00</td>\n",
       "      <td>182234.59</td>\n",
       "      <td>25060.072463</td>\n",
       "      <td>326373.19</td>\n",
       "      <td>326373.19</td>\n",
       "      <td>2011</td>\n",
       "      <td>fire</td>\n",
       "      <td>male</td>\n",
       "      <td>11</td>\n",
       "      <td>1</td>\n",
       "    </tr>\n",
       "    <tr>\n",
       "      <th>5</th>\n",
       "      <td>DAVID SULLIVAN</td>\n",
       "      <td>ASSISTANT DEPUTY CHIEF II</td>\n",
       "      <td>118602.00</td>\n",
       "      <td>8601.00</td>\n",
       "      <td>189082.74</td>\n",
       "      <td>25060.072463</td>\n",
       "      <td>316285.74</td>\n",
       "      <td>316285.74</td>\n",
       "      <td>2011</td>\n",
       "      <td>assistant</td>\n",
       "      <td>male</td>\n",
       "      <td>4</td>\n",
       "      <td>1</td>\n",
       "    </tr>\n",
       "    <tr>\n",
       "      <th>7</th>\n",
       "      <td>DAVID KUSHNER</td>\n",
       "      <td>DEPUTY DIRECTOR OF INVESTMENTS</td>\n",
       "      <td>256576.96</td>\n",
       "      <td>0.00</td>\n",
       "      <td>51322.50</td>\n",
       "      <td>25060.072463</td>\n",
       "      <td>307899.46</td>\n",
       "      <td>307899.46</td>\n",
       "      <td>2011</td>\n",
       "      <td>other</td>\n",
       "      <td>male</td>\n",
       "      <td>19</td>\n",
       "      <td>1</td>\n",
       "    </tr>\n",
       "    <tr>\n",
       "      <th>8</th>\n",
       "      <td>MICHAEL MORRIS</td>\n",
       "      <td>BATTALION CHIEF, (FIRE DEPARTMENT)</td>\n",
       "      <td>176932.64</td>\n",
       "      <td>86362.68</td>\n",
       "      <td>40132.23</td>\n",
       "      <td>25060.072463</td>\n",
       "      <td>303427.55</td>\n",
       "      <td>303427.55</td>\n",
       "      <td>2011</td>\n",
       "      <td>fire</td>\n",
       "      <td>male</td>\n",
       "      <td>11</td>\n",
       "      <td>1</td>\n",
       "    </tr>\n",
       "    <tr>\n",
       "      <th>9</th>\n",
       "      <td>JOANNE HAYES-WHITE</td>\n",
       "      <td>CHIEF OF DEPARTMENT, (FIRE DEPARTMENT)</td>\n",
       "      <td>285262.00</td>\n",
       "      <td>0.00</td>\n",
       "      <td>17115.73</td>\n",
       "      <td>25060.072463</td>\n",
       "      <td>302377.73</td>\n",
       "      <td>302377.73</td>\n",
       "      <td>2011</td>\n",
       "      <td>fire</td>\n",
       "      <td>female</td>\n",
       "      <td>11</td>\n",
       "      <td>0</td>\n",
       "    </tr>\n",
       "    <tr>\n",
       "      <th>10</th>\n",
       "      <td>ARTHUR KENNEY</td>\n",
       "      <td>ASSISTANT CHIEF OF DEPARTMENT, (FIRE DEPARTMENT)</td>\n",
       "      <td>194999.39</td>\n",
       "      <td>71344.88</td>\n",
       "      <td>33149.90</td>\n",
       "      <td>25060.072463</td>\n",
       "      <td>299494.17</td>\n",
       "      <td>299494.17</td>\n",
       "      <td>2011</td>\n",
       "      <td>fire</td>\n",
       "      <td>male</td>\n",
       "      <td>11</td>\n",
       "      <td>1</td>\n",
       "    </tr>\n",
       "    <tr>\n",
       "      <th>11</th>\n",
       "      <td>PATRICIA JACKSON</td>\n",
       "      <td>CAPTAIN III (POLICE DEPARTMENT)</td>\n",
       "      <td>99722.00</td>\n",
       "      <td>87082.62</td>\n",
       "      <td>110804.30</td>\n",
       "      <td>25060.072463</td>\n",
       "      <td>297608.92</td>\n",
       "      <td>297608.92</td>\n",
       "      <td>2011</td>\n",
       "      <td>police</td>\n",
       "      <td>female</td>\n",
       "      <td>20</td>\n",
       "      <td>0</td>\n",
       "    </tr>\n",
       "    <tr>\n",
       "      <th>12</th>\n",
       "      <td>EDWARD HARRINGTON</td>\n",
       "      <td>EXECUTIVE CONTRACT EMPLOYEE</td>\n",
       "      <td>294580.02</td>\n",
       "      <td>0.00</td>\n",
       "      <td>0.00</td>\n",
       "      <td>25060.072463</td>\n",
       "      <td>294580.02</td>\n",
       "      <td>294580.02</td>\n",
       "      <td>2011</td>\n",
       "      <td>other</td>\n",
       "      <td>male</td>\n",
       "      <td>19</td>\n",
       "      <td>1</td>\n",
       "    </tr>\n",
       "    <tr>\n",
       "      <th>13</th>\n",
       "      <td>JOHN MARTIN</td>\n",
       "      <td>DEPARTMENT HEAD V</td>\n",
       "      <td>271329.03</td>\n",
       "      <td>0.00</td>\n",
       "      <td>21342.59</td>\n",
       "      <td>25060.072463</td>\n",
       "      <td>292671.62</td>\n",
       "      <td>292671.62</td>\n",
       "      <td>2011</td>\n",
       "      <td>other</td>\n",
       "      <td>male</td>\n",
       "      <td>19</td>\n",
       "      <td>1</td>\n",
       "    </tr>\n",
       "    <tr>\n",
       "      <th>14</th>\n",
       "      <td>DAVID FRANKLIN</td>\n",
       "      <td>BATTALION CHIEF, (FIRE DEPARTMENT)</td>\n",
       "      <td>174872.64</td>\n",
       "      <td>74050.30</td>\n",
       "      <td>37424.11</td>\n",
       "      <td>25060.072463</td>\n",
       "      <td>286347.05</td>\n",
       "      <td>286347.05</td>\n",
       "      <td>2011</td>\n",
       "      <td>fire</td>\n",
       "      <td>male</td>\n",
       "      <td>11</td>\n",
       "      <td>1</td>\n",
       "    </tr>\n",
       "    <tr>\n",
       "      <th>15</th>\n",
       "      <td>RICHARD CORRIEA</td>\n",
       "      <td>COMMANDER III, (POLICE DEPARTMENT)</td>\n",
       "      <td>198778.01</td>\n",
       "      <td>73478.20</td>\n",
       "      <td>13957.65</td>\n",
       "      <td>25060.072463</td>\n",
       "      <td>286213.86</td>\n",
       "      <td>286213.86</td>\n",
       "      <td>2011</td>\n",
       "      <td>police</td>\n",
       "      <td>male</td>\n",
       "      <td>20</td>\n",
       "      <td>1</td>\n",
       "    </tr>\n",
       "    <tr>\n",
       "      <th>16</th>\n",
       "      <td>AMY HART</td>\n",
       "      <td>DEPARTMENT HEAD V</td>\n",
       "      <td>268604.57</td>\n",
       "      <td>0.00</td>\n",
       "      <td>16115.86</td>\n",
       "      <td>25060.072463</td>\n",
       "      <td>284720.43</td>\n",
       "      <td>284720.43</td>\n",
       "      <td>2011</td>\n",
       "      <td>other</td>\n",
       "      <td>female</td>\n",
       "      <td>19</td>\n",
       "      <td>0</td>\n",
       "    </tr>\n",
       "    <tr>\n",
       "      <th>17</th>\n",
       "      <td>SEBASTIAN WONG</td>\n",
       "      <td>CAPTAIN, EMERGENCYCY MEDICAL SERVICES</td>\n",
       "      <td>140546.87</td>\n",
       "      <td>119397.26</td>\n",
       "      <td>18625.08</td>\n",
       "      <td>25060.072463</td>\n",
       "      <td>278569.21</td>\n",
       "      <td>278569.21</td>\n",
       "      <td>2011</td>\n",
       "      <td>medical</td>\n",
       "      <td>male</td>\n",
       "      <td>18</td>\n",
       "      <td>1</td>\n",
       "    </tr>\n",
       "    <tr>\n",
       "      <th>18</th>\n",
       "      <td>MARTY ROSS</td>\n",
       "      <td>BATTALION CHIEF, (FIRE DEPARTMENT)</td>\n",
       "      <td>168692.63</td>\n",
       "      <td>69626.12</td>\n",
       "      <td>38115.47</td>\n",
       "      <td>25060.072463</td>\n",
       "      <td>276434.22</td>\n",
       "      <td>276434.22</td>\n",
       "      <td>2011</td>\n",
       "      <td>fire</td>\n",
       "      <td>male</td>\n",
       "      <td>11</td>\n",
       "      <td>1</td>\n",
       "    </tr>\n",
       "    <tr>\n",
       "      <th>19</th>\n",
       "      <td>ELLEN MOFFATT</td>\n",
       "      <td>ASSISTANT MEDICAL EXAMINER</td>\n",
       "      <td>257510.59</td>\n",
       "      <td>880.16</td>\n",
       "      <td>16159.50</td>\n",
       "      <td>25060.072463</td>\n",
       "      <td>274550.25</td>\n",
       "      <td>274550.25</td>\n",
       "      <td>2011</td>\n",
       "      <td>assistant</td>\n",
       "      <td>female</td>\n",
       "      <td>4</td>\n",
       "      <td>0</td>\n",
       "    </tr>\n",
       "    <tr>\n",
       "      <th>20</th>\n",
       "      <td>VENUS AZAR</td>\n",
       "      <td>ASSISTANT MEDICAL EXAMINER</td>\n",
       "      <td>257510.48</td>\n",
       "      <td>0.00</td>\n",
       "      <td>16679.79</td>\n",
       "      <td>25060.072463</td>\n",
       "      <td>274190.27</td>\n",
       "      <td>274190.27</td>\n",
       "      <td>2011</td>\n",
       "      <td>assistant</td>\n",
       "      <td>female</td>\n",
       "      <td>4</td>\n",
       "      <td>0</td>\n",
       "    </tr>\n",
       "    <tr>\n",
       "      <th>21</th>\n",
       "      <td>JUDY MELINEK</td>\n",
       "      <td>ASSISTANT MEDICAL EXAMINER</td>\n",
       "      <td>257510.44</td>\n",
       "      <td>377.21</td>\n",
       "      <td>15883.56</td>\n",
       "      <td>25060.072463</td>\n",
       "      <td>273771.21</td>\n",
       "      <td>273771.21</td>\n",
       "      <td>2011</td>\n",
       "      <td>assistant</td>\n",
       "      <td>female</td>\n",
       "      <td>4</td>\n",
       "      <td>0</td>\n",
       "    </tr>\n",
       "    <tr>\n",
       "      <th>22</th>\n",
       "      <td>GEORGE GARCIA</td>\n",
       "      <td>CAPTAIN, FIRE SUPPRESSION</td>\n",
       "      <td>140546.88</td>\n",
       "      <td>93200.58</td>\n",
       "      <td>39955.25</td>\n",
       "      <td>25060.072463</td>\n",
       "      <td>273702.71</td>\n",
       "      <td>273702.71</td>\n",
       "      <td>2011</td>\n",
       "      <td>fire</td>\n",
       "      <td>male</td>\n",
       "      <td>11</td>\n",
       "      <td>1</td>\n",
       "    </tr>\n",
       "    <tr>\n",
       "      <th>23</th>\n",
       "      <td>VICTOR WYRSCH</td>\n",
       "      <td>BATTALION CHIEF, (FIRE DEPARTMENT)</td>\n",
       "      <td>168692.63</td>\n",
       "      <td>77896.14</td>\n",
       "      <td>24083.86</td>\n",
       "      <td>25060.072463</td>\n",
       "      <td>270672.63</td>\n",
       "      <td>270672.63</td>\n",
       "      <td>2011</td>\n",
       "      <td>fire</td>\n",
       "      <td>male</td>\n",
       "      <td>11</td>\n",
       "      <td>1</td>\n",
       "    </tr>\n",
       "    <tr>\n",
       "      <th>24</th>\n",
       "      <td>JOSEPH DRISCOLL</td>\n",
       "      <td>CAPTAIN, FIRE SUPPRESSION</td>\n",
       "      <td>140546.86</td>\n",
       "      <td>97868.77</td>\n",
       "      <td>31909.28</td>\n",
       "      <td>25060.072463</td>\n",
       "      <td>270324.91</td>\n",
       "      <td>270324.91</td>\n",
       "      <td>2011</td>\n",
       "      <td>fire</td>\n",
       "      <td>male</td>\n",
       "      <td>11</td>\n",
       "      <td>1</td>\n",
       "    </tr>\n",
       "    <tr>\n",
       "      <th>25</th>\n",
       "      <td>GREGORY SUHR</td>\n",
       "      <td>CHIEF OF POLICE</td>\n",
       "      <td>256470.41</td>\n",
       "      <td>0.00</td>\n",
       "      <td>11522.18</td>\n",
       "      <td>25060.072463</td>\n",
       "      <td>267992.59</td>\n",
       "      <td>267992.59</td>\n",
       "      <td>2011</td>\n",
       "      <td>police</td>\n",
       "      <td>male</td>\n",
       "      <td>20</td>\n",
       "      <td>1</td>\n",
       "    </tr>\n",
       "    <tr>\n",
       "      <th>26</th>\n",
       "      <td>JOHN HANLEY</td>\n",
       "      <td>CAPTAIN, FIRE SUPPRESSION</td>\n",
       "      <td>92080.80</td>\n",
       "      <td>40008.00</td>\n",
       "      <td>133695.76</td>\n",
       "      <td>25060.072463</td>\n",
       "      <td>265784.56</td>\n",
       "      <td>265784.56</td>\n",
       "      <td>2011</td>\n",
       "      <td>fire</td>\n",
       "      <td>male</td>\n",
       "      <td>11</td>\n",
       "      <td>1</td>\n",
       "    </tr>\n",
       "    <tr>\n",
       "      <th>27</th>\n",
       "      <td>RAYMOND GUZMAN</td>\n",
       "      <td>BATTALION CHIEF, (FIRE DEPARTMENT)</td>\n",
       "      <td>168692.59</td>\n",
       "      <td>80706.88</td>\n",
       "      <td>16063.99</td>\n",
       "      <td>25060.072463</td>\n",
       "      <td>265463.46</td>\n",
       "      <td>265463.46</td>\n",
       "      <td>2011</td>\n",
       "      <td>fire</td>\n",
       "      <td>male</td>\n",
       "      <td>11</td>\n",
       "      <td>1</td>\n",
       "    </tr>\n",
       "    <tr>\n",
       "      <th>28</th>\n",
       "      <td>DENISE SCHMITT</td>\n",
       "      <td>DEPUTY CHIEF III (POLICE DEPARTMENT)</td>\n",
       "      <td>261717.60</td>\n",
       "      <td>0.00</td>\n",
       "      <td>2357.00</td>\n",
       "      <td>25060.072463</td>\n",
       "      <td>264074.60</td>\n",
       "      <td>264074.60</td>\n",
       "      <td>2011</td>\n",
       "      <td>police</td>\n",
       "      <td>female</td>\n",
       "      <td>20</td>\n",
       "      <td>0</td>\n",
       "    </tr>\n",
       "    <tr>\n",
       "      <th>29</th>\n",
       "      <td>MONICA FIELDS</td>\n",
       "      <td>DEPUTY CHIEF OF DEPARTMENT,(FIRE DEPARTMENT)</td>\n",
       "      <td>246225.60</td>\n",
       "      <td>0.00</td>\n",
       "      <td>15140.54</td>\n",
       "      <td>25060.072463</td>\n",
       "      <td>261366.14</td>\n",
       "      <td>261366.14</td>\n",
       "      <td>2011</td>\n",
       "      <td>fire</td>\n",
       "      <td>female</td>\n",
       "      <td>11</td>\n",
       "      <td>0</td>\n",
       "    </tr>\n",
       "    <tr>\n",
       "      <th>30</th>\n",
       "      <td>HARLAN KELLY-JR</td>\n",
       "      <td>EXECUTIVE CONTRACT EMPLOYEE</td>\n",
       "      <td>234325.02</td>\n",
       "      <td>0.00</td>\n",
       "      <td>25972.64</td>\n",
       "      <td>25060.072463</td>\n",
       "      <td>260297.66</td>\n",
       "      <td>260297.66</td>\n",
       "      <td>2011</td>\n",
       "      <td>other</td>\n",
       "      <td>male</td>\n",
       "      <td>19</td>\n",
       "      <td>1</td>\n",
       "    </tr>\n",
       "    <tr>\n",
       "      <th>31</th>\n",
       "      <td>DAVID SHINN</td>\n",
       "      <td>DEPUTY CHIEF III (POLICE DEPARTMENT)</td>\n",
       "      <td>254027.63</td>\n",
       "      <td>0.00</td>\n",
       "      <td>5899.48</td>\n",
       "      <td>25060.072463</td>\n",
       "      <td>259927.11</td>\n",
       "      <td>259927.11</td>\n",
       "      <td>2011</td>\n",
       "      <td>police</td>\n",
       "      <td>male</td>\n",
       "      <td>20</td>\n",
       "      <td>1</td>\n",
       "    </tr>\n",
       "    <tr>\n",
       "      <th>32</th>\n",
       "      <td>GARY AMELIO</td>\n",
       "      <td>DEPARTMENT HEAD V</td>\n",
       "      <td>248895.70</td>\n",
       "      <td>0.00</td>\n",
       "      <td>10789.18</td>\n",
       "      <td>25060.072463</td>\n",
       "      <td>259684.88</td>\n",
       "      <td>259684.88</td>\n",
       "      <td>2011</td>\n",
       "      <td>other</td>\n",
       "      <td>male</td>\n",
       "      <td>19</td>\n",
       "      <td>1</td>\n",
       "    </tr>\n",
       "    <tr>\n",
       "      <th>33</th>\n",
       "      <td>JOHN TURSI</td>\n",
       "      <td>INSPECTOR III, (POLICE DEPARTMENT)</td>\n",
       "      <td>104861.39</td>\n",
       "      <td>50227.61</td>\n",
       "      <td>103499.39</td>\n",
       "      <td>25060.072463</td>\n",
       "      <td>258588.39</td>\n",
       "      <td>258588.39</td>\n",
       "      <td>2011</td>\n",
       "      <td>police</td>\n",
       "      <td>male</td>\n",
       "      <td>20</td>\n",
       "      <td>1</td>\n",
       "    </tr>\n",
       "    <tr>\n",
       "      <th>34</th>\n",
       "      <td>JOSE VELO</td>\n",
       "      <td>BATTALION CHIEF, (FIRE DEPARTMENT)</td>\n",
       "      <td>177781.25</td>\n",
       "      <td>59924.97</td>\n",
       "      <td>20658.00</td>\n",
       "      <td>25060.072463</td>\n",
       "      <td>258364.22</td>\n",
       "      <td>258364.22</td>\n",
       "      <td>2011</td>\n",
       "      <td>fire</td>\n",
       "      <td>male</td>\n",
       "      <td>11</td>\n",
       "      <td>1</td>\n",
       "    </tr>\n",
       "    <tr>\n",
       "      <th>36</th>\n",
       "      <td>SUSAN CURRIN</td>\n",
       "      <td>ADMINISTRATOR, SFGH MEDICAL CENTER</td>\n",
       "      <td>245124.44</td>\n",
       "      <td>0.00</td>\n",
       "      <td>12000.00</td>\n",
       "      <td>25060.072463</td>\n",
       "      <td>257124.44</td>\n",
       "      <td>257124.44</td>\n",
       "      <td>2011</td>\n",
       "      <td>medical</td>\n",
       "      <td>female</td>\n",
       "      <td>18</td>\n",
       "      <td>0</td>\n",
       "    </tr>\n",
       "    <tr>\n",
       "      <th>37</th>\n",
       "      <td>JAMES BOSCH</td>\n",
       "      <td>INSPECTOR III, (POLICE DEPARTMENT)</td>\n",
       "      <td>110661.20</td>\n",
       "      <td>31162.04</td>\n",
       "      <td>111446.20</td>\n",
       "      <td>25060.072463</td>\n",
       "      <td>253269.44</td>\n",
       "      <td>253269.44</td>\n",
       "      <td>2011</td>\n",
       "      <td>police</td>\n",
       "      <td>male</td>\n",
       "      <td>20</td>\n",
       "      <td>1</td>\n",
       "    </tr>\n",
       "    <tr>\n",
       "      <th>38</th>\n",
       "      <td>JONES WONG</td>\n",
       "      <td>LIEUTENANT III (POLICE DEPARTMENT)</td>\n",
       "      <td>132202.26</td>\n",
       "      <td>52648.92</td>\n",
       "      <td>67083.83</td>\n",
       "      <td>25060.072463</td>\n",
       "      <td>251935.01</td>\n",
       "      <td>251935.01</td>\n",
       "      <td>2011</td>\n",
       "      <td>police</td>\n",
       "      <td>male</td>\n",
       "      <td>20</td>\n",
       "      <td>1</td>\n",
       "    </tr>\n",
       "    <tr>\n",
       "      <th>39</th>\n",
       "      <td>BRENDAN WARD</td>\n",
       "      <td>BATTALION CHIEF, (FIRE DEPARTMENT)</td>\n",
       "      <td>147158.85</td>\n",
       "      <td>64985.85</td>\n",
       "      <td>39540.46</td>\n",
       "      <td>25060.072463</td>\n",
       "      <td>251685.16</td>\n",
       "      <td>251685.16</td>\n",
       "      <td>2011</td>\n",
       "      <td>fire</td>\n",
       "      <td>male</td>\n",
       "      <td>11</td>\n",
       "      <td>1</td>\n",
       "    </tr>\n",
       "    <tr>\n",
       "      <th>40</th>\n",
       "      <td>MICHAEL THOMPSON</td>\n",
       "      <td>BATTALION CHIEF, (FIRE DEPARTMENT)</td>\n",
       "      <td>168692.66</td>\n",
       "      <td>60847.56</td>\n",
       "      <td>21055.17</td>\n",
       "      <td>25060.072463</td>\n",
       "      <td>250595.39</td>\n",
       "      <td>250595.39</td>\n",
       "      <td>2011</td>\n",
       "      <td>fire</td>\n",
       "      <td>male</td>\n",
       "      <td>11</td>\n",
       "      <td>1</td>\n",
       "    </tr>\n",
       "    <tr>\n",
       "      <th>41</th>\n",
       "      <td>THOMAS ABBOTT</td>\n",
       "      <td>BATTALION CHIEF, (FIRE DEPARTMENT)</td>\n",
       "      <td>168692.63</td>\n",
       "      <td>59760.90</td>\n",
       "      <td>21954.96</td>\n",
       "      <td>25060.072463</td>\n",
       "      <td>250408.49</td>\n",
       "      <td>250408.49</td>\n",
       "      <td>2011</td>\n",
       "      <td>fire</td>\n",
       "      <td>male</td>\n",
       "      <td>11</td>\n",
       "      <td>1</td>\n",
       "    </tr>\n",
       "    <tr>\n",
       "      <th>42</th>\n",
       "      <td>THOMAS SIRAGUSA</td>\n",
       "      <td>DEPUTY CHIEF OF DEPARTMENT,(FIRE DEPARTMENT)</td>\n",
       "      <td>218930.76</td>\n",
       "      <td>4078.00</td>\n",
       "      <td>27330.59</td>\n",
       "      <td>25060.072463</td>\n",
       "      <td>250339.35</td>\n",
       "      <td>250339.35</td>\n",
       "      <td>2011</td>\n",
       "      <td>fire</td>\n",
       "      <td>male</td>\n",
       "      <td>11</td>\n",
       "      <td>1</td>\n",
       "    </tr>\n",
       "    <tr>\n",
       "      <th>43</th>\n",
       "      <td>MICHAEL THOMPSON</td>\n",
       "      <td>FIREFIGHTER</td>\n",
       "      <td>123013.02</td>\n",
       "      <td>111729.65</td>\n",
       "      <td>15575.26</td>\n",
       "      <td>25060.072463</td>\n",
       "      <td>250317.93</td>\n",
       "      <td>250317.93</td>\n",
       "      <td>2011</td>\n",
       "      <td>fire</td>\n",
       "      <td>male</td>\n",
       "      <td>11</td>\n",
       "      <td>1</td>\n",
       "    </tr>\n",
       "    <tr>\n",
       "      <th>44</th>\n",
       "      <td>SHARON MCCOLE WICHER</td>\n",
       "      <td>NURSING SUPERVISOR PSYCHIATRIC</td>\n",
       "      <td>196081.86</td>\n",
       "      <td>0.00</td>\n",
       "      <td>54040.18</td>\n",
       "      <td>25060.072463</td>\n",
       "      <td>250122.04</td>\n",
       "      <td>250122.04</td>\n",
       "      <td>2011</td>\n",
       "      <td>medical</td>\n",
       "      <td>female</td>\n",
       "      <td>18</td>\n",
       "      <td>0</td>\n",
       "    </tr>\n",
       "    <tr>\n",
       "      <th>45</th>\n",
       "      <td>EDWIN LEE</td>\n",
       "      <td>MAYOR</td>\n",
       "      <td>249375.02</td>\n",
       "      <td>0.00</td>\n",
       "      <td>0.00</td>\n",
       "      <td>25060.072463</td>\n",
       "      <td>249375.02</td>\n",
       "      <td>249375.02</td>\n",
       "      <td>2011</td>\n",
       "      <td>other</td>\n",
       "      <td>male</td>\n",
       "      <td>19</td>\n",
       "      <td>1</td>\n",
       "    </tr>\n",
       "    <tr>\n",
       "      <th>46</th>\n",
       "      <td>BRYAN RUBENSTEIN</td>\n",
       "      <td>BATTALION CHIEF, (FIRE DEPARTMENT)</td>\n",
       "      <td>168692.64</td>\n",
       "      <td>66199.23</td>\n",
       "      <td>14401.43</td>\n",
       "      <td>25060.072463</td>\n",
       "      <td>249293.30</td>\n",
       "      <td>249293.30</td>\n",
       "      <td>2011</td>\n",
       "      <td>fire</td>\n",
       "      <td>male</td>\n",
       "      <td>11</td>\n",
       "      <td>1</td>\n",
       "    </tr>\n",
       "    <tr>\n",
       "      <th>47</th>\n",
       "      <td>TRENT RHORER</td>\n",
       "      <td>DEPARTMENT HEAD V</td>\n",
       "      <td>248895.77</td>\n",
       "      <td>0.00</td>\n",
       "      <td>0.00</td>\n",
       "      <td>25060.072463</td>\n",
       "      <td>248895.77</td>\n",
       "      <td>248895.77</td>\n",
       "      <td>2011</td>\n",
       "      <td>other</td>\n",
       "      <td>male</td>\n",
       "      <td>19</td>\n",
       "      <td>1</td>\n",
       "    </tr>\n",
       "    <tr>\n",
       "      <th>48</th>\n",
       "      <td>JAMES DUDLEY</td>\n",
       "      <td>DEPUTY CHIEF III (POLICE DEPARTMENT)</td>\n",
       "      <td>233867.60</td>\n",
       "      <td>0.00</td>\n",
       "      <td>14851.04</td>\n",
       "      <td>25060.072463</td>\n",
       "      <td>248718.64</td>\n",
       "      <td>248718.64</td>\n",
       "      <td>2011</td>\n",
       "      <td>police</td>\n",
       "      <td>male</td>\n",
       "      <td>20</td>\n",
       "      <td>1</td>\n",
       "    </tr>\n",
       "    <tr>\n",
       "      <th>49</th>\n",
       "      <td>KEN YEE</td>\n",
       "      <td>LIEUTENANT, FIRE DEPARTMENT</td>\n",
       "      <td>137729.92</td>\n",
       "      <td>89856.01</td>\n",
       "      <td>20848.46</td>\n",
       "      <td>25060.072463</td>\n",
       "      <td>248434.39</td>\n",
       "      <td>248434.39</td>\n",
       "      <td>2011</td>\n",
       "      <td>police</td>\n",
       "      <td>male</td>\n",
       "      <td>20</td>\n",
       "      <td>1</td>\n",
       "    </tr>\n",
       "    <tr>\n",
       "      <th>50</th>\n",
       "      <td>KIRK RICHARDSON</td>\n",
       "      <td>BATTALION CHIEF, (FIRE DEPARTMENT)</td>\n",
       "      <td>168692.59</td>\n",
       "      <td>58084.86</td>\n",
       "      <td>20477.16</td>\n",
       "      <td>25060.072463</td>\n",
       "      <td>247254.61</td>\n",
       "      <td>247254.61</td>\n",
       "      <td>2011</td>\n",
       "      <td>fire</td>\n",
       "      <td>male</td>\n",
       "      <td>11</td>\n",
       "      <td>1</td>\n",
       "    </tr>\n",
       "    <tr>\n",
       "      <th>51</th>\n",
       "      <td>BARBARA GARCIA</td>\n",
       "      <td>DEPARTMENT HEAD V</td>\n",
       "      <td>246305.62</td>\n",
       "      <td>0.00</td>\n",
       "      <td>0.00</td>\n",
       "      <td>25060.072463</td>\n",
       "      <td>246305.62</td>\n",
       "      <td>246305.62</td>\n",
       "      <td>2011</td>\n",
       "      <td>other</td>\n",
       "      <td>female</td>\n",
       "      <td>19</td>\n",
       "      <td>0</td>\n",
       "    </tr>\n",
       "  </tbody>\n",
       "</table>\n",
       "</div>"
      ],
      "text/plain": [
       "            EmployeeName                                          JobTitle  \\\n",
       "0         NATHANIEL FORD    GENERAL MANAGER-METROPOLITAN TRANSIT AUTHORITY   \n",
       "1           GARY JIMENEZ                   CAPTAIN III (POLICE DEPARTMENT)   \n",
       "2         ALBERT PARDINI                   CAPTAIN III (POLICE DEPARTMENT)   \n",
       "3      CHRISTOPHER CHONG              WIRE ROPE CABLE MAINTENANCE MECHANIC   \n",
       "4        PATRICK GARDNER      DEPUTY CHIEF OF DEPARTMENT,(FIRE DEPARTMENT)   \n",
       "5         DAVID SULLIVAN                         ASSISTANT DEPUTY CHIEF II   \n",
       "7          DAVID KUSHNER                    DEPUTY DIRECTOR OF INVESTMENTS   \n",
       "8         MICHAEL MORRIS                BATTALION CHIEF, (FIRE DEPARTMENT)   \n",
       "9     JOANNE HAYES-WHITE            CHIEF OF DEPARTMENT, (FIRE DEPARTMENT)   \n",
       "10         ARTHUR KENNEY  ASSISTANT CHIEF OF DEPARTMENT, (FIRE DEPARTMENT)   \n",
       "11      PATRICIA JACKSON                   CAPTAIN III (POLICE DEPARTMENT)   \n",
       "12     EDWARD HARRINGTON                       EXECUTIVE CONTRACT EMPLOYEE   \n",
       "13           JOHN MARTIN                                 DEPARTMENT HEAD V   \n",
       "14        DAVID FRANKLIN                BATTALION CHIEF, (FIRE DEPARTMENT)   \n",
       "15       RICHARD CORRIEA                COMMANDER III, (POLICE DEPARTMENT)   \n",
       "16              AMY HART                                 DEPARTMENT HEAD V   \n",
       "17        SEBASTIAN WONG             CAPTAIN, EMERGENCYCY MEDICAL SERVICES   \n",
       "18            MARTY ROSS                BATTALION CHIEF, (FIRE DEPARTMENT)   \n",
       "19         ELLEN MOFFATT                        ASSISTANT MEDICAL EXAMINER   \n",
       "20            VENUS AZAR                        ASSISTANT MEDICAL EXAMINER   \n",
       "21          JUDY MELINEK                        ASSISTANT MEDICAL EXAMINER   \n",
       "22         GEORGE GARCIA                         CAPTAIN, FIRE SUPPRESSION   \n",
       "23         VICTOR WYRSCH                BATTALION CHIEF, (FIRE DEPARTMENT)   \n",
       "24       JOSEPH DRISCOLL                         CAPTAIN, FIRE SUPPRESSION   \n",
       "25          GREGORY SUHR                                   CHIEF OF POLICE   \n",
       "26           JOHN HANLEY                         CAPTAIN, FIRE SUPPRESSION   \n",
       "27        RAYMOND GUZMAN                BATTALION CHIEF, (FIRE DEPARTMENT)   \n",
       "28        DENISE SCHMITT              DEPUTY CHIEF III (POLICE DEPARTMENT)   \n",
       "29         MONICA FIELDS      DEPUTY CHIEF OF DEPARTMENT,(FIRE DEPARTMENT)   \n",
       "30       HARLAN KELLY-JR                       EXECUTIVE CONTRACT EMPLOYEE   \n",
       "31           DAVID SHINN              DEPUTY CHIEF III (POLICE DEPARTMENT)   \n",
       "32           GARY AMELIO                                 DEPARTMENT HEAD V   \n",
       "33            JOHN TURSI                INSPECTOR III, (POLICE DEPARTMENT)   \n",
       "34             JOSE VELO                BATTALION CHIEF, (FIRE DEPARTMENT)   \n",
       "36          SUSAN CURRIN                ADMINISTRATOR, SFGH MEDICAL CENTER   \n",
       "37           JAMES BOSCH                INSPECTOR III, (POLICE DEPARTMENT)   \n",
       "38            JONES WONG                LIEUTENANT III (POLICE DEPARTMENT)   \n",
       "39          BRENDAN WARD                BATTALION CHIEF, (FIRE DEPARTMENT)   \n",
       "40      MICHAEL THOMPSON                BATTALION CHIEF, (FIRE DEPARTMENT)   \n",
       "41         THOMAS ABBOTT                BATTALION CHIEF, (FIRE DEPARTMENT)   \n",
       "42       THOMAS SIRAGUSA      DEPUTY CHIEF OF DEPARTMENT,(FIRE DEPARTMENT)   \n",
       "43      MICHAEL THOMPSON                                       FIREFIGHTER   \n",
       "44  SHARON MCCOLE WICHER                    NURSING SUPERVISOR PSYCHIATRIC   \n",
       "45             EDWIN LEE                                             MAYOR   \n",
       "46      BRYAN RUBENSTEIN                BATTALION CHIEF, (FIRE DEPARTMENT)   \n",
       "47          TRENT RHORER                                 DEPARTMENT HEAD V   \n",
       "48          JAMES DUDLEY              DEPUTY CHIEF III (POLICE DEPARTMENT)   \n",
       "49               KEN YEE                       LIEUTENANT, FIRE DEPARTMENT   \n",
       "50       KIRK RICHARDSON                BATTALION CHIEF, (FIRE DEPARTMENT)   \n",
       "51        BARBARA GARCIA                                 DEPARTMENT HEAD V   \n",
       "\n",
       "      BasePay  OvertimePay   OtherPay      Benefits   TotalPay  \\\n",
       "0   167411.18         0.00  400184.25  25060.072463  567595.43   \n",
       "1   155966.02    245131.88  137811.38  25060.072463  538909.28   \n",
       "2   212739.13    106088.18   16452.60  25060.072463  335279.91   \n",
       "3    77916.00     56120.71  198306.90  25060.072463  332343.61   \n",
       "4   134401.60      9737.00  182234.59  25060.072463  326373.19   \n",
       "5   118602.00      8601.00  189082.74  25060.072463  316285.74   \n",
       "7   256576.96         0.00   51322.50  25060.072463  307899.46   \n",
       "8   176932.64     86362.68   40132.23  25060.072463  303427.55   \n",
       "9   285262.00         0.00   17115.73  25060.072463  302377.73   \n",
       "10  194999.39     71344.88   33149.90  25060.072463  299494.17   \n",
       "11   99722.00     87082.62  110804.30  25060.072463  297608.92   \n",
       "12  294580.02         0.00       0.00  25060.072463  294580.02   \n",
       "13  271329.03         0.00   21342.59  25060.072463  292671.62   \n",
       "14  174872.64     74050.30   37424.11  25060.072463  286347.05   \n",
       "15  198778.01     73478.20   13957.65  25060.072463  286213.86   \n",
       "16  268604.57         0.00   16115.86  25060.072463  284720.43   \n",
       "17  140546.87    119397.26   18625.08  25060.072463  278569.21   \n",
       "18  168692.63     69626.12   38115.47  25060.072463  276434.22   \n",
       "19  257510.59       880.16   16159.50  25060.072463  274550.25   \n",
       "20  257510.48         0.00   16679.79  25060.072463  274190.27   \n",
       "21  257510.44       377.21   15883.56  25060.072463  273771.21   \n",
       "22  140546.88     93200.58   39955.25  25060.072463  273702.71   \n",
       "23  168692.63     77896.14   24083.86  25060.072463  270672.63   \n",
       "24  140546.86     97868.77   31909.28  25060.072463  270324.91   \n",
       "25  256470.41         0.00   11522.18  25060.072463  267992.59   \n",
       "26   92080.80     40008.00  133695.76  25060.072463  265784.56   \n",
       "27  168692.59     80706.88   16063.99  25060.072463  265463.46   \n",
       "28  261717.60         0.00    2357.00  25060.072463  264074.60   \n",
       "29  246225.60         0.00   15140.54  25060.072463  261366.14   \n",
       "30  234325.02         0.00   25972.64  25060.072463  260297.66   \n",
       "31  254027.63         0.00    5899.48  25060.072463  259927.11   \n",
       "32  248895.70         0.00   10789.18  25060.072463  259684.88   \n",
       "33  104861.39     50227.61  103499.39  25060.072463  258588.39   \n",
       "34  177781.25     59924.97   20658.00  25060.072463  258364.22   \n",
       "36  245124.44         0.00   12000.00  25060.072463  257124.44   \n",
       "37  110661.20     31162.04  111446.20  25060.072463  253269.44   \n",
       "38  132202.26     52648.92   67083.83  25060.072463  251935.01   \n",
       "39  147158.85     64985.85   39540.46  25060.072463  251685.16   \n",
       "40  168692.66     60847.56   21055.17  25060.072463  250595.39   \n",
       "41  168692.63     59760.90   21954.96  25060.072463  250408.49   \n",
       "42  218930.76      4078.00   27330.59  25060.072463  250339.35   \n",
       "43  123013.02    111729.65   15575.26  25060.072463  250317.93   \n",
       "44  196081.86         0.00   54040.18  25060.072463  250122.04   \n",
       "45  249375.02         0.00       0.00  25060.072463  249375.02   \n",
       "46  168692.64     66199.23   14401.43  25060.072463  249293.30   \n",
       "47  248895.77         0.00       0.00  25060.072463  248895.77   \n",
       "48  233867.60         0.00   14851.04  25060.072463  248718.64   \n",
       "49  137729.92     89856.01   20848.46  25060.072463  248434.39   \n",
       "50  168692.59     58084.86   20477.16  25060.072463  247254.61   \n",
       "51  246305.62         0.00       0.00  25060.072463  246305.62   \n",
       "\n",
       "    TotalPayBenefits  Year GeneralJobTitle  Gender  GeneralJobTitle_encoded  \\\n",
       "0          567595.43  2011         transit    male                       25   \n",
       "1          538909.28  2011          police    male                       20   \n",
       "2          335279.91  2011          police    male                       20   \n",
       "3          332343.61  2011      automotive    male                        6   \n",
       "4          326373.19  2011            fire    male                       11   \n",
       "5          316285.74  2011       assistant    male                        4   \n",
       "7          307899.46  2011           other    male                       19   \n",
       "8          303427.55  2011            fire    male                       11   \n",
       "9          302377.73  2011            fire  female                       11   \n",
       "10         299494.17  2011            fire    male                       11   \n",
       "11         297608.92  2011          police  female                       20   \n",
       "12         294580.02  2011           other    male                       19   \n",
       "13         292671.62  2011           other    male                       19   \n",
       "14         286347.05  2011            fire    male                       11   \n",
       "15         286213.86  2011          police    male                       20   \n",
       "16         284720.43  2011           other  female                       19   \n",
       "17         278569.21  2011         medical    male                       18   \n",
       "18         276434.22  2011            fire    male                       11   \n",
       "19         274550.25  2011       assistant  female                        4   \n",
       "20         274190.27  2011       assistant  female                        4   \n",
       "21         273771.21  2011       assistant  female                        4   \n",
       "22         273702.71  2011            fire    male                       11   \n",
       "23         270672.63  2011            fire    male                       11   \n",
       "24         270324.91  2011            fire    male                       11   \n",
       "25         267992.59  2011          police    male                       20   \n",
       "26         265784.56  2011            fire    male                       11   \n",
       "27         265463.46  2011            fire    male                       11   \n",
       "28         264074.60  2011          police  female                       20   \n",
       "29         261366.14  2011            fire  female                       11   \n",
       "30         260297.66  2011           other    male                       19   \n",
       "31         259927.11  2011          police    male                       20   \n",
       "32         259684.88  2011           other    male                       19   \n",
       "33         258588.39  2011          police    male                       20   \n",
       "34         258364.22  2011            fire    male                       11   \n",
       "36         257124.44  2011         medical  female                       18   \n",
       "37         253269.44  2011          police    male                       20   \n",
       "38         251935.01  2011          police    male                       20   \n",
       "39         251685.16  2011            fire    male                       11   \n",
       "40         250595.39  2011            fire    male                       11   \n",
       "41         250408.49  2011            fire    male                       11   \n",
       "42         250339.35  2011            fire    male                       11   \n",
       "43         250317.93  2011            fire    male                       11   \n",
       "44         250122.04  2011         medical  female                       18   \n",
       "45         249375.02  2011           other    male                       19   \n",
       "46         249293.30  2011            fire    male                       11   \n",
       "47         248895.77  2011           other    male                       19   \n",
       "48         248718.64  2011          police    male                       20   \n",
       "49         248434.39  2011          police    male                       20   \n",
       "50         247254.61  2011            fire    male                       11   \n",
       "51         246305.62  2011           other  female                       19   \n",
       "\n",
       "    Gender_encoded  \n",
       "0                1  \n",
       "1                1  \n",
       "2                1  \n",
       "3                1  \n",
       "4                1  \n",
       "5                1  \n",
       "7                1  \n",
       "8                1  \n",
       "9                0  \n",
       "10               1  \n",
       "11               0  \n",
       "12               1  \n",
       "13               1  \n",
       "14               1  \n",
       "15               1  \n",
       "16               0  \n",
       "17               1  \n",
       "18               1  \n",
       "19               0  \n",
       "20               0  \n",
       "21               0  \n",
       "22               1  \n",
       "23               1  \n",
       "24               1  \n",
       "25               1  \n",
       "26               1  \n",
       "27               1  \n",
       "28               0  \n",
       "29               0  \n",
       "30               1  \n",
       "31               1  \n",
       "32               1  \n",
       "33               1  \n",
       "34               1  \n",
       "36               0  \n",
       "37               1  \n",
       "38               1  \n",
       "39               1  \n",
       "40               1  \n",
       "41               1  \n",
       "42               1  \n",
       "43               1  \n",
       "44               0  \n",
       "45               1  \n",
       "46               1  \n",
       "47               1  \n",
       "48               1  \n",
       "49               1  \n",
       "50               1  \n",
       "51               0  "
      ]
     },
     "execution_count": 36,
     "metadata": {},
     "output_type": "execute_result"
    }
   ],
   "source": [
    "df.head(50)"
   ]
  },
  {
   "cell_type": "code",
   "execution_count": 37,
   "id": "4a468ea3",
   "metadata": {},
   "outputs": [
    {
     "name": "stdout",
     "output_type": "stream",
     "text": [
      "         GeneralJobTitle  JobTitleCode  Gender  GenderCode\n",
      "0                transit            25    male           1\n",
      "1                 police            20    male           1\n",
      "3             automotive             6    male           1\n",
      "4                   fire            11    male           1\n",
      "5              assistant             4    male           1\n",
      "7                  other            19    male           1\n",
      "9                   fire            11  female           0\n",
      "11                police            20  female           0\n",
      "16                 other            19  female           0\n",
      "17               medical            18    male           1\n",
      "19             assistant             4  female           0\n",
      "36               medical            18  female           0\n",
      "70              attorney             5    male           1\n",
      "87               manager            17    male           1\n",
      "88               transit            25  female           0\n",
      "138             attorney             5  female           0\n",
      "162              manager            17  female           0\n",
      "266      general laborer            14    male           1\n",
      "282         public works            22    male           1\n",
      "721             engineer            10    male           1\n",
      "824             engineer            10  female           0\n",
      "1021       social worker            24  female           0\n",
      "1159       social worker            24    male           1\n",
      "1725           architect             3  female           0\n",
      "1735           architect             3    male           1\n",
      "1803               court             8  female           0\n",
      "2176             analyst             2  female           0\n",
      "2916               court             8    male           1\n",
      "3444             library            16  female           0\n",
      "3565             analyst             2    male           1\n",
      "3845             airport             1    male           1\n",
      "5106        public works            22  female           0\n",
      "5889     general laborer            14  female           0\n",
      "7297             airport             1  female           0\n",
      "7444             account             0  female           0\n",
      "7949               clerk             7    male           1\n",
      "8157             account             0    male           1\n",
      "9542               clerk             7  female           0\n",
      "10562           gardener            13    male           1\n",
      "10915       food service            12    male           1\n",
      "11772            library            16    male           1\n",
      "12606              guard            15    male           1\n",
      "12989              guard            15  female           0\n",
      "13049             porter            21    male           1\n",
      "15054         automotive             6  female           0\n",
      "15177             porter            21  female           0\n",
      "15527  recreation leader            23  female           0\n",
      "15815  recreation leader            23    male           1\n",
      "16884       food service            12  female           0\n",
      "19144          custodian             9    male           1\n",
      "19245           gardener            13  female           0\n",
      "20735          custodian             9  female           0\n"
     ]
    }
   ],
   "source": [
    "df['JobTitleCode'] = df['GeneralJobTitle'].astype('category').cat.codes\n",
    "\n",
    "df['GenderCode'] = df['Gender'].astype('category').cat.codes\n",
    "\n",
    "print(df[['GeneralJobTitle', 'JobTitleCode', 'Gender', 'GenderCode']].drop_duplicates())\n"
   ]
  },
  {
   "cell_type": "code",
   "execution_count": 38,
   "id": "4f1a6d51",
   "metadata": {},
   "outputs": [
    {
     "data": {
      "text/html": [
       "<div>\n",
       "<style scoped>\n",
       "    .dataframe tbody tr th:only-of-type {\n",
       "        vertical-align: middle;\n",
       "    }\n",
       "\n",
       "    .dataframe tbody tr th {\n",
       "        vertical-align: top;\n",
       "    }\n",
       "\n",
       "    .dataframe thead th {\n",
       "        text-align: right;\n",
       "    }\n",
       "</style>\n",
       "<table border=\"1\" class=\"dataframe\">\n",
       "  <thead>\n",
       "    <tr style=\"text-align: right;\">\n",
       "      <th></th>\n",
       "      <th>BasePay</th>\n",
       "      <th>OvertimePay</th>\n",
       "      <th>OtherPay</th>\n",
       "      <th>Benefits</th>\n",
       "      <th>TotalPay</th>\n",
       "      <th>TotalPayBenefits</th>\n",
       "      <th>Year</th>\n",
       "      <th>GeneralJobTitle_encoded</th>\n",
       "      <th>Gender_encoded</th>\n",
       "    </tr>\n",
       "  </thead>\n",
       "  <tbody>\n",
       "    <tr>\n",
       "      <th>0</th>\n",
       "      <td>167411.18</td>\n",
       "      <td>0.00</td>\n",
       "      <td>400184.25</td>\n",
       "      <td>25060.072463</td>\n",
       "      <td>567595.43</td>\n",
       "      <td>567595.43</td>\n",
       "      <td>2011</td>\n",
       "      <td>25</td>\n",
       "      <td>1</td>\n",
       "    </tr>\n",
       "    <tr>\n",
       "      <th>1</th>\n",
       "      <td>155966.02</td>\n",
       "      <td>245131.88</td>\n",
       "      <td>137811.38</td>\n",
       "      <td>25060.072463</td>\n",
       "      <td>538909.28</td>\n",
       "      <td>538909.28</td>\n",
       "      <td>2011</td>\n",
       "      <td>20</td>\n",
       "      <td>1</td>\n",
       "    </tr>\n",
       "    <tr>\n",
       "      <th>2</th>\n",
       "      <td>212739.13</td>\n",
       "      <td>106088.18</td>\n",
       "      <td>16452.60</td>\n",
       "      <td>25060.072463</td>\n",
       "      <td>335279.91</td>\n",
       "      <td>335279.91</td>\n",
       "      <td>2011</td>\n",
       "      <td>20</td>\n",
       "      <td>1</td>\n",
       "    </tr>\n",
       "    <tr>\n",
       "      <th>3</th>\n",
       "      <td>77916.00</td>\n",
       "      <td>56120.71</td>\n",
       "      <td>198306.90</td>\n",
       "      <td>25060.072463</td>\n",
       "      <td>332343.61</td>\n",
       "      <td>332343.61</td>\n",
       "      <td>2011</td>\n",
       "      <td>6</td>\n",
       "      <td>1</td>\n",
       "    </tr>\n",
       "    <tr>\n",
       "      <th>4</th>\n",
       "      <td>134401.60</td>\n",
       "      <td>9737.00</td>\n",
       "      <td>182234.59</td>\n",
       "      <td>25060.072463</td>\n",
       "      <td>326373.19</td>\n",
       "      <td>326373.19</td>\n",
       "      <td>2011</td>\n",
       "      <td>11</td>\n",
       "      <td>1</td>\n",
       "    </tr>\n",
       "    <tr>\n",
       "      <th>...</th>\n",
       "      <td>...</td>\n",
       "      <td>...</td>\n",
       "      <td>...</td>\n",
       "      <td>...</td>\n",
       "      <td>...</td>\n",
       "      <td>...</td>\n",
       "      <td>...</td>\n",
       "      <td>...</td>\n",
       "      <td>...</td>\n",
       "    </tr>\n",
       "    <tr>\n",
       "      <th>312877</th>\n",
       "      <td>0.00</td>\n",
       "      <td>0.00</td>\n",
       "      <td>0.00</td>\n",
       "      <td>0.000000</td>\n",
       "      <td>0.00</td>\n",
       "      <td>0.00</td>\n",
       "      <td>2018</td>\n",
       "      <td>22</td>\n",
       "      <td>1</td>\n",
       "    </tr>\n",
       "    <tr>\n",
       "      <th>312878</th>\n",
       "      <td>0.00</td>\n",
       "      <td>0.00</td>\n",
       "      <td>0.00</td>\n",
       "      <td>0.000000</td>\n",
       "      <td>0.00</td>\n",
       "      <td>0.00</td>\n",
       "      <td>2018</td>\n",
       "      <td>20</td>\n",
       "      <td>1</td>\n",
       "    </tr>\n",
       "    <tr>\n",
       "      <th>312879</th>\n",
       "      <td>0.00</td>\n",
       "      <td>0.00</td>\n",
       "      <td>0.00</td>\n",
       "      <td>0.000000</td>\n",
       "      <td>0.00</td>\n",
       "      <td>0.00</td>\n",
       "      <td>2018</td>\n",
       "      <td>22</td>\n",
       "      <td>0</td>\n",
       "    </tr>\n",
       "    <tr>\n",
       "      <th>312880</th>\n",
       "      <td>0.00</td>\n",
       "      <td>0.00</td>\n",
       "      <td>0.00</td>\n",
       "      <td>0.000000</td>\n",
       "      <td>0.00</td>\n",
       "      <td>0.00</td>\n",
       "      <td>2018</td>\n",
       "      <td>20</td>\n",
       "      <td>1</td>\n",
       "    </tr>\n",
       "    <tr>\n",
       "      <th>312881</th>\n",
       "      <td>0.00</td>\n",
       "      <td>0.00</td>\n",
       "      <td>0.00</td>\n",
       "      <td>0.000000</td>\n",
       "      <td>0.00</td>\n",
       "      <td>0.00</td>\n",
       "      <td>2018</td>\n",
       "      <td>23</td>\n",
       "      <td>0</td>\n",
       "    </tr>\n",
       "  </tbody>\n",
       "</table>\n",
       "<p>267109 rows × 9 columns</p>\n",
       "</div>"
      ],
      "text/plain": [
       "          BasePay  OvertimePay   OtherPay      Benefits   TotalPay  \\\n",
       "0       167411.18         0.00  400184.25  25060.072463  567595.43   \n",
       "1       155966.02    245131.88  137811.38  25060.072463  538909.28   \n",
       "2       212739.13    106088.18   16452.60  25060.072463  335279.91   \n",
       "3        77916.00     56120.71  198306.90  25060.072463  332343.61   \n",
       "4       134401.60      9737.00  182234.59  25060.072463  326373.19   \n",
       "...           ...          ...        ...           ...        ...   \n",
       "312877       0.00         0.00       0.00      0.000000       0.00   \n",
       "312878       0.00         0.00       0.00      0.000000       0.00   \n",
       "312879       0.00         0.00       0.00      0.000000       0.00   \n",
       "312880       0.00         0.00       0.00      0.000000       0.00   \n",
       "312881       0.00         0.00       0.00      0.000000       0.00   \n",
       "\n",
       "        TotalPayBenefits  Year  GeneralJobTitle_encoded  Gender_encoded  \n",
       "0              567595.43  2011                       25               1  \n",
       "1              538909.28  2011                       20               1  \n",
       "2              335279.91  2011                       20               1  \n",
       "3              332343.61  2011                        6               1  \n",
       "4              326373.19  2011                       11               1  \n",
       "...                  ...   ...                      ...             ...  \n",
       "312877              0.00  2018                       22               1  \n",
       "312878              0.00  2018                       20               1  \n",
       "312879              0.00  2018                       22               0  \n",
       "312880              0.00  2018                       20               1  \n",
       "312881              0.00  2018                       23               0  \n",
       "\n",
       "[267109 rows x 9 columns]"
      ]
     },
     "execution_count": 38,
     "metadata": {},
     "output_type": "execute_result"
    }
   ],
   "source": [
    "df_modeling=df[[ 'BasePay', 'OvertimePay', 'OtherPay',\n",
    "       'Benefits', 'TotalPay', 'TotalPayBenefits', 'Year',\n",
    "        'GeneralJobTitle_encoded','Gender_encoded']]\n",
    "df_modeling"
   ]
  },
  {
   "cell_type": "code",
   "execution_count": 39,
   "id": "fbb9dacd",
   "metadata": {},
   "outputs": [],
   "source": [
    "# The code snippet we provided is using the train_test_split function from the sklearn.model_selection module \n",
    "# to split the data into training and testing sets for modeling purposes.\n",
    "\n",
    "from sklearn.model_selection import train_test_split\n",
    "X = df_modeling.iloc[:, 0:8].values\n",
    "y = df_modeling.iloc[:, 8].values\n",
    "X_train, X_test, y_train, y_test = train_test_split(X, y, test_size = 0.2, random_state = 0)"
   ]
  },
  {
   "cell_type": "code",
   "execution_count": 40,
   "id": "966d7229",
   "metadata": {},
   "outputs": [],
   "source": [
    "# The code snippet we provided is using the StandardScaler class from the sklearn.preprocessing module\n",
    "# to standardize the feature data.\n",
    "\n",
    "from sklearn.preprocessing import StandardScaler\n",
    "sc = StandardScaler()\n",
    " \n",
    "X_train = sc.fit_transform(X_train)\n",
    "X_test = sc.transform(X_test)"
   ]
  },
  {
   "cell_type": "code",
   "execution_count": 41,
   "id": "2b374a9e",
   "metadata": {},
   "outputs": [],
   "source": [
    "# The code snippet you provided is applying Principal Component Analysis (PCA) \n",
    "# to reduce the dimensionality of the feature data.\n",
    "\n",
    "# Applying PCA function on training\n",
    "# and testing set of X component\n",
    "from sklearn.decomposition import PCA\n",
    " \n",
    "pca = PCA(n_components = 2)\n",
    " \n",
    "X_train = pca.fit_transform(X_train)\n",
    "X_test = pca.transform(X_test)\n",
    " \n",
    "explained_variance = pca.explained_variance_ratio_"
   ]
  },
  {
   "cell_type": "code",
   "execution_count": 42,
   "id": "f3470a6c",
   "metadata": {},
   "outputs": [
    {
     "name": "stdout",
     "output_type": "stream",
     "text": [
      "[0.51930672 0.14158377]\n"
     ]
    }
   ],
   "source": [
    "print(explained_variance\n",
    "    )"
   ]
  },
  {
   "cell_type": "code",
   "execution_count": 43,
   "id": "a54dd67c",
   "metadata": {},
   "outputs": [
    {
     "data": {
      "text/plain": [
       "LogisticRegression(random_state=0)"
      ]
     },
     "execution_count": 43,
     "metadata": {},
     "output_type": "execute_result"
    }
   ],
   "source": [
    "# The code snippet you provided is applying Logistic Regression \n",
    "# to the transformed training data (X_train) and corresponding target labels (y_train).\n",
    "\n",
    "from sklearn.linear_model import LogisticRegression \n",
    " \n",
    "classifier = LogisticRegression(random_state = 0)\n",
    "classifier.fit(X_train, y_train)"
   ]
  },
  {
   "cell_type": "code",
   "execution_count": 44,
   "id": "175a8691",
   "metadata": {},
   "outputs": [],
   "source": [
    "# The code snippet y_pred_logisticRegression = classifier.predict(X_test) is using the trained logistic regression \n",
    "# model (classifier) to make predictions on the test data (X_test).\n",
    "\n",
    "# Predicting the test set result using\n",
    "# predict function under LogisticRegression\n",
    "y_pred_logisticRegression = classifier.predict(X_test)"
   ]
  },
  {
   "cell_type": "code",
   "execution_count": 45,
   "id": "7775f3f3",
   "metadata": {},
   "outputs": [
    {
     "data": {
      "image/png": "[encoded data removed]",
      "text/plain": [
       "<Figure size 640x480 with 2 Axes>"
      ]
     },
     "metadata": {},
     "output_type": "display_data"
    }
   ],
   "source": [
    "# The resulting confusion matrix plot provides insights into the performance of the logistic regression model \n",
    "# by visualizing the true positive, true negative, false positive, and false negative predictions.\n",
    "\n",
    "# making confusion matrix between\n",
    "#  test set of Y and predicted value.\n",
    "from sklearn.metrics import confusion_matrix\n",
    "from sklearn.metrics import ConfusionMatrixDisplay\n",
    "\n",
    "cm = confusion_matrix(y_test, y_pred_logisticRegression)\n",
    "cm_display = ConfusionMatrixDisplay(cm).plot()"
   ]
  },
  {
   "cell_type": "code",
   "execution_count": 46,
   "id": "031eb8af",
   "metadata": {},
   "outputs": [
    {
     "data": {
      "text/plain": [
       "0.591947137883269"
      ]
     },
     "execution_count": 46,
     "metadata": {},
     "output_type": "execute_result"
    }
   ],
   "source": [
    "# The code snippet is using the accuracy_score function from scikit-learn's metrics module \n",
    "# to calculate the accuracy of the logistic regression model's predictions.\n",
    "\n",
    "from sklearn.metrics import accuracy_score\n",
    "accuracy_score(y_test, y_pred_logisticRegression)"
   ]
  },
  {
   "cell_type": "code",
   "execution_count": 47,
   "id": "dd78f992",
   "metadata": {},
   "outputs": [
    {
     "data": {
      "text/plain": [
       "RandomForestClassifier()"
      ]
     },
     "execution_count": 47,
     "metadata": {},
     "output_type": "execute_result"
    }
   ],
   "source": [
    "from sklearn.ensemble import RandomForestClassifier\n",
    "RandomForest=RandomForestClassifier()\n",
    "RandomForest.fit(X_train,y_train)"
   ]
  },
  {
   "cell_type": "code",
   "execution_count": 48,
   "id": "fb996510",
   "metadata": {},
   "outputs": [],
   "source": [
    "y_pred_randomForest = RandomForest.predict(X_test)"
   ]
  },
  {
   "cell_type": "code",
   "execution_count": 49,
   "id": "a73e4f87",
   "metadata": {},
   "outputs": [
    {
     "data": {
      "image/png": "[encoded data removed]",
      "text/plain": [
       "<Figure size 640x480 with 2 Axes>"
      ]
     },
     "metadata": {},
     "output_type": "display_data"
    }
   ],
   "source": [
    "# The code snippet is using the Random Forest Classifier from scikit-learn to train a random forest model.\n",
    "\n",
    "from sklearn.metrics import confusion_matrix\n",
    "from sklearn.metrics import ConfusionMatrixDisplay \n",
    "cm = confusion_matrix(y_test, y_pred_randomForest)\n",
    "cm_display = ConfusionMatrixDisplay(cm).plot()"
   ]
  },
  {
   "cell_type": "code",
   "execution_count": 50,
   "id": "ff86c846",
   "metadata": {},
   "outputs": [
    {
     "data": {
      "text/plain": [
       "0.602485867245704"
      ]
     },
     "execution_count": 50,
     "metadata": {},
     "output_type": "execute_result"
    }
   ],
   "source": [
    "# To calculate the accuracy score of the Random Forest Classifier model on the test set, \n",
    "# you can use the accuracy_score function from scikit-learn.\n",
    "\n",
    "from sklearn.metrics import accuracy_score\n",
    "accuracy_score(y_test,y_pred_randomForest )"
   ]
  }
 ],
 "metadata": {
  "kernelspec": {
   "display_name": "Python 3 (ipykernel)",
   "language": "python",
   "name": "python3"
  },
  "language_info": {
   "codemirror_mode": {
    "name": "ipython",
    "version": 3
   },
   "file_extension": ".py",
   "mimetype": "text/x-python",
   "name": "python",
   "nbconvert_exporter": "python",
   "pygments_lexer": "ipython3",
   "version": "3.9.13"
  }
 },
 "nbformat": 4,
 "nbformat_minor": 5
}
